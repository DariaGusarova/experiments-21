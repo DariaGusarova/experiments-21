{
 "cells": [
  {
   "cell_type": "code",
   "execution_count": 2,
   "metadata": {},
   "outputs": [],
   "source": [
    "import numpy as np"
   ]
  },
  {
   "cell_type": "code",
   "execution_count": 3,
   "metadata": {},
   "outputs": [
    {
     "data": {
      "text/plain": [
       "'stats.txt'"
      ]
     },
     "execution_count": 3,
     "metadata": {},
     "output_type": "execute_result"
    }
   ],
   "source": [
    "'stats.txt'"
   ]
  },
  {
   "cell_type": "code",
   "execution_count": 4,
   "metadata": {},
   "outputs": [],
   "source": [
    "path = 'stats/'\n",
    "files = ['stats-2.txt', 'stats2.txt', 'stats3.txt']\n",
    "f_out = open('Adam/Adam(bias_in_multihead).txt', 'w')\n",
    "\n",
    "for i in range(len(files)):\n",
    "    f = open(path + files[i], 'r')\n",
    "    for line in f:\n",
    "        print(line.strip(), file=f_out)\n",
    "    f.close()\n",
    "f_out.close()    "
   ]
  },
  {
   "cell_type": "code",
   "execution_count": 5,
   "metadata": {},
   "outputs": [],
   "source": [
    "files = ['stats-3.txt', 'stats2-2.txt', 'stats3-2.txt', 'stats4.txt']\n",
    "f_out = open('Adam/Adam(nobias_in_multihead).txt', 'w')\n",
    "\n",
    "for i in range(len(files)):\n",
    "    f = open(path + files[i], 'r')\n",
    "    for line in f:\n",
    "        print(line.strip(), file=f_out)\n",
    "    f.close()\n",
    "f_out.close()  "
   ]
  },
  {
   "cell_type": "code",
   "execution_count": null,
   "metadata": {},
   "outputs": [],
   "source": []
  }
 ],
 "metadata": {
  "kernelspec": {
   "display_name": "Python 3",
   "language": "python",
   "name": "python3"
  },
  "language_info": {
   "codemirror_mode": {
    "name": "ipython",
    "version": 3
   },
   "file_extension": ".py",
   "mimetype": "text/x-python",
   "name": "python",
   "nbconvert_exporter": "python",
   "pygments_lexer": "ipython3",
   "version": "3.7.1"
  }
 },
 "nbformat": 4,
 "nbformat_minor": 2
}
