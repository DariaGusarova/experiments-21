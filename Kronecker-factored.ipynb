{
 "cells": [
  {
   "cell_type": "code",
   "execution_count": 1,
   "metadata": {
    "id": "bb1iF91yAx1z"
   },
   "outputs": [],
   "source": [
    "import numpy as np\n",
    "import pandas as pd\n",
    "import torch\n",
    "import torch.nn as nn\n",
    "from torch.optim.lr_scheduler import LambdaLR\n",
    "from transformer_for_k_fac_variant import MultiHeadAttention, FeedForward, EncoderBlock, Encoder, DecoderBlock, Decoder, PositionalEncoding  \n",
    "from copy import deepcopy\n",
    "import time \n",
    "import matplotlib.pyplot as plt\n",
    "\n",
    "%matplotlib inline"
   ]
  },
  {
   "cell_type": "code",
   "execution_count": null,
   "metadata": {
    "colab": {
     "base_uri": "https://localhost:8080/"
    },
    "id": "zaDIBwWgAx13",
    "outputId": "524791dc-722d-4fb5-d9c9-7725c8adbeaf"
   },
   "outputs": [
    {
     "name": "stdout",
     "output_type": "stream",
     "text": [
      "Using device: cuda\n"
     ]
    }
   ],
   "source": [
    "device = torch.device('cuda' if torch.cuda.is_available() else 'cpu')\n",
    "print('Using device:', device)"
   ]
  },
  {
   "cell_type": "code",
   "execution_count": null,
   "metadata": {
    "colab": {
     "base_uri": "https://localhost:8080/"
    },
    "id": "_yYRzikoBAS3",
    "outputId": "201fca6d-0645-4d8e-c121-c62e74ffb12a"
   },
   "outputs": [
    {
     "name": "stdout",
     "output_type": "stream",
     "text": [
      "Mounted at /content/drive\n"
     ]
    }
   ],
   "source": [
    "from google.colab import drive\n",
    "drive.mount('/content/drive')"
   ]
  },
  {
   "cell_type": "code",
   "execution_count": null,
   "metadata": {
    "id": "Zh6-6IRHAx14"
   },
   "outputs": [],
   "source": [
    "path = \"drive/MyDrive/WMT14/English-German/\""
   ]
  },
  {
   "cell_type": "markdown",
   "metadata": {
    "id": "8Ta_CkiHAx15"
   },
   "source": [
    "## Blocks check"
   ]
  },
  {
   "cell_type": "code",
   "execution_count": null,
   "metadata": {
    "colab": {
     "base_uri": "https://localhost:8080/"
    },
    "id": "R5HpL6Y9Bnyd",
    "outputId": "1a56df3a-365e-454b-e6e1-34c9bbff0d1e"
   },
   "outputs": [
    {
     "data": {
      "text/plain": [
       "device(type='cuda')"
      ]
     },
     "execution_count": 9,
     "metadata": {
      "tags": []
     },
     "output_type": "execute_result"
    }
   ],
   "source": [
    "device"
   ]
  },
  {
   "cell_type": "code",
   "execution_count": null,
   "metadata": {
    "colab": {
     "base_uri": "https://localhost:8080/"
    },
    "id": "ozHkb3fAAx15",
    "outputId": "d801d252-f37d-4690-bad7-9f46ca45d009"
   },
   "outputs": [
    {
     "name": "stderr",
     "output_type": "stream",
     "text": [
      "/usr/local/lib/python3.7/dist-packages/ipykernel_launcher.py:28: UserWarning: This overload of add_ is deprecated:\n",
      "\tadd_(Number alpha, Tensor other)\n",
      "Consider using one of the following signatures instead:\n",
      "\tadd_(Tensor other, *, Number alpha) (Triggered internally at  /pytorch/torch/csrc/utils/python_arg_parser.cpp:1005.)\n",
      "/usr/local/lib/python3.7/dist-packages/torch/nn/modules/module.py:795: UserWarning: Using a non-full backward hook when the forward contains multiple autograd Nodes is deprecated and will be removed in future versions. This hook will be missing some grad_input. Please use register_full_backward_hook to get the documented behavior.\n",
      "  warnings.warn(\"Using a non-full backward hook when the forward contains multiple autograd Nodes \"\n"
     ]
    },
    {
     "data": {
      "text/plain": [
       "(0.1408557891845703, torch.Size([16, 28, 256]))"
      ]
     },
     "execution_count": 10,
     "metadata": {
      "tags": []
     },
     "output_type": "execute_result"
    }
   ],
   "source": [
    "batch_size, length, dmodel, dk, dv, dff, exp_eps = 16, 28, 256, 32, 32, 1024, 0.8\n",
    "tensor = torch.randn(batch_size, length, dmodel).to(device)\n",
    "\n",
    "model = MultiHeadAttention(exp_eps, dmodel=dmodel, dk=dk, dv=dv, qkv=True)\n",
    "model.to(device)\n",
    "start = time.time()\n",
    "curr = model(tensor, has_mask=True)\n",
    "end = time.time()\n",
    "end - start, curr.size()"
   ]
  },
  {
   "cell_type": "code",
   "execution_count": null,
   "metadata": {
    "colab": {
     "base_uri": "https://localhost:8080/"
    },
    "id": "EyZQ2Jq_7XA5",
    "outputId": "91b75162-5ecd-4206-c611-e3ef2cbf5138"
   },
   "outputs": [
    {
     "name": "stderr",
     "output_type": "stream",
     "text": [
      "/usr/local/lib/python3.7/dist-packages/torch/nn/modules/module.py:795: UserWarning: Using a non-full backward hook when the forward contains multiple autograd Nodes is deprecated and will be removed in future versions. This hook will be missing some grad_input. Please use register_full_backward_hook to get the documented behavior.\n",
      "  warnings.warn(\"Using a non-full backward hook when the forward contains multiple autograd Nodes \"\n"
     ]
    },
    {
     "data": {
      "text/plain": [
       "(0.007235527038574219, torch.Size([16, 28, 256]))"
      ]
     },
     "execution_count": 11,
     "metadata": {
      "tags": []
     },
     "output_type": "execute_result"
    }
   ],
   "source": [
    "batch_size, length, dmodel, dk, dv, dff, exp_eps = 16, 28, 256, 32, 32, 1024, 0.8\n",
    "tensor_q = torch.randn(batch_size, length, dmodel).to(device)\n",
    "tensor_kv = torch.randn(batch_size, length+2, dmodel).to(device)\n",
    "\n",
    "model = MultiHeadAttention(exp_eps, dmodel=dmodel, dk=dk, dv=dv, qkv=False)\n",
    "model.to(device)\n",
    "start = time.time()\n",
    "curr = model(tensor_kv, queries=tensor_q)\n",
    "end = time.time()\n",
    "end - start, curr.size()"
   ]
  },
  {
   "cell_type": "code",
   "execution_count": null,
   "metadata": {
    "colab": {
     "base_uri": "https://localhost:8080/"
    },
    "id": "rSzo2E-9Ax16",
    "outputId": "b76155d7-d45f-496a-d980-5db9d8e51626"
   },
   "outputs": [
    {
     "name": "stderr",
     "output_type": "stream",
     "text": [
      "/usr/local/lib/python3.7/dist-packages/torch/nn/modules/module.py:795: UserWarning: Using a non-full backward hook when the forward contains multiple autograd Nodes is deprecated and will be removed in future versions. This hook will be missing some grad_input. Please use register_full_backward_hook to get the documented behavior.\n",
      "  warnings.warn(\"Using a non-full backward hook when the forward contains multiple autograd Nodes \"\n"
     ]
    },
    {
     "data": {
      "text/plain": [
       "(0.047350168228149414, torch.Size([16, 28, 256]))"
      ]
     },
     "execution_count": 12,
     "metadata": {
      "tags": []
     },
     "output_type": "execute_result"
    }
   ],
   "source": [
    "model = FeedForward(exp_eps, dmodel=dmodel, dff=dff)\n",
    "model.to(device)\n",
    "start = time.time()\n",
    "curr = model(tensor)\n",
    "end = time.time()\n",
    "end - start, curr.size()"
   ]
  },
  {
   "cell_type": "code",
   "execution_count": null,
   "metadata": {
    "colab": {
     "base_uri": "https://localhost:8080/"
    },
    "id": "aHyv7JoyAx17",
    "outputId": "792e30eb-1982-4ba8-ba5b-504e0614c26f"
   },
   "outputs": [
    {
     "name": "stderr",
     "output_type": "stream",
     "text": [
      "/usr/local/lib/python3.7/dist-packages/torch/nn/modules/module.py:795: UserWarning: Using a non-full backward hook when the forward contains multiple autograd Nodes is deprecated and will be removed in future versions. This hook will be missing some grad_input. Please use register_full_backward_hook to get the documented behavior.\n",
      "  warnings.warn(\"Using a non-full backward hook when the forward contains multiple autograd Nodes \"\n"
     ]
    },
    {
     "data": {
      "text/plain": [
       "(0.0660712718963623, torch.Size([16, 28, 256]))"
      ]
     },
     "execution_count": 13,
     "metadata": {
      "tags": []
     },
     "output_type": "execute_result"
    }
   ],
   "source": [
    "model = EncoderBlock(exp_eps, dmodel=dmodel, dk=dk, dv=dv, dff=dff)\n",
    "model.to(device)\n",
    "start = time.time()\n",
    "curr = model(tensor)\n",
    "end = time.time()\n",
    "end - start, curr.size()"
   ]
  },
  {
   "cell_type": "code",
   "execution_count": null,
   "metadata": {
    "colab": {
     "base_uri": "https://localhost:8080/"
    },
    "id": "VlkPCLg6Ax19",
    "outputId": "d666d719-bbd6-46f7-c4c9-b2e901a6d578"
   },
   "outputs": [
    {
     "name": "stderr",
     "output_type": "stream",
     "text": [
      "/usr/local/lib/python3.7/dist-packages/torch/nn/modules/module.py:795: UserWarning: Using a non-full backward hook when the forward contains multiple autograd Nodes is deprecated and will be removed in future versions. This hook will be missing some grad_input. Please use register_full_backward_hook to get the documented behavior.\n",
      "  warnings.warn(\"Using a non-full backward hook when the forward contains multiple autograd Nodes \"\n"
     ]
    },
    {
     "data": {
      "text/plain": [
       "(0.16024994850158691, torch.Size([16, 28, 256]))"
      ]
     },
     "execution_count": 14,
     "metadata": {
      "tags": []
     },
     "output_type": "execute_result"
    }
   ],
   "source": [
    "model = Encoder(exp_eps, dmodel=dmodel, dk=dk, dv=dv, dff=dff)\n",
    "model.to(device)\n",
    "start = time.time()\n",
    "curr = model(tensor)\n",
    "end = time.time()\n",
    "end - start, curr.size()"
   ]
  },
  {
   "cell_type": "code",
   "execution_count": null,
   "metadata": {
    "colab": {
     "base_uri": "https://localhost:8080/"
    },
    "id": "OXhUN4PtAx1-",
    "outputId": "2733a78c-dda9-4164-ec01-3dca4209658d"
   },
   "outputs": [
    {
     "name": "stderr",
     "output_type": "stream",
     "text": [
      "/usr/local/lib/python3.7/dist-packages/torch/nn/modules/module.py:795: UserWarning: Using a non-full backward hook when the forward contains multiple autograd Nodes is deprecated and will be removed in future versions. This hook will be missing some grad_input. Please use register_full_backward_hook to get the documented behavior.\n",
      "  warnings.warn(\"Using a non-full backward hook when the forward contains multiple autograd Nodes \"\n"
     ]
    },
    {
     "data": {
      "text/plain": [
       "(0.047382354736328125, torch.Size([16, 31, 256]))"
      ]
     },
     "execution_count": 15,
     "metadata": {
      "tags": []
     },
     "output_type": "execute_result"
    }
   ],
   "source": [
    "model = DecoderBlock(exp_eps, dmodel=dmodel, dk=dk, dv=dv, dff=dff)\n",
    "model.to(device)\n",
    "tensor_y = torch.randn(batch_size, length+3, dmodel).to(device)\n",
    "start = time.time()\n",
    "curr = model(tensor, tensor_y)\n",
    "end = time.time()\n",
    "end - start, curr.size()"
   ]
  },
  {
   "cell_type": "code",
   "execution_count": null,
   "metadata": {
    "colab": {
     "base_uri": "https://localhost:8080/"
    },
    "id": "biFG8fmhAx1_",
    "outputId": "5dc73a6e-fd63-4ef5-e361-c83693f21d8a"
   },
   "outputs": [
    {
     "name": "stderr",
     "output_type": "stream",
     "text": [
      "/usr/local/lib/python3.7/dist-packages/torch/nn/modules/module.py:795: UserWarning: Using a non-full backward hook when the forward contains multiple autograd Nodes is deprecated and will be removed in future versions. This hook will be missing some grad_input. Please use register_full_backward_hook to get the documented behavior.\n",
      "  warnings.warn(\"Using a non-full backward hook when the forward contains multiple autograd Nodes \"\n"
     ]
    },
    {
     "data": {
      "text/plain": [
       "(0.1821904182434082, torch.Size([16, 31, 256]))"
      ]
     },
     "execution_count": 16,
     "metadata": {
      "tags": []
     },
     "output_type": "execute_result"
    }
   ],
   "source": [
    "model = Decoder(exp_eps, dmodel=dmodel, dk=dk, dv=dv, dff=dff)\n",
    "model.to(device)\n",
    "start = time.time()\n",
    "curr = model(tensor, tensor_y)\n",
    "end = time.time()\n",
    "end - start, curr.size()"
   ]
  },
  {
   "cell_type": "code",
   "execution_count": null,
   "metadata": {
    "colab": {
     "base_uri": "https://localhost:8080/"
    },
    "id": "_KpJDla1Ax2A",
    "outputId": "48c54d91-d3e5-48d2-d94c-86d8db8dcc26"
   },
   "outputs": [
    {
     "data": {
      "text/plain": [
       "(0.0039031505584716797, torch.Size([16, 28, 256]))"
      ]
     },
     "execution_count": 17,
     "metadata": {
      "tags": []
     },
     "output_type": "execute_result"
    }
   ],
   "source": [
    "model = PositionalEncoding(length, dmodel)\n",
    "model.to(device)\n",
    "start = time.time()\n",
    "curr = model(tensor)\n",
    "end = time.time()\n",
    "end - start, curr.size()"
   ]
  },
  {
   "cell_type": "markdown",
   "metadata": {
    "id": "KX80hlGOAx2C"
   },
   "source": [
    "## Word2Vec Matrix"
   ]
  },
  {
   "cell_type": "code",
   "execution_count": null,
   "metadata": {
    "id": "v6DxhXTHAx2C"
   },
   "outputs": [],
   "source": [
    "from gensim.models import Word2Vec\n",
    "from tqdm import tqdm_notebook"
   ]
  },
  {
   "cell_type": "code",
   "execution_count": null,
   "metadata": {
    "colab": {
     "base_uri": "https://localhost:8080/",
     "height": 193,
     "referenced_widgets": [
      "632ca68b6a6f49abab9853b0956f3b69",
      "4eb8df363d23484ba75b4d670d28fd93",
      "dffa602f51634328b067b1d85c9fc04a",
      "48df76d5162a4f61880524080464929f",
      "d342ea2d0e1f4111bc4cb7859d0f1d0f",
      "6f4219a4059b41b786b88043e6172522",
      "1becfaec8b3d4aa6b59c6a4fc3adb792",
      "fedf0d56e52641ff84d56bbbe2de5bca"
     ]
    },
    "id": "eHBfrEoZAx2D",
    "outputId": "f2825d13-1efb-446b-df79-5acb9fdbfec3"
   },
   "outputs": [
    {
     "name": "stderr",
     "output_type": "stream",
     "text": [
      "/usr/local/lib/python3.7/dist-packages/ipykernel_launcher.py:6: TqdmDeprecationWarning: This function will be removed in tqdm==5.0.0\n",
      "Please use `tqdm.notebook.tqdm` instead of `tqdm.tqdm_notebook`\n",
      "  \n"
     ]
    },
    {
     "data": {
      "application/vnd.jupyter.widget-view+json": {
       "model_id": "632ca68b6a6f49abab9853b0956f3b69",
       "version_major": 2,
       "version_minor": 0
      },
      "text/plain": [
       "HBox(children=(FloatProgress(value=1.0, bar_style='info', max=1.0), HTML(value='')))"
      ]
     },
     "metadata": {
      "tags": []
     },
     "output_type": "display_data"
    },
    {
     "name": "stderr",
     "output_type": "stream",
     "text": [
      "/usr/local/lib/python3.7/dist-packages/ipykernel_launcher.py:7: DeprecationWarning: Call to deprecated `__getitem__` (Method will be removed in 4.0.0, use self.wv.__getitem__() instead).\n",
      "  import sys\n"
     ]
    },
    {
     "name": "stdout",
     "output_type": "stream",
     "text": [
      "\n"
     ]
    },
    {
     "data": {
      "text/plain": [
       "((26034, 256), 26034)"
      ]
     },
     "execution_count": 19,
     "metadata": {
      "tags": []
     },
     "output_type": "execute_result"
    }
   ],
   "source": [
    "dmodel = 256\n",
    "model = Word2Vec.load(path + 'word2vec_en' + str(dmodel) + '.model')\n",
    "vocab_size = len(model.wv.vocab)\n",
    "weights_matrix_en = np.zeros((vocab_size, dmodel))\n",
    "en = {}\n",
    "for i, x in tqdm_notebook(enumerate(model.wv.vocab.keys())):\n",
    "    weights_matrix_en[i] = model[x]  \n",
    "    en[x] = i\n",
    "weights_matrix_en.shape, len(en)"
   ]
  },
  {
   "cell_type": "code",
   "execution_count": null,
   "metadata": {
    "colab": {
     "base_uri": "https://localhost:8080/",
     "height": 188,
     "referenced_widgets": [
      "7a47c84a0a94433686a5dbdc73e8c9d0",
      "105bfdcfb0bc4c3094f4d810dd0dcba1",
      "c89694fe25e64bd088eb8676685f84cf",
      "5b1af81b29ed42d7bddba5ed311b1e44",
      "c64aa7face6842c094efa63e87017cac",
      "2396572204b44f1aae4272446e03ab8d",
      "2857634c17d14745a23ee24e5734f64e",
      "225debfc7e0f4718b1303fb1daa41750"
     ]
    },
    "id": "0CNvTCuoAx2E",
    "outputId": "e2542d69-c242-4682-f08d-29eb5d5f6738"
   },
   "outputs": [
    {
     "name": "stderr",
     "output_type": "stream",
     "text": [
      "/usr/local/lib/python3.7/dist-packages/ipykernel_launcher.py:5: TqdmDeprecationWarning: This function will be removed in tqdm==5.0.0\n",
      "Please use `tqdm.notebook.tqdm` instead of `tqdm.tqdm_notebook`\n",
      "  \"\"\"\n"
     ]
    },
    {
     "data": {
      "application/vnd.jupyter.widget-view+json": {
       "model_id": "7a47c84a0a94433686a5dbdc73e8c9d0",
       "version_major": 2,
       "version_minor": 0
      },
      "text/plain": [
       "HBox(children=(FloatProgress(value=1.0, bar_style='info', max=1.0), HTML(value='')))"
      ]
     },
     "metadata": {
      "tags": []
     },
     "output_type": "display_data"
    },
    {
     "name": "stderr",
     "output_type": "stream",
     "text": [
      "/usr/local/lib/python3.7/dist-packages/ipykernel_launcher.py:6: DeprecationWarning: Call to deprecated `__getitem__` (Method will be removed in 4.0.0, use self.wv.__getitem__() instead).\n",
      "  \n"
     ]
    },
    {
     "name": "stdout",
     "output_type": "stream",
     "text": [
      "\n"
     ]
    },
    {
     "data": {
      "text/plain": [
       "((31797, 256), 31797)"
      ]
     },
     "execution_count": 20,
     "metadata": {
      "tags": []
     },
     "output_type": "execute_result"
    }
   ],
   "source": [
    "model = Word2Vec.load(path + 'word2vec_de' + str(dmodel) + '.model')\n",
    "vocab_size = len(model.wv.vocab)\n",
    "weights_matrix_de = np.zeros((vocab_size, dmodel))\n",
    "de = {}\n",
    "for i, x in tqdm_notebook(enumerate(model.wv.vocab.keys())):\n",
    "    weights_matrix_de[i] = model[x]   \n",
    "    de[x] = i\n",
    "weights_matrix_de.shape, len(de)"
   ]
  },
  {
   "cell_type": "markdown",
   "metadata": {
    "id": "uhgJfLPXAx2F"
   },
   "source": [
    "## Model"
   ]
  },
  {
   "cell_type": "code",
   "execution_count": null,
   "metadata": {
    "colab": {
     "base_uri": "https://localhost:8080/"
    },
    "id": "pwRHR55D3ZZ2",
    "outputId": "6ef9b64e-a5df-4222-fd5e-49e5c65dd1d0"
   },
   "outputs": [
    {
     "data": {
      "text/plain": [
       "(256, 32, 32, 1024)"
      ]
     },
     "execution_count": 21,
     "metadata": {
      "tags": []
     },
     "output_type": "execute_result"
    }
   ],
   "source": [
    "dmodel, dk, dv, dff"
   ]
  },
  {
   "cell_type": "code",
   "execution_count": null,
   "metadata": {
    "id": "Q3rRJvKtAx2G"
   },
   "outputs": [],
   "source": [
    "class Model(nn.Module):\n",
    "    def __init__(self, weights_matrix_en, weights_matrix_de, exp_eps, h=8, dmodel=512, dk=64, dv=64, dff=2048, pdropout=0.1):\n",
    "        super().__init__()\n",
    "        self.dmodel = dmodel\n",
    "        self.pdropout = pdropout\n",
    "        self.encoder = Encoder(exp_eps, h, dmodel, dk, dv, dff, pdropout)\n",
    "        self.decoder = Decoder(exp_eps, h, dmodel, dk, dv, dff, pdropout)\n",
    "        self.input_embedding = torch.tensor(weights_matrix_en, dtype=torch.float32, requires_grad=False).to(device)\n",
    "        self.output_embedding = torch.tensor(weights_matrix_de, dtype=torch.float32, requires_grad=False).to(device)\n",
    "    \n",
    "    def forward(self, inputs, outputs):\n",
    "        # input embedding\n",
    "        x_emb = torch.matmul(inputs, self.input_embedding) * np.sqrt(self.dmodel)\n",
    "        x_positionalenc = PositionalEncoding(x_emb.size()[1], self.dmodel)(x_emb) \n",
    "        x_dropout = nn.Dropout(p=self.pdropout)(x_positionalenc)\n",
    "        x_enc = self.encoder(x_dropout)\n",
    "        # output embedding\n",
    "        y_emb = torch.matmul(outputs, self.output_embedding) * np.sqrt(self.dmodel)\n",
    "        y_positionalenc = PositionalEncoding(outputs.size()[1], self.dmodel)(y_emb)\n",
    "        y_dropout = nn.Dropout(p=self.pdropout)(y_positionalenc)\n",
    "        dec = self.decoder(x_enc, y_dropout)\n",
    "        # linear \n",
    "        current = torch.matmul(dec, torch.transpose(self.output_embedding, 0, 1))\n",
    "        result = nn.LogSoftmax(dim=2)(current)\n",
    "        return result"
   ]
  },
  {
   "cell_type": "code",
   "execution_count": null,
   "metadata": {
    "colab": {
     "base_uri": "https://localhost:8080/"
    },
    "id": "v75IzcmWAx2G",
    "outputId": "66dec6b2-b238-412f-a26d-c1262d84e187"
   },
   "outputs": [
    {
     "name": "stderr",
     "output_type": "stream",
     "text": [
      "/usr/local/lib/python3.7/dist-packages/torch/nn/modules/module.py:795: UserWarning: Using a non-full backward hook when the forward contains multiple autograd Nodes is deprecated and will be removed in future versions. This hook will be missing some grad_input. Please use register_full_backward_hook to get the documented behavior.\n",
      "  warnings.warn(\"Using a non-full backward hook when the forward contains multiple autograd Nodes \"\n"
     ]
    },
    {
     "data": {
      "text/plain": [
       "(0.4429361820220947, torch.Size([16, 30, 31797]))"
      ]
     },
     "execution_count": 23,
     "metadata": {
      "tags": []
     },
     "output_type": "execute_result"
    }
   ],
   "source": [
    "tensor_x = torch.randn(batch_size, length, weights_matrix_en.shape[0]).to(device)\n",
    "tensor_y = torch.randn(batch_size, length+2, weights_matrix_de.shape[0]).to(device)\n",
    "model = Model(weights_matrix_en, weights_matrix_de, exp_eps, dmodel=dmodel, dk=dk, dv=dv, dff=dff)\n",
    "model.to(device)\n",
    "start = time.time()\n",
    "curr = model(tensor_x, tensor_y)\n",
    "end = time.time()\n",
    "end - start, curr.size()"
   ]
  },
  {
   "cell_type": "code",
   "execution_count": null,
   "metadata": {
    "colab": {
     "base_uri": "https://localhost:8080/"
    },
    "id": "6ZcWsnfcAx2H",
    "outputId": "a5192b2f-9d52-4b22-b94a-7306fdf9ea4f"
   },
   "outputs": [
    {
     "name": "stdout",
     "output_type": "stream",
     "text": [
      "Total Trainable Params: 5512704\n",
      "Total Trainable Params: 2363136\n",
      "Total Trainable Params: 3149568\n"
     ]
    },
    {
     "data": {
      "text/plain": [
       "(5.512704, 2.363136, 3.149568, 1.0)"
      ]
     },
     "execution_count": 24,
     "metadata": {
      "tags": []
     },
     "output_type": "execute_result"
    }
   ],
   "source": [
    "from prettytable import PrettyTable\n",
    "\n",
    "def count_parameters(model, print_table=True):\n",
    "    table = PrettyTable([\"Modules\", \"Parameters\"])\n",
    "    total_params = 0\n",
    "    for name, parameter in model.named_parameters():\n",
    "        if not parameter.requires_grad: continue\n",
    "        param = parameter.numel()\n",
    "        table.add_row([name, param])\n",
    "        total_params+=param\n",
    "    if print_table:\n",
    "        print(table)\n",
    "    print(f\"Total Trainable Params: {total_params}\")\n",
    "    return total_params\n",
    "       \n",
    "res = count_parameters(model, print_table=False)\n",
    "res_enc = count_parameters(Encoder(exp_eps, dmodel=dmodel, dk=dk, dv=dv, dff=dff), print_table=False)\n",
    "res_dec = count_parameters(Decoder(exp_eps, dmodel=dmodel, dk=dk, dv=dv, dff=dff), print_table=False)\n",
    "res / 10**6, res_enc / 10**6, res_dec / 10**6, (res_enc + res_dec) / res"
   ]
  },
  {
   "cell_type": "markdown",
   "metadata": {
    "id": "NE0-9FFJAx2I"
   },
   "source": [
    "## Training supports"
   ]
  },
  {
   "cell_type": "code",
   "execution_count": 11,
   "metadata": {},
   "outputs": [],
   "source": [
    "from training import to_one_hot, get_batch, read_file, read_files, shuffle"
   ]
  },
  {
   "cell_type": "code",
   "execution_count": null,
   "metadata": {
    "colab": {
     "base_uri": "https://localhost:8080/"
    },
    "id": "uABKS-k2Ax2J",
    "outputId": "737fb5de-f9a6-40f2-9088-c256542b681b"
   },
   "outputs": [
    {
     "data": {
      "text/plain": [
       "((2, 2, 26034), (2, 2), (2, 2), array([[   4.,  902.],\n",
       "        [1167., 1652.]]), array([[1., 1.],\n",
       "        [1., 1.]]), array([[1., 1.],\n",
       "        [1., 1.]]))"
      ]
     },
     "execution_count": 26,
     "metadata": {
      "tags": []
     },
     "output_type": "execute_result"
    }
   ],
   "source": [
    "batch = [['the', 'result'], ['future', 'efforts']]\n",
    "batch, batch_idx, mask_mod = to_one_hot(batch, np.ones((2, 2)), en)\n",
    "batch.shape, batch_idx.shape, mask_mod.shape, batch_idx, mask_mod, batch.sum(-1)"
   ]
  },
  {
   "cell_type": "code",
   "execution_count": null,
   "metadata": {
    "colab": {
     "base_uri": "https://localhost:8080/"
    },
    "id": "cUZGmrITAx2J",
    "outputId": "89874297-a94f-4b3d-9250-7b15ef7a181b"
   },
   "outputs": [
    {
     "name": "stderr",
     "output_type": "stream",
     "text": [
      "/usr/local/lib/python3.7/dist-packages/ipykernel_launcher.py:43: VisibleDeprecationWarning: Creating an ndarray from ragged nested sequences (which is a list-or-tuple of lists-or-tuples-or ndarrays with different lengths or shapes) is deprecated. If you meant to do this, you must specify 'dtype=object' when creating the ndarray\n"
     ]
    },
    {
     "data": {
      "text/plain": [
       "(40031, 40031, 40031, 40031)"
      ]
     },
     "execution_count": 27,
     "metadata": {
      "tags": []
     },
     "output_type": "execute_result"
    }
   ],
   "source": [
    "en_sent, de_sent, en_lens, de_lens = read_files(path + 'valid_prep.en', path + 'valid_prep.de')\n",
    "len(en_sent), len(de_sent), len(en_lens), len(de_lens)"
   ]
  },
  {
   "cell_type": "code",
   "execution_count": null,
   "metadata": {
    "colab": {
     "base_uri": "https://localhost:8080/"
    },
    "id": "ThLsgEmk3xSp",
    "outputId": "4de76999-2474-4927-c6d3-ae7d496facb2"
   },
   "outputs": [
    {
     "data": {
      "text/plain": [
       "(27.839449426694312, 28.229197372036673)"
      ]
     },
     "execution_count": 28,
     "metadata": {
      "tags": []
     },
     "output_type": "execute_result"
    }
   ],
   "source": [
    "en_lens.mean(), de_lens.mean()"
   ]
  },
  {
   "cell_type": "code",
   "execution_count": null,
   "metadata": {
    "colab": {
     "base_uri": "https://localhost:8080/"
    },
    "id": "v20fVpxDAx2K",
    "outputId": "f01a2b0c-b599-45b7-f69e-20f04f5080a4"
   },
   "outputs": [
    {
     "data": {
      "text/plain": [
       "(['<start>', 'i', 'would', 'see', 'it', 'differently', '<end>'],\n",
       " ['<start>', 'ich', 'sehe', 'das', 'anders', '<end>'])"
      ]
     },
     "execution_count": 29,
     "metadata": {
      "tags": []
     },
     "output_type": "execute_result"
    }
   ],
   "source": [
    "idx = 10**4+1\n",
    "en_sent[idx], de_sent[idx]"
   ]
  },
  {
   "cell_type": "code",
   "execution_count": null,
   "metadata": {
    "id": "zBaRwOxQAx2L"
   },
   "outputs": [],
   "source": [
    "en_sent_reordered, de_sent_reordered, en_lens_reordered, de_lens_reordered = shuffle(en_sent, de_sent, en_lens, de_lens)"
   ]
  },
  {
   "cell_type": "code",
   "execution_count": null,
   "metadata": {
    "colab": {
     "base_uri": "https://localhost:8080/"
    },
    "id": "lN9P0Q40Ax2M",
    "outputId": "dc1772b7-8869-4de2-a5a4-5e67d9647840"
   },
   "outputs": [
    {
     "data": {
      "text/plain": [
       "(['<start>', 'i', 'would', 'see', 'it', 'differently', '<end>'],\n",
       " ['<start>', 'ich', 'sehe', 'das', 'anders', '<end>'])"
      ]
     },
     "execution_count": 31,
     "metadata": {
      "tags": []
     },
     "output_type": "execute_result"
    }
   ],
   "source": [
    "en_sent[idx], de_sent[idx]"
   ]
  },
  {
   "cell_type": "code",
   "execution_count": null,
   "metadata": {
    "colab": {
     "base_uri": "https://localhost:8080/"
    },
    "id": "J26AnWA0Ax2M",
    "outputId": "2da78853-ceb0-4298-cefd-7b5e3f466dbf",
    "scrolled": true
   },
   "outputs": [
    {
     "data": {
      "text/plain": [
       "(['<start>',\n",
       "  'during',\n",
       "  'this',\n",
       "  'phase',\n",
       "  'state',\n",
       "  'interests',\n",
       "  'and',\n",
       "  'sporting',\n",
       "  'interests',\n",
       "  'in',\n",
       "  'the',\n",
       "  'federal',\n",
       "  'republic',\n",
       "  'again',\n",
       "  'fell',\n",
       "  'under',\n",
       "  'one',\n",
       "  'remit',\n",
       "  '<end>'],\n",
       " ['<start>',\n",
       "  'in',\n",
       "  'dieser',\n",
       "  'phase',\n",
       "  'kamen',\n",
       "  'staatliche',\n",
       "  'und',\n",
       "  'sportliche',\n",
       "  'interessen',\n",
       "  'in',\n",
       "  'der',\n",
       "  'bundesrepublik',\n",
       "  'wieder',\n",
       "  'zur',\n",
       "  'deckung',\n",
       "  '<end>'])"
      ]
     },
     "execution_count": 32,
     "metadata": {
      "tags": []
     },
     "output_type": "execute_result"
    }
   ],
   "source": [
    "en_sent_reordered[idx], de_sent_reordered[idx]"
   ]
  },
  {
   "cell_type": "code",
   "execution_count": null,
   "metadata": {
    "colab": {
     "base_uri": "https://localhost:8080/"
    },
    "id": "9YM3MvWfAx2N",
    "outputId": "f116e3fe-0567-472e-f265-a257d866cc85",
    "scrolled": true
   },
   "outputs": [
    {
     "data": {
      "text/plain": [
       "([['<start>', 'are', 'both', 'sides', 'equally', 'to', 'blame', '<end>'],\n",
       "  ['<start>',\n",
       "   'this',\n",
       "   'is',\n",
       "   'international',\n",
       "   'maritime',\n",
       "   'law',\n",
       "   '<end>',\n",
       "   '<end>'],\n",
       "  ['<start>', 'i', 'therefore', 'voted', 'in', 'favour', '<end>', '<end>'],\n",
       "  ['<start>',\n",
       "   'finally',\n",
       "   'the',\n",
       "   'eurostat',\n",
       "   'affair',\n",
       "   '<end>',\n",
       "   '<end>',\n",
       "   '<end>'],\n",
       "  ['<start>', 'we', 'have', 'noted', 'your', 'remarks', '<end>', '<end>']],\n",
       " array([[1., 1., 1., 1., 1., 1., 1., 1.],\n",
       "        [1., 1., 1., 1., 1., 1., 1., 0.],\n",
       "        [1., 1., 1., 1., 1., 1., 1., 0.],\n",
       "        [1., 1., 1., 1., 1., 1., 0., 0.],\n",
       "        [1., 1., 1., 1., 1., 1., 1., 0.]]))"
      ]
     },
     "execution_count": 33,
     "metadata": {
      "tags": []
     },
     "output_type": "execute_result"
    }
   ],
   "source": [
    "idx = 500\n",
    "get_batch(en_sent_reordered[idx:idx+5], en_lens_reordered[idx:idx+5])"
   ]
  },
  {
   "cell_type": "code",
   "execution_count": null,
   "metadata": {
    "colab": {
     "base_uri": "https://localhost:8080/"
    },
    "id": "r64ckcZqAx2O",
    "outputId": "c4c6bb4b-c352-4231-b0fa-7e828fd98cb7",
    "scrolled": true
   },
   "outputs": [
    {
     "data": {
      "text/plain": [
       "([['<start>',\n",
       "   'tragen',\n",
       "   'beide',\n",
       "   'seiten',\n",
       "   'gleichermaßen',\n",
       "   'schuld',\n",
       "   '<end>',\n",
       "   '<end>',\n",
       "   '<end>'],\n",
       "  ['<start>',\n",
       "   'das',\n",
       "   'ist',\n",
       "   'internationales',\n",
       "   'se@@',\n",
       "   'ere@@',\n",
       "   'cht',\n",
       "   '<end>',\n",
       "   '<end>'],\n",
       "  ['<start>',\n",
       "   'daher',\n",
       "   'habe',\n",
       "   'ich',\n",
       "   'mit',\n",
       "   'ja',\n",
       "   'gestimmt',\n",
       "   '<end>',\n",
       "   '<end>'],\n",
       "  ['<start>',\n",
       "   'zum',\n",
       "   'schluss',\n",
       "   'die',\n",
       "   'eurostat',\n",
       "   '@-@',\n",
       "   'aff@@',\n",
       "   'äre',\n",
       "   '<end>'],\n",
       "  ['<start>',\n",
       "   'wir',\n",
       "   'haben',\n",
       "   'das',\n",
       "   'zur',\n",
       "   'kenntnis',\n",
       "   'genommen',\n",
       "   '<end>',\n",
       "   '<end>']],\n",
       " array([[1., 1., 1., 1., 1., 1., 1., 0., 0.],\n",
       "        [1., 1., 1., 1., 1., 1., 1., 1., 0.],\n",
       "        [1., 1., 1., 1., 1., 1., 1., 1., 0.],\n",
       "        [1., 1., 1., 1., 1., 1., 1., 1., 1.],\n",
       "        [1., 1., 1., 1., 1., 1., 1., 1., 0.]]))"
      ]
     },
     "execution_count": 34,
     "metadata": {
      "tags": []
     },
     "output_type": "execute_result"
    }
   ],
   "source": [
    "idx = 500\n",
    "get_batch(de_sent_reordered[idx:idx+5], de_lens_reordered[idx:idx+5])"
   ]
  },
  {
   "cell_type": "markdown",
   "metadata": {
    "id": "zS8kmgQ4Ax2P"
   },
   "source": [
    "## Training"
   ]
  },
  {
   "cell_type": "code",
   "execution_count": null,
   "metadata": {
    "colab": {
     "base_uri": "https://localhost:8080/"
    },
    "id": "h5nTT8aUAx2Q",
    "outputId": "41e1f1c9-478b-45cc-a734-ca70b5c4ad80"
   },
   "outputs": [
    {
     "data": {
      "text/plain": [
       "12566"
      ]
     },
     "execution_count": 35,
     "metadata": {
      "tags": []
     },
     "output_type": "execute_result"
    }
   ],
   "source": [
    "def get_unk_idx(lang):\n",
    "    return lang['<unk>']\n",
    "\n",
    "unk_idx = get_unk_idx(de)\n",
    "unk_idx"
   ]
  },
  {
   "cell_type": "code",
   "execution_count": null,
   "metadata": {
    "id": "UrOPD02tPYBd"
   },
   "outputs": [],
   "source": [
    "def compose_params(model):\n",
    "    params_dict = {}\n",
    "    for name, parameter in model.named_parameters():\n",
    "        curr = name.split('.')\n",
    "        btype = curr[2]\n",
    "        bname = '.'.join(curr[1:3])\n",
    "\n",
    "        if btype == 'feedforward':\n",
    "            bname += '.' + curr[3]\n",
    "            if curr[4] == 'linear':\n",
    "                inner_type = curr[5]\n",
    "            else:\n",
    "                inner_type = curr[4]\n",
    "        else:\n",
    "            if curr[3] == 'wo':\n",
    "                bname += '.' + curr[3]\n",
    "                inner_type = curr[4]\n",
    "            else:    \n",
    "                bname += '.' + curr[4] + '.' + curr[3]\n",
    "                inner_type = curr[5]\n",
    "            \n",
    "        if bname not in params_dict.keys():\n",
    "            params_dict[bname] = {}\n",
    "        params_dict[bname][inner_type] = parameter\n",
    "\n",
    "    params = []\n",
    "    for x in params_dict.keys():\n",
    "        curr = params_dict[x]\n",
    "        btype = x.split('.')\n",
    "        if btype[1] == 'feedforward':\n",
    "            params.append({'params': [curr['forward_st'], curr['backward_st'], curr['weight'], curr['bias']], 'name': btype[1]})\n",
    "        else:\n",
    "            if btype[2] == 'wo':\n",
    "                params.append({'params': [curr['forward_st'], curr['backward_st'], curr['linear']], 'name': 'wo'})\n",
    "            else:\n",
    "                curr_params = []\n",
    "                if btype[2] == '0':\n",
    "                    curr_params.append(curr['forward_st'])\n",
    "                curr_params.append(curr['backward_st']) \n",
    "                curr_name = \"\"   \n",
    "                for y in ['qlinear', 'klinear', 'vlinear']:\n",
    "                    if y in curr.keys():\n",
    "                        curr_name += y[0]\n",
    "                        curr_params.append(curr[y])\n",
    "                params.append({'params': curr_params, 'name': curr_name})  \n",
    "    return params                           "
   ]
  },
  {
   "cell_type": "code",
   "execution_count": null,
   "metadata": {
    "id": "opZzCjhJdcgd"
   },
   "outputs": [],
   "source": [
    "from torch.optim.optimizer import Optimizer\n",
    "\n",
    "\n",
    "# в рамках одного класса описаны оба варианта обновления learning_rate \n",
    "# для смены варианта необходимо раскомментировать часть кода\n",
    "class MyOptimizer(Optimizer):\n",
    "    def __init__(self, params, lr_w=1e-5, lr_b=1e-5, lmbd=1e-5, mm=0.8, st_bd=[1., 1.], lr_bd=[1., 1.]):\n",
    "        defaults = {'lr_w': lr_w, 'lr_b': lr_b, 'lmbd': lmbd, 'mm': mm}\n",
    "        self.st_bd = st_bd\n",
    "        self.lr_bd = lr_bd\n",
    "        #self.epoch = 0\n",
    "        self.a_st, self.g_st, self.w_st, self.b_st = [], [], [], []\n",
    "        self.lmbds, self.lrs_w, self.lrs_b = [lmbd, ], [lr_w, ], [lr_b, ]\n",
    "        super(MyOptimizer, self).__init__(params, defaults)\n",
    "\n",
    "    def step(self, closure=None):\n",
    "        loss = None\n",
    "        if closure is not None:\n",
    "            loss = closure()\n",
    "        \n",
    "        curr_st = []\n",
    "        forward_st_q = torch.zeros(dmodel, dmodel).to(device)\n",
    "        forward_st_kv = torch.zeros(dmodel, dmodel).to(device)\n",
    "        for group in self.param_groups:\n",
    "            curr_type = ''\n",
    "            if group['name'] == 'feedforward':\n",
    "                curr_type = 'feedforward'\n",
    "                a, g, w, b = group['params']\n",
    "                state_w, state_b = self.state[w], self.state[b]\n",
    "                if len(state_w) == 0:\n",
    "                    state_w['step'] = 0\n",
    "                    state_w['grad'] = torch.zeros_like(w.data)\n",
    "                    state_w['momentum'] = torch.zeros_like(w.data)\n",
    "                if len(state_b) == 0:\n",
    "                    state_b['grad'] = torch.zeros_like(b.data)  \n",
    "                    state_b['momentum'] = torch.zeros_like(b.data)  \n",
    "                step = state_w['step']\n",
    "                w_grad = state_w['grad']\n",
    "                b_grad = state_b['grad']\n",
    "                w_momentum = state_w['momentum']\n",
    "                b_momentum = state_b['momentum']\n",
    "                if step % 2 == 0:\n",
    "                    w_grad.mul_(0.).add_(1., w.grad.data)\n",
    "                    b_grad.mul_(0.).add_(1., b.grad.data)\n",
    "                else:\n",
    "                    curr_type += '+'\n",
    "                    b_grad_tensor = torch.diag(b_grad)\n",
    "                    grad = torch.cat([w_grad, b_grad_tensor], 1)\n",
    "                    pi = torch.sqrt((torch.trace(a) / (a.size(0) + 1)) / (torch.trace(g) / g.size(0)))\n",
    "                    a1 = torch.inverse(a + group['lmbd'] * pi * torch.eye(a.size()[0]).to(device))\n",
    "                    g1 = torch.inverse(g + group['lmbd'] / pi * torch.eye(g.size()[0]).to(device))\n",
    "                    res = torch.matmul(torch.matmul(g1, grad), a1)\n",
    "                    bd = w.size()[1]\n",
    "                    a_st = torch.mean(torch.abs(torch.diagonal(a))).item()\n",
    "                    g_st = torch.mean(torch.abs(torch.diagonal(g))).item()\n",
    "                    pi_lmbd_st = ((group['lmbd'] * pi).item(), (group['lmbd'] / pi).item())\n",
    "                    res_w_st = (group['lr_w'] * torch.mean(torch.abs(res[:, :bd]))).item()\n",
    "                    res_b_st = (group['lr_b'] * torch.mean(torch.abs(torch.diagonal(res[:, bd:])))).item()\n",
    "                    w_st = torch.mean(torch.abs(group['params'][2].data)).item()\n",
    "                    b_st = torch.mean(torch.abs(group['params'][3].data)).item()\n",
    "                    curr_st.append([a_st / pi_lmbd_st[0], g_st / pi_lmbd_st[1], w_st / res_w_st, b_st / res_b_st, 1.])\n",
    "                    eps = min(1. - 1./(step//2 + 1.), group['mm'])\n",
    "                    w_momentum.mul_(eps).add_((1. - eps) * group['lr_w'], res[:, :bd])\n",
    "                    b_momentum.mul_(eps).add_((1. - eps) * group['lr_b'], torch.diagonal(res[:, bd:]))    \n",
    "                    group['params'][2].data.add_(-1., w_momentum)\n",
    "                    group['params'][3].data.add_(-1., b_momentum)\n",
    "                state_w['step'] += 1 \n",
    "\n",
    "            if group['name'] == 'wo' or group['name'] == 'q':\n",
    "                curr_type = group['name']\n",
    "                if len(group['params']) == 3:\n",
    "                    a, g, w = group['params']\n",
    "                    if group['name'] == 'q':\n",
    "                        forward_st_q.mul_(0.).add_(1., a)\n",
    "                else:\n",
    "                    g, w = group['params']\n",
    "                    a = forward_st_q   \n",
    "                state_w = self.state[w]\n",
    "                if len(state_w) == 0:\n",
    "                    state_w['step'] = 0\n",
    "                    state_w['grad'] = torch.zeros_like(w.data)\n",
    "                    state_w['momentum'] = torch.zeros_like(w.data)\n",
    "                step = state_w['step']\n",
    "                grad = state_w['grad']\n",
    "                momentum = state_w['momentum']\n",
    "                if step % 2 == 0:    \n",
    "                    grad.mul_(0.).add_(1., w.grad.data)\n",
    "                else:\n",
    "                    curr_type += '+'\n",
    "                    pi = torch.sqrt((torch.trace(a) / (a.size(0) + 1)) / (torch.trace(g) / g.size(0)))\n",
    "                    a1 = torch.inverse(a + group['lmbd'] * pi * torch.eye(a.size()[0]).to(device))\n",
    "                    g1 = torch.inverse(g + group['lmbd'] / pi * torch.eye(g.size()[0]).to(device))\n",
    "                    res = torch.matmul(torch.matmul(g1, grad), a1)\n",
    "                    a_st = torch.mean(torch.abs(torch.diagonal(a))).item()\n",
    "                    g_st = torch.mean(torch.abs(torch.diagonal(g))).item()\n",
    "                    pi_lmbd_st = ((group['lmbd'] * pi).item(), (group['lmbd'] / pi).item())\n",
    "                    res_st = (group['lr_w'] * torch.mean(torch.abs(res))).item()\n",
    "                    w_st = torch.mean(torch.abs(group['params'][-1].data)).item()\n",
    "                    curr_st.append([a_st / pi_lmbd_st[0], g_st / pi_lmbd_st[1], w_st / res_st, 0, 0.])\n",
    "                    eps = min(1. - 1./(step//2 + 1.), group['mm'])\n",
    "                    momentum.mul_(eps).add_((1 - eps) * group['lr_w'], res)\n",
    "                    group['params'][-1].data.add_(-1., momentum)\n",
    "                state_w['step'] += 1 \n",
    "\n",
    "            if group['name'] == 'kv':\n",
    "                curr_type = 'kv'\n",
    "                if len(group['params']) == 4:\n",
    "                    a, g, wk, wv = group['params']\n",
    "                    forward_st_kv.mul_(0.).add_(1., a)\n",
    "                else:\n",
    "                    g, wk, wv = group['params']\n",
    "                    a = forward_st_kv\n",
    "                state_wk = self.state[wk]\n",
    "                state_wv = self.state[wv]\n",
    "                if len(state_wk) == 0:\n",
    "                    state_wk['step'] = 0\n",
    "                    state_wk['grad'] = torch.zeros_like(wk.data)\n",
    "                    state_wk['momentum'] = torch.zeros_like(wk.data)\n",
    "                if len(state_wv) == 0:\n",
    "                    state_wv['grad'] = torch.zeros_like(wv.data)\n",
    "                    state_wv['momentum'] = torch.zeros_like(wv.data)    \n",
    "                step = state_wk['step']\n",
    "                grad_wk = state_wk['grad']\n",
    "                grad_wv = state_wv['grad']\n",
    "                momentum_wk = state_wk['momentum']\n",
    "                momentum_wv = state_wv['momentum']\n",
    "                if step % 2 == 0:    \n",
    "                    grad_wk.mul_(0.).add_(1., wk.grad.data)\n",
    "                    grad_wv.mul_(0.).add_(1., wv.grad.data)\n",
    "                else:\n",
    "                    curr_type += '+'\n",
    "                    pi = torch.sqrt((torch.trace(a) / (a.size(0) + 1)) / (torch.trace(g) / g.size(0)))\n",
    "                    a1 = torch.inverse(a + group['lmbd'] * pi * torch.eye(a.size()[0]).to(device))\n",
    "                    g1 = torch.inverse(g + group['lmbd'] / pi * torch.eye(g.size()[0]).to(device))\n",
    "                    grad = torch.cat([grad_wk, grad_wv], 0)\n",
    "                    res = torch.matmul(torch.matmul(g1, grad), a1)\n",
    "                    a_st = torch.mean(torch.abs(torch.diagonal(a))).item()\n",
    "                    g_st = torch.mean(torch.abs(torch.diagonal(g))).item()\n",
    "                    pi_lmbd_st = ((group['lmbd'] * pi).item(), (group['lmbd'] / pi).item())\n",
    "                    res_st = (group['lr_w'] * torch.mean(torch.abs(res))).item()\n",
    "                    w_st = torch.mean(torch.abs(torch.cat(group['params'][-2:], 0))).item()\n",
    "                    curr_st.append([a_st / pi_lmbd_st[0], g_st / pi_lmbd_st[1], w_st / res_st, 0, 0.])\n",
    "                    bd = grad_wq.size()[0]\n",
    "                    eps = min(1. - 1./(step//2 + 1.), group['mm'])\n",
    "                    momentum_wk.mul_(eps).add_((1 - eps) * group['lr_w'], res[:bd, :])\n",
    "                    momentum_wv.mul_(eps).add_((1 - eps) * group['lr_w'], res[bd:, :])\n",
    "                    group['params'][-2].data.add_(-1., momentum_wk)\n",
    "                    group['params'][-1].data.add_(-1., momentum_wv)\n",
    "                state_wk['step'] += 1  \n",
    "\n",
    "            if group['name'] == 'qkv':\n",
    "                curr_type = 'qkv'\n",
    "                if len(group['params']) == 5:\n",
    "                    a, g, wq, wk, wv = group['params']\n",
    "                    forward_st_kv.mul_(0.).add_(1., a)\n",
    "                else:\n",
    "                    g, wq, wk, wv = group['params']\n",
    "                    a = forward_st_kv\n",
    "                state_wq = self.state[wq]\n",
    "                state_wk = self.state[wk]\n",
    "                state_wv = self.state[wv]\n",
    "                if len(state_wq) == 0:\n",
    "                    state_wq['step'] = 0\n",
    "                    state_wq['grad'] = torch.zeros_like(wq.data)\n",
    "                    state_wq['momentum'] = torch.zeros_like(wq.data)\n",
    "                if len(state_wk) == 0:\n",
    "                    state_wk['grad'] = torch.zeros_like(wk.data)\n",
    "                    state_wk['momentum'] = torch.zeros_like(wk.data)\n",
    "                if len(state_wv) == 0:\n",
    "                    state_wv['grad'] = torch.zeros_like(wv.data)\n",
    "                    state_wv['momentum'] = torch.zeros_like(wv.data)       \n",
    "                step = state_wq['step']\n",
    "                grad_wq = state_wq['grad']\n",
    "                grad_wk = state_wk['grad']\n",
    "                grad_wv = state_wv['grad']\n",
    "                momentum_wq = state_wq['momentum']\n",
    "                momentum_wk = state_wk['momentum']\n",
    "                momentum_wv = state_wv['momentum']\n",
    "                if step % 2 == 0:    \n",
    "                    grad_wq.mul_(0.).add_(1., wq.grad.data)\n",
    "                    grad_wk.mul_(0.).add_(1., wk.grad.data)\n",
    "                    grad_wv.mul_(0.).add_(1., wv.grad.data)\n",
    "                else:\n",
    "                    curr_type += '+'\n",
    "                    pi = torch.sqrt((torch.trace(a) / (a.size(0) + 1)) / (torch.trace(g) / g.size(0)))\n",
    "                    a1 = torch.inverse(a + group['lmbd'] * pi * torch.eye(a.size()[0]).to(device))\n",
    "                    g1 = torch.inverse(g + group['lmbd'] / pi * torch.eye(g.size()[0]).to(device))\n",
    "                    grad = torch.cat([grad_wq, grad_wk, grad_wv], 0)\n",
    "                    res = torch.matmul(torch.matmul(g1, grad), a1)\n",
    "                    a_st = torch.mean(torch.abs(torch.diagonal(a))).item()\n",
    "                    g_st = torch.mean(torch.abs(torch.diagonal(g))).item()\n",
    "                    pi_lmbd_st = ((group['lmbd'] * pi).item(), (group['lmbd'] / pi).item())\n",
    "                    res_st = (group['lr_w'] * torch.mean(torch.abs(res))).item()\n",
    "                    w_st = torch.mean(torch.abs(torch.cat(group['params'][-3:], 0))).item()\n",
    "                    curr_st.append([a_st / pi_lmbd_st[0], g_st / pi_lmbd_st[1], w_st / res_st, 0, 0.])\n",
    "                    bd = grad_wq.size()[0]\n",
    "                    eps = min(1. - 1./(step//2 + 1.), group['mm'])\n",
    "                    momentum_wq.mul_(eps).add_((1 - eps) * group['lr_w'], res[:bd, :])\n",
    "                    momentum_wk.mul_(eps).add_((1 - eps) * group['lr_w'], res[bd:2*bd, :])\n",
    "                    momentum_wv.mul_(eps).add_((1 - eps) * group['lr_w'], res[2*bd:, :])\n",
    "                    group['params'][-3].data.add_(-1., momentum_wq)\n",
    "                    group['params'][-2].data.add_(-1., momentum_wk)\n",
    "                    group['params'][-1].data.add_(-1., momentum_wv)\n",
    "                state_wq['step'] += 1      \n",
    "            if curr_type == '':\n",
    "                print('error')\n",
    "                \n",
    "        curr_st = np.array(curr_st)\n",
    "        if len(curr_st) > 0:\n",
    "            mask = (curr_st[:, -1] > 0.)\n",
    "            mins = np.hstack([curr_st[:, :3].min(0), np.min(curr_st[:, -2][mask])]) \n",
    "            maxs = np.hstack([curr_st[:, :3].max(0), np.max(curr_st[:, -2][mask])])\n",
    "            means = np.hstack([curr_st[:, :3].mean(0), np.mean(curr_st[:, -2][mask])])\n",
    "            self.a_st.append([mins[0], means[0], maxs[0]])\n",
    "            self.g_st.append([mins[1], means[1], maxs[1]])\n",
    "            self.w_st.append([mins[2], means[2], maxs[2]])\n",
    "            self.b_st.append([mins[3], means[3], maxs[3]])\n",
    "\n",
    "            w_coef = 2. * (self.w_st[-1][0] > self.lr_bd[1]) + 0.5 * (self.w_st[-1][0] < self.lr_bd[0]) + 1. * (self.w_st[-1][0] <= self.lr_bd[1]) * (self.w_st[-1][0] >= self.lr_bd[0])\n",
    "            b_coef = 2. * (self.b_st[-1][0] > self.lr_bd[1]) + 0.5 * (self.b_st[-1][0] < self.lr_bd[0]) + 1. * (self.b_st[-1][0] <= self.lr_bd[1]) * (self.b_st[-1][0] >= self.lr_bd[0])\n",
    "            \n",
    "            lmbd_coef = 1.\n",
    "            left = 0.85 * self.st_bd[0] + 0.15 * self.st_bd[1]\n",
    "            right = 0.15 * self.st_bd[0] + 0.85 * self.st_bd[1]\n",
    "            if (self.a_st[-1][0] > right and self.g_st[-1][0] > right):\n",
    "                lmbd_coef = right / (0.5 * self.st_bd[1] + 0.5 * self.st_bd[0])  \n",
    "            if (self.a_st[-1][0] < left and self.g_st[-1][0] < left):\n",
    "                lmbd_coef = left / (0.5 * self.st_bd[1] + 0.5 * self.st_bd[0])      \n",
    "            #lr_w = min(1e-12 * (self.epoch+1)**0.7 * np.exp(self.epoch * 1. * 1e-2), 1e-12 * 2**13)\n",
    "            #lr_b = min(5e-14 * (self.epoch+1)**1. * np.exp(self.epoch * 1.5 * 1e-2), 5e-14 * 2**16)\n",
    "            #self.epoch += 1     \n",
    "\n",
    "            for group in self.param_groups:\n",
    "                group['lr_w'] = min(1e-12 * 2**13, group['lr_w'] * w_coef)\n",
    "                group['lr_b'] = min(5e-14 * 2**16, group['lr_b'] * b_coef) \n",
    "                #group['lr_w'] = lr_w\n",
    "                #group['lr_b'] = lr_b\n",
    "                group['lmbd'] *= lmbd_coef\n",
    "            self.lmbds.append(self.param_groups[0]['lmbd'])\n",
    "            self.lrs_w.append(self.param_groups[0]['lr_w'])\n",
    "            self.lrs_b.append(self.param_groups[0]['lr_b'])"
   ]
  },
  {
   "cell_type": "code",
   "execution_count": null,
   "metadata": {
    "id": "R8UUTjjBQFkm"
   },
   "outputs": [],
   "source": [
    "from torch.distributions.categorical import Categorical\n",
    "\n",
    "def torch_to_one_hot(batch, vocab_size):\n",
    "    batch_size, length = batch.size()\n",
    "    batch_one_hot = torch.zeros((batch_size, length, vocab_size))\n",
    "    for i in range(batch_size):\n",
    "        for j in range(length):\n",
    "            batch_one_hot[i, j, batch[i, j]] += 1\n",
    "    return batch_one_hot.to(device)  "
   ]
  },
  {
   "cell_type": "code",
   "execution_count": null,
   "metadata": {
    "id": "-IhVDu_kDv0_"
   },
   "outputs": [],
   "source": [
    "batch_size = 4\n",
    "global_steps = 256 * 25 \n",
    "accumulation_steps = 1 \n",
    "epsls = 0.1\n",
    "exp_eps = 0.95\n",
    "vocab_size = weights_matrix_de.shape[0]\n",
    "\n",
    "model = Model(weights_matrix_en, weights_matrix_de, exp_eps, dmodel=dmodel, dk=dk, dv=dv, dff=dff)\n",
    "model.to(device)\n",
    "params = compose_params(model)\n",
    "\n",
    "optimizer = MyOptimizer(params, lr_w=1e-12, lr_b=5e-14, lmbd=5e-7, mm=0.85, st_bd=[4., 8.], lr_bd=[2., 20.])\n",
    "\n",
    "running_loss = 0.\n",
    "running_cleared_loss = 0.\n",
    "running_accr = 0.\n",
    "losses, cleared_losses, accrs, tms = [], [], [], []\n",
    "f_st = open('stats.txt', 'w')\n",
    "subpath = path + 'train_prep/'\n",
    "init_step = 0\n",
    "ix, load_file, curr_file, total_files = 0, False, 0, 52"
   ]
  },
  {
   "cell_type": "code",
   "execution_count": null,
   "metadata": {
    "id": "FXCObWE905Pr"
   },
   "outputs": [],
   "source": [
    "start_time = time.time()\n",
    "for step in range(init_step, global_steps * accumulation_steps):\n",
    "    if load_file:\n",
    "        f_en, f_de = subpath + str(curr_file) + '.en', subpath + str(curr_file) + '.de'\n",
    "        en_sent, en_lens = read_file(f_en)\n",
    "        de_sent, de_lens = read_file(f_de)\n",
    "        curr_file = (curr_file+1) % total_files\n",
    "        ix, load_file = 0, False\n",
    "    \n",
    "    batch_en, mask_en = get_batch(en_sent[ix:ix+batch_size], en_lens[ix:ix+batch_size])\n",
    "    batch_de, mask_de = get_batch(de_sent[ix:ix+batch_size], de_lens[ix:ix+batch_size])\n",
    "    \n",
    "    batch_one_hot_en, _, _ = to_one_hot(batch_en, mask_en, en)\n",
    "    batch_one_hot_de, batch_idx_de, mask_mod_de = to_one_hot(batch_de, mask_de, de)\n",
    "    batch_one_hot_en_dv = torch.tensor(batch_one_hot_en, dtype=torch.float32).to(device)\n",
    "    batch_one_hot_de_dv = torch.tensor(batch_one_hot_de, dtype=torch.float32).to(device)\n",
    "    mask_mod_de_dv = torch.tensor(mask_mod_de[:, 1:], dtype=torch.float32).to(device)\n",
    "    \n",
    "    optimizer.zero_grad()\n",
    "    outputs = model(batch_one_hot_en_dv, batch_one_hot_de_dv[:, :-1, :])\n",
    "    \n",
    "    # outputs.shape = (batch_size, length, vocab_size)\n",
    "    smoothed_de = (1 - epsls) * batch_one_hot_de_dv[:, 1:, :] + epsls / vocab_size\n",
    "    cross_entropy_vals = -outputs * smoothed_de\n",
    "    cleared_cross_entropy_vals = -outputs * batch_one_hot_de_dv[:, 1:, :]\n",
    "    # cross_entropy_vals.shape = (batch_size, length, vocab_size)\n",
    "    cross_entropy = torch.sum(cross_entropy_vals, 2)\n",
    "    cleared_cross_entropy = torch.sum(cleared_cross_entropy_vals, 2)\n",
    "    # mask_de.shape = (batch_size, length)\n",
    "    # for not include loss for <unk> tokens and added in get_batch <end> tokens:\n",
    "    cross_entropy_filtered = cross_entropy * mask_mod_de_dv\n",
    "    cleared_cross_entropy_filtered = cleared_cross_entropy * mask_mod_de_dv\n",
    "    loss = torch.sum(cross_entropy_filtered) / torch.sum(mask_mod_de_dv)\n",
    "    cleared_loss = torch.sum(cleared_cross_entropy_filtered) / torch.sum(mask_mod_de_dv)\n",
    "          \n",
    "    pred_values = torch.argmax(outputs, 2) #.shape = (batch_size, length)\n",
    "    batch_idx_de_dv = torch.tensor(batch_idx_de[:, 1:], dtype=torch.int64).to(device)\n",
    "    accuracy_vals = (pred_values == batch_idx_de_dv) \n",
    "    # accuracy_vals.shape - (batch_size, length)\n",
    "    accr = torch.sum(accuracy_vals.float() * mask_mod_de_dv) / torch.sum(mask_mod_de_dv) \n",
    "        \n",
    "    loss.backward(retain_graph=True)\n",
    "    optimizer.step()\n",
    "\n",
    "    optimizer.zero_grad()\n",
    "    m = Categorical(logits=outputs)\n",
    "    sm = m.sample()\n",
    "    sm_one_hot = torch_to_one_hot(sm, vocab_size)\n",
    "    # outputs.shape = (batch_size, length, vocab_size)\n",
    "    smoothed_sm = (1 - epsls) * sm_one_hot + epsls / vocab_size\n",
    "    cross_entropy_vals_sm = -outputs * smoothed_sm\n",
    "    # cross_entropy_vals.shape = (batch_size, length, vocab_size)\n",
    "    cross_entropy_sm = torch.sum(cross_entropy_vals_sm, 2)    \n",
    "    # mask_de.shape = (batch_size, length)\n",
    "    # for not include loss for <unk> tokens and added in get_batch <end> tokens:\n",
    "    loss_sm = torch.mean(cross_entropy_sm) \n",
    "    loss_sm.backward()\n",
    "    optimizer.step()\n",
    "\n",
    "    running_loss += loss.item()\n",
    "    running_cleared_loss += cleared_loss.item()\n",
    "    running_accr += accr.item()\n",
    "\n",
    "    \n",
    "    ix += batch_size\n",
    "    if (ix >= len(en_sent)):\n",
    "        load_file = True\n",
    "\n",
    "    if (step+1) % accumulation_steps == 0:\n",
    "        end_time = time.time()\n",
    "        tm = end_time - start_time\n",
    "        running_loss = running_loss / accumulation_steps\n",
    "        running_cleared_loss = running_cleared_loss / accumulation_steps\n",
    "        running_accr = running_accr / accumulation_steps\n",
    "        losses.append(running_loss)\n",
    "        cleared_losses.append(running_cleared_loss)\n",
    "        accrs.append(running_accr)\n",
    "        tms.append(tm)\n",
    "        print('Step: %d/%d, train loss: %.4f - %.4f, accuracy: %.4f, time: %.4f' % (step//accumulation_steps, global_steps, running_loss, running_cleared_loss, running_accr, tm)) \n",
    "        print('Step: %d/%d, train loss: %.4f - %.4f, accuracy: %.4f, time: %.4f' % (step//accumulation_steps, global_steps, running_loss, running_cleared_loss, running_accr, tm), file=f_st) \n",
    "        running_loss, running_cleared_loss, running_accr = 0., 0., 0.\n",
    "        start_time = time.time() \n",
    "f_st.close()   "
   ]
  },
  {
   "cell_type": "code",
   "execution_count": null,
   "metadata": {
    "id": "Ryai4M71iIoj"
   },
   "outputs": [],
   "source": [
    "f = open('inner_stats.txt', 'w')\n",
    "for dt in [optimizer.a_st, optimizer.g_st, optimizer.lmbds, optimizer.w_st, optimizer.b_st, optimizer.lrs_w, optimizer.lrs_b]:\n",
    "    for x in dt:\n",
    "        print(x, end=' ', file=f)\n",
    "    print(file=f)    \n",
    "f.close()"
   ]
  },
  {
   "cell_type": "code",
   "execution_count": null,
   "metadata": {
    "colab": {
     "base_uri": "https://localhost:8080/",
     "height": 1000
    },
    "id": "zmC8YDPUaZFr",
    "outputId": "e5a7ce10-1f9c-4b85-96c6-678d42e906c8"
   },
   "outputs": [
    {
     "data": {
      "image/png": "[encoded data removed]",
      "text/plain": [
       "<Figure size 864x3024 with 6 Axes>"
      ]
     },
     "metadata": {
      "needs_background": "light",
      "tags": []
     },
     "output_type": "display_data"
    }
   ],
   "source": [
    "y = np.array(optimizer.a_st)[:, 0]\n",
    "grid = np.arange(0, len(y), 1)\n",
    "plt.figure(figsize=(12, 42))\n",
    "\n",
    "plt.subplot(6, 1, 1)\n",
    "plt.plot(grid, y, label='a_st')\n",
    "plt.plot(grid, np.array(optimizer.g_st)[:, 0], label='g_st')\n",
    "plt.hlines(4., np.min(grid), np.max(grid))\n",
    "plt.hlines(8., np.min(grid), np.max(grid))\n",
    "plt.legend()\n",
    "plt.grid()\n",
    "\n",
    "plt.subplot(6, 1, 2)\n",
    "grid2 = np.arange(0, len(y)+1, 1)\n",
    "plt.plot(grid2, np.array(optimizer.lmbds), label='lmbd')\n",
    "plt.legend()\n",
    "plt.grid()\n",
    "\n",
    "plt.subplot(6, 1, 3)\n",
    "plt.plot(grid, losses, label='smoothed entropy')\n",
    "plt.plot(grid, cleared_losses, label='entropy')\n",
    "plt.grid()\n",
    "plt.legend()\n",
    "plt.ylim([0., 500])\n",
    "\n",
    "\n",
    "plt.subplot(6, 1, 4)\n",
    "plt.plot(grid, np.array(optimizer.w_st)[:, 0], label='w_st')\n",
    "plt.plot(grid, np.array(optimizer.b_st)[:, 0], label='b_st')\n",
    "plt.hlines(2., np.min(grid), np.max(grid))\n",
    "plt.hlines(20., np.min(grid), np.max(grid))\n",
    "plt.ylim([0., 100.])\n",
    "plt.legend()\n",
    "plt.grid()\n",
    "\n",
    "plt.subplot(6, 1, 5)\n",
    "grid = np.arange(0, len(y)+1, 1)\n",
    "plt.plot(grid2, np.array(optimizer.lrs_w), label='lr_w')\n",
    "plt.legend()\n",
    "plt.grid()\n",
    "\n",
    "plt.subplot(6, 1, 6)\n",
    "grid = np.arange(0, len(y)+1, 1)\n",
    "plt.plot(grid2, np.array(optimizer.lrs_b), label='lr_b')\n",
    "plt.legend()\n",
    "plt.grid()\n",
    "plt.show()"
   ]
  },
  {
   "cell_type": "code",
   "execution_count": null,
   "metadata": {
    "id": "LMehIbdP3eaf"
   },
   "outputs": [],
   "source": [
    "f_st.close() "
   ]
  },
  {
   "cell_type": "code",
   "execution_count": null,
   "metadata": {
    "id": "rcnPCOJH43k1"
   },
   "outputs": [],
   "source": [
    "state = {\n",
    "        'epoch': step,\n",
    "        'running_loss': running_loss,\n",
    "        'running_cleared_loss': running_cleared_loss,\n",
    "        'running_accr': running_accr,\n",
    "        'ix': ix,\n",
    "        'load_file': load_file, \n",
    "        'curr_file': curr_file, \n",
    "        'state_dict': model.state_dict(),\n",
    "        'optimizer': optimizer.state_dict(),\n",
    "        'a_st': optimizer.a_st,\n",
    "        'g_st': optimizer.g_st, \n",
    "        'w_st': optimizer.w_st,\n",
    "        'b_st': optimizer.b_st,\n",
    "        'lrs_w': optimizer.lrs_w,\n",
    "        'lrs_b': optimizer.lrs_b,\n",
    "        'lmbds': optimizer.lmbds    \n",
    "}\n",
    "savepath='checkpoint.t7'\n",
    "torch.save(state,savepath)"
   ]
  }
 ],
 "metadata": {
  "accelerator": "GPU",
  "colab": {
   "collapsed_sections": [],
   "name": "baseline_3_2-2.ipynb",
   "provenance": []
  },
  "kernelspec": {
   "display_name": "Python 3",
   "language": "python",
   "name": "python3"
  },
  "language_info": {
   "codemirror_mode": {
    "name": "ipython",
    "version": 3
   },
   "file_extension": ".py",
   "mimetype": "text/x-python",
   "name": "python",
   "nbconvert_exporter": "python",
   "pygments_lexer": "ipython3",
   "version": "3.7.1"
  },
  "widgets": {
   "application/vnd.jupyter.widget-state+json": {
    "105bfdcfb0bc4c3094f4d810dd0dcba1": {
     "model_module": "@jupyter-widgets/base",
     "model_name": "LayoutModel",
     "state": {
      "_model_module": "@jupyter-widgets/base",
      "_model_module_version": "1.2.0",
      "_model_name": "LayoutModel",
      "_view_count": null,
      "_view_module": "@jupyter-widgets/base",
      "_view_module_version": "1.2.0",
      "_view_name": "LayoutView",
      "align_content": null,
      "align_items": null,
      "align_self": null,
      "border": null,
      "bottom": null,
      "display": null,
      "flex": null,
      "flex_flow": null,
      "grid_area": null,
      "grid_auto_columns": null,
      "grid_auto_flow": null,
      "grid_auto_rows": null,
      "grid_column": null,
      "grid_gap": null,
      "grid_row": null,
      "grid_template_areas": null,
      "grid_template_columns": null,
      "grid_template_rows": null,
      "height": null,
      "justify_content": null,
      "justify_items": null,
      "left": null,
      "margin": null,
      "max_height": null,
      "max_width": null,
      "min_height": null,
      "min_width": null,
      "object_fit": null,
      "object_position": null,
      "order": null,
      "overflow": null,
      "overflow_x": null,
      "overflow_y": null,
      "padding": null,
      "right": null,
      "top": null,
      "visibility": null,
      "width": null
     }
    },
    "1becfaec8b3d4aa6b59c6a4fc3adb792": {
     "model_module": "@jupyter-widgets/controls",
     "model_name": "DescriptionStyleModel",
     "state": {
      "_model_module": "@jupyter-widgets/controls",
      "_model_module_version": "1.5.0",
      "_model_name": "DescriptionStyleModel",
      "_view_count": null,
      "_view_module": "@jupyter-widgets/base",
      "_view_module_version": "1.2.0",
      "_view_name": "StyleView",
      "description_width": ""
     }
    },
    "225debfc7e0f4718b1303fb1daa41750": {
     "model_module": "@jupyter-widgets/base",
     "model_name": "LayoutModel",
     "state": {
      "_model_module": "@jupyter-widgets/base",
      "_model_module_version": "1.2.0",
      "_model_name": "LayoutModel",
      "_view_count": null,
      "_view_module": "@jupyter-widgets/base",
      "_view_module_version": "1.2.0",
      "_view_name": "LayoutView",
      "align_content": null,
      "align_items": null,
      "align_self": null,
      "border": null,
      "bottom": null,
      "display": null,
      "flex": null,
      "flex_flow": null,
      "grid_area": null,
      "grid_auto_columns": null,
      "grid_auto_flow": null,
      "grid_auto_rows": null,
      "grid_column": null,
      "grid_gap": null,
      "grid_row": null,
      "grid_template_areas": null,
      "grid_template_columns": null,
      "grid_template_rows": null,
      "height": null,
      "justify_content": null,
      "justify_items": null,
      "left": null,
      "margin": null,
      "max_height": null,
      "max_width": null,
      "min_height": null,
      "min_width": null,
      "object_fit": null,
      "object_position": null,
      "order": null,
      "overflow": null,
      "overflow_x": null,
      "overflow_y": null,
      "padding": null,
      "right": null,
      "top": null,
      "visibility": null,
      "width": null
     }
    },
    "2396572204b44f1aae4272446e03ab8d": {
     "model_module": "@jupyter-widgets/base",
     "model_name": "LayoutModel",
     "state": {
      "_model_module": "@jupyter-widgets/base",
      "_model_module_version": "1.2.0",
      "_model_name": "LayoutModel",
      "_view_count": null,
      "_view_module": "@jupyter-widgets/base",
      "_view_module_version": "1.2.0",
      "_view_name": "LayoutView",
      "align_content": null,
      "align_items": null,
      "align_self": null,
      "border": null,
      "bottom": null,
      "display": null,
      "flex": null,
      "flex_flow": null,
      "grid_area": null,
      "grid_auto_columns": null,
      "grid_auto_flow": null,
      "grid_auto_rows": null,
      "grid_column": null,
      "grid_gap": null,
      "grid_row": null,
      "grid_template_areas": null,
      "grid_template_columns": null,
      "grid_template_rows": null,
      "height": null,
      "justify_content": null,
      "justify_items": null,
      "left": null,
      "margin": null,
      "max_height": null,
      "max_width": null,
      "min_height": null,
      "min_width": null,
      "object_fit": null,
      "object_position": null,
      "order": null,
      "overflow": null,
      "overflow_x": null,
      "overflow_y": null,
      "padding": null,
      "right": null,
      "top": null,
      "visibility": null,
      "width": null
     }
    },
    "2857634c17d14745a23ee24e5734f64e": {
     "model_module": "@jupyter-widgets/controls",
     "model_name": "DescriptionStyleModel",
     "state": {
      "_model_module": "@jupyter-widgets/controls",
      "_model_module_version": "1.5.0",
      "_model_name": "DescriptionStyleModel",
      "_view_count": null,
      "_view_module": "@jupyter-widgets/base",
      "_view_module_version": "1.2.0",
      "_view_name": "StyleView",
      "description_width": ""
     }
    },
    "48df76d5162a4f61880524080464929f": {
     "model_module": "@jupyter-widgets/controls",
     "model_name": "HTMLModel",
     "state": {
      "_dom_classes": [],
      "_model_module": "@jupyter-widgets/controls",
      "_model_module_version": "1.5.0",
      "_model_name": "HTMLModel",
      "_view_count": null,
      "_view_module": "@jupyter-widgets/controls",
      "_view_module_version": "1.5.0",
      "_view_name": "HTMLView",
      "description": "",
      "description_tooltip": null,
      "layout": "IPY_MODEL_fedf0d56e52641ff84d56bbbe2de5bca",
      "placeholder": "​",
      "style": "IPY_MODEL_1becfaec8b3d4aa6b59c6a4fc3adb792",
      "value": " 26034/? [00:03&lt;00:00, 7367.06it/s]"
     }
    },
    "4eb8df363d23484ba75b4d670d28fd93": {
     "model_module": "@jupyter-widgets/base",
     "model_name": "LayoutModel",
     "state": {
      "_model_module": "@jupyter-widgets/base",
      "_model_module_version": "1.2.0",
      "_model_name": "LayoutModel",
      "_view_count": null,
      "_view_module": "@jupyter-widgets/base",
      "_view_module_version": "1.2.0",
      "_view_name": "LayoutView",
      "align_content": null,
      "align_items": null,
      "align_self": null,
      "border": null,
      "bottom": null,
      "display": null,
      "flex": null,
      "flex_flow": null,
      "grid_area": null,
      "grid_auto_columns": null,
      "grid_auto_flow": null,
      "grid_auto_rows": null,
      "grid_column": null,
      "grid_gap": null,
      "grid_row": null,
      "grid_template_areas": null,
      "grid_template_columns": null,
      "grid_template_rows": null,
      "height": null,
      "justify_content": null,
      "justify_items": null,
      "left": null,
      "margin": null,
      "max_height": null,
      "max_width": null,
      "min_height": null,
      "min_width": null,
      "object_fit": null,
      "object_position": null,
      "order": null,
      "overflow": null,
      "overflow_x": null,
      "overflow_y": null,
      "padding": null,
      "right": null,
      "top": null,
      "visibility": null,
      "width": null
     }
    },
    "5b1af81b29ed42d7bddba5ed311b1e44": {
     "model_module": "@jupyter-widgets/controls",
     "model_name": "HTMLModel",
     "state": {
      "_dom_classes": [],
      "_model_module": "@jupyter-widgets/controls",
      "_model_module_version": "1.5.0",
      "_model_name": "HTMLModel",
      "_view_count": null,
      "_view_module": "@jupyter-widgets/controls",
      "_view_module_version": "1.5.0",
      "_view_name": "HTMLView",
      "description": "",
      "description_tooltip": null,
      "layout": "IPY_MODEL_225debfc7e0f4718b1303fb1daa41750",
      "placeholder": "​",
      "style": "IPY_MODEL_2857634c17d14745a23ee24e5734f64e",
      "value": " 31797/? [00:00&lt;00:00, 44043.21it/s]"
     }
    },
    "632ca68b6a6f49abab9853b0956f3b69": {
     "model_module": "@jupyter-widgets/controls",
     "model_name": "HBoxModel",
     "state": {
      "_dom_classes": [],
      "_model_module": "@jupyter-widgets/controls",
      "_model_module_version": "1.5.0",
      "_model_name": "HBoxModel",
      "_view_count": null,
      "_view_module": "@jupyter-widgets/controls",
      "_view_module_version": "1.5.0",
      "_view_name": "HBoxView",
      "box_style": "",
      "children": [
       "IPY_MODEL_dffa602f51634328b067b1d85c9fc04a",
       "IPY_MODEL_48df76d5162a4f61880524080464929f"
      ],
      "layout": "IPY_MODEL_4eb8df363d23484ba75b4d670d28fd93"
     }
    },
    "6f4219a4059b41b786b88043e6172522": {
     "model_module": "@jupyter-widgets/base",
     "model_name": "LayoutModel",
     "state": {
      "_model_module": "@jupyter-widgets/base",
      "_model_module_version": "1.2.0",
      "_model_name": "LayoutModel",
      "_view_count": null,
      "_view_module": "@jupyter-widgets/base",
      "_view_module_version": "1.2.0",
      "_view_name": "LayoutView",
      "align_content": null,
      "align_items": null,
      "align_self": null,
      "border": null,
      "bottom": null,
      "display": null,
      "flex": null,
      "flex_flow": null,
      "grid_area": null,
      "grid_auto_columns": null,
      "grid_auto_flow": null,
      "grid_auto_rows": null,
      "grid_column": null,
      "grid_gap": null,
      "grid_row": null,
      "grid_template_areas": null,
      "grid_template_columns": null,
      "grid_template_rows": null,
      "height": null,
      "justify_content": null,
      "justify_items": null,
      "left": null,
      "margin": null,
      "max_height": null,
      "max_width": null,
      "min_height": null,
      "min_width": null,
      "object_fit": null,
      "object_position": null,
      "order": null,
      "overflow": null,
      "overflow_x": null,
      "overflow_y": null,
      "padding": null,
      "right": null,
      "top": null,
      "visibility": null,
      "width": null
     }
    },
    "7a47c84a0a94433686a5dbdc73e8c9d0": {
     "model_module": "@jupyter-widgets/controls",
     "model_name": "HBoxModel",
     "state": {
      "_dom_classes": [],
      "_model_module": "@jupyter-widgets/controls",
      "_model_module_version": "1.5.0",
      "_model_name": "HBoxModel",
      "_view_count": null,
      "_view_module": "@jupyter-widgets/controls",
      "_view_module_version": "1.5.0",
      "_view_name": "HBoxView",
      "box_style": "",
      "children": [
       "IPY_MODEL_c89694fe25e64bd088eb8676685f84cf",
       "IPY_MODEL_5b1af81b29ed42d7bddba5ed311b1e44"
      ],
      "layout": "IPY_MODEL_105bfdcfb0bc4c3094f4d810dd0dcba1"
     }
    },
    "c64aa7face6842c094efa63e87017cac": {
     "model_module": "@jupyter-widgets/controls",
     "model_name": "ProgressStyleModel",
     "state": {
      "_model_module": "@jupyter-widgets/controls",
      "_model_module_version": "1.5.0",
      "_model_name": "ProgressStyleModel",
      "_view_count": null,
      "_view_module": "@jupyter-widgets/base",
      "_view_module_version": "1.2.0",
      "_view_name": "StyleView",
      "bar_color": null,
      "description_width": "initial"
     }
    },
    "c89694fe25e64bd088eb8676685f84cf": {
     "model_module": "@jupyter-widgets/controls",
     "model_name": "FloatProgressModel",
     "state": {
      "_dom_classes": [],
      "_model_module": "@jupyter-widgets/controls",
      "_model_module_version": "1.5.0",
      "_model_name": "FloatProgressModel",
      "_view_count": null,
      "_view_module": "@jupyter-widgets/controls",
      "_view_module_version": "1.5.0",
      "_view_name": "ProgressView",
      "bar_style": "success",
      "description": "",
      "description_tooltip": null,
      "layout": "IPY_MODEL_2396572204b44f1aae4272446e03ab8d",
      "max": 1,
      "min": 0,
      "orientation": "horizontal",
      "style": "IPY_MODEL_c64aa7face6842c094efa63e87017cac",
      "value": 1
     }
    },
    "d342ea2d0e1f4111bc4cb7859d0f1d0f": {
     "model_module": "@jupyter-widgets/controls",
     "model_name": "ProgressStyleModel",
     "state": {
      "_model_module": "@jupyter-widgets/controls",
      "_model_module_version": "1.5.0",
      "_model_name": "ProgressStyleModel",
      "_view_count": null,
      "_view_module": "@jupyter-widgets/base",
      "_view_module_version": "1.2.0",
      "_view_name": "StyleView",
      "bar_color": null,
      "description_width": "initial"
     }
    },
    "dffa602f51634328b067b1d85c9fc04a": {
     "model_module": "@jupyter-widgets/controls",
     "model_name": "FloatProgressModel",
     "state": {
      "_dom_classes": [],
      "_model_module": "@jupyter-widgets/controls",
      "_model_module_version": "1.5.0",
      "_model_name": "FloatProgressModel",
      "_view_count": null,
      "_view_module": "@jupyter-widgets/controls",
      "_view_module_version": "1.5.0",
      "_view_name": "ProgressView",
      "bar_style": "success",
      "description": "",
      "description_tooltip": null,
      "layout": "IPY_MODEL_6f4219a4059b41b786b88043e6172522",
      "max": 1,
      "min": 0,
      "orientation": "horizontal",
      "style": "IPY_MODEL_d342ea2d0e1f4111bc4cb7859d0f1d0f",
      "value": 1
     }
    },
    "fedf0d56e52641ff84d56bbbe2de5bca": {
     "model_module": "@jupyter-widgets/base",
     "model_name": "LayoutModel",
     "state": {
      "_model_module": "@jupyter-widgets/base",
      "_model_module_version": "1.2.0",
      "_model_name": "LayoutModel",
      "_view_count": null,
      "_view_module": "@jupyter-widgets/base",
      "_view_module_version": "1.2.0",
      "_view_name": "LayoutView",
      "align_content": null,
      "align_items": null,
      "align_self": null,
      "border": null,
      "bottom": null,
      "display": null,
      "flex": null,
      "flex_flow": null,
      "grid_area": null,
      "grid_auto_columns": null,
      "grid_auto_flow": null,
      "grid_auto_rows": null,
      "grid_column": null,
      "grid_gap": null,
      "grid_row": null,
      "grid_template_areas": null,
      "grid_template_columns": null,
      "grid_template_rows": null,
      "height": null,
      "justify_content": null,
      "justify_items": null,
      "left": null,
      "margin": null,
      "max_height": null,
      "max_width": null,
      "min_height": null,
      "min_width": null,
      "object_fit": null,
      "object_position": null,
      "order": null,
      "overflow": null,
      "overflow_x": null,
      "overflow_y": null,
      "padding": null,
      "right": null,
      "top": null,
      "visibility": null,
      "width": null
     }
    }
   }
  }
 },
 "nbformat": 4,
 "nbformat_minor": 1
}
