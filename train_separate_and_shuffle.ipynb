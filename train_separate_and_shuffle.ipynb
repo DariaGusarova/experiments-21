{
 "cells": [
  {
   "cell_type": "code",
   "execution_count": 28,
   "metadata": {},
   "outputs": [],
   "source": [
    "import numpy as np\n",
    "import pandas as pd\n",
    "from copy import deepcopy\n",
    "import time \n",
    "from training import separate_dataset"
   ]
  },
  {
   "cell_type": "code",
   "execution_count": 29,
   "metadata": {},
   "outputs": [
    {
     "name": "stdout",
     "output_type": "stream",
     "text": [
      "mkdir: valid_prep: File exists\n",
      "Loading dataset ...\n",
      "Dataset loaded.\n",
      "Shuffling dataset ...\n",
      "Dataset shuffled.\n",
      "Shuffling batches ...\n",
      "Batches shuffled.\n",
      "Writing separated dataset ...\n"
     ]
    },
    {
     "data": {
      "application/vnd.jupyter.widget-view+json": {
       "model_id": "4a3bea633b91476bb0fdf3ba5f7755e6",
       "version_major": 2,
       "version_minor": 0
      },
      "text/plain": [
       "  0%|          | 0/312 [00:00<?, ?it/s]"
      ]
     },
     "metadata": {},
     "output_type": "display_data"
    },
    {
     "name": "stdout",
     "output_type": "stream",
     "text": [
      "Separated dataset was written.\n"
     ]
    }
   ],
   "source": [
    "batch_size = 128\n",
    "\n",
    "path = 'WMT14/English-German/'\n",
    "subpath = 'valid_prep'\n",
    "folder = path + subpath\n",
    "!mkdir $folder\n",
    "separate_dataset(path, subpath, batch_size, 100)"
   ]
  },
  {
   "cell_type": "code",
   "execution_count": null,
   "metadata": {},
   "outputs": [
    {
     "name": "stdout",
     "output_type": "stream",
     "text": [
      "mkdir: train_prep: File exists\n",
      "Loading dataset ...\n",
      "Dataset loaded.\n",
      "Shuffling dataset ...\n",
      "Dataset shuffled.\n",
      "Shuffling batches ...\n",
      "Batches shuffled.\n",
      "Writing separated dataset ...\n"
     ]
    },
    {
     "data": {
      "application/vnd.jupyter.widget-view+json": {
       "model_id": "4735c71fc942408d9b2a2905d8d47ed8",
       "version_major": 2,
       "version_minor": 0
      },
      "text/plain": [
       "  0%|          | 0/30926 [00:00<?, ?it/s]"
      ]
     },
     "metadata": {},
     "output_type": "display_data"
    }
   ],
   "source": [
    "subpath = 'train_prep'\n",
    "folder = path + subpath\n",
    "!mkdir $folder\n",
    "separate_dataset(path, subpath, batch_size, 600)"
   ]
  }
 ],
 "metadata": {
  "kernelspec": {
   "display_name": "Python 3",
   "language": "python",
   "name": "python3"
  },
  "language_info": {
   "codemirror_mode": {
    "name": "ipython",
    "version": 3
   },
   "file_extension": ".py",
   "mimetype": "text/x-python",
   "name": "python",
   "nbconvert_exporter": "python",
   "pygments_lexer": "ipython3",
   "version": "3.7.1"
  }
 },
 "nbformat": 4,
 "nbformat_minor": 2
}
