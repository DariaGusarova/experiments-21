{
 "cells": [
  {
   "cell_type": "code",
   "execution_count": 1,
   "metadata": {},
   "outputs": [],
   "source": [
    "import numpy as np\n",
    "import pandas as pd\n",
    "import torch\n",
    "import torch.nn as nn\n",
    "from torch.optim.lr_scheduler import LambdaLR\n",
    "from copy import deepcopy\n",
    "import time \n",
    "from transformer import MultiHeadAttention, FeedForward, EncoderBlock, Encoder, DecoderBlock, Decoder, PositionalEncoding\n",
    "import matplotlib.pyplot as plt\n",
    "\n",
    "%matplotlib inline"
   ]
  },
  {
   "cell_type": "code",
   "execution_count": 2,
   "metadata": {},
   "outputs": [
    {
     "name": "stdout",
     "output_type": "stream",
     "text": [
      "Using device: cpu\n"
     ]
    }
   ],
   "source": [
    "device = torch.device('cuda' if torch.cuda.is_available() else 'cpu')\n",
    "print('Using device:', device)"
   ]
  },
  {
   "cell_type": "code",
   "execution_count": 3,
   "metadata": {},
   "outputs": [],
   "source": [
    "path = \"\""
   ]
  },
  {
   "cell_type": "markdown",
   "metadata": {},
   "source": [
    "## Blocks check"
   ]
  },
  {
   "cell_type": "code",
   "execution_count": 4,
   "metadata": {},
   "outputs": [
    {
     "data": {
      "text/plain": [
       "(0.09253811836242676, torch.Size([128, 28, 256]))"
      ]
     },
     "execution_count": 4,
     "metadata": {},
     "output_type": "execute_result"
    }
   ],
   "source": [
    "batch_size, length, dmodel, dk, dv, dff = 128, 28, 256, 32, 32, 1024\n",
    "tensor = torch.randn(batch_size, length, dmodel).to(device)\n",
    "\n",
    "model = MultiHeadAttention(dmodel=dmodel, dk=dk, dv=dv)\n",
    "model.to(device)\n",
    "start = time.time()\n",
    "curr = model(tensor, tensor, tensor, has_mask=True)\n",
    "end = time.time()\n",
    "end - start, curr.size()"
   ]
  },
  {
   "cell_type": "code",
   "execution_count": 5,
   "metadata": {},
   "outputs": [
    {
     "data": {
      "text/plain": [
       "(0.07518601417541504, torch.Size([128, 28, 256]))"
      ]
     },
     "execution_count": 5,
     "metadata": {},
     "output_type": "execute_result"
    }
   ],
   "source": [
    "model = FeedForward(dmodel=dmodel, dff=dff)\n",
    "model.to(device)\n",
    "start = time.time()\n",
    "curr = model(tensor)\n",
    "end = time.time()\n",
    "end - start, curr.size()"
   ]
  },
  {
   "cell_type": "code",
   "execution_count": 6,
   "metadata": {},
   "outputs": [
    {
     "data": {
      "text/plain": [
       "(0.25087475776672363, torch.Size([128, 28, 256]))"
      ]
     },
     "execution_count": 6,
     "metadata": {},
     "output_type": "execute_result"
    }
   ],
   "source": [
    "model = EncoderBlock(dmodel=dmodel, dk=dk, dv=dv, dff=dff)\n",
    "model.to(device)\n",
    "start = time.time()\n",
    "curr = model(tensor)\n",
    "end = time.time()\n",
    "end - start, curr.size()"
   ]
  },
  {
   "cell_type": "code",
   "execution_count": 7,
   "metadata": {},
   "outputs": [
    {
     "data": {
      "text/plain": [
       "(0.7622900009155273, torch.Size([128, 28, 256]))"
      ]
     },
     "execution_count": 7,
     "metadata": {},
     "output_type": "execute_result"
    }
   ],
   "source": [
    "model = Encoder(dmodel=dmodel, dk=dk, dv=dv, dff=dff)\n",
    "model.to(device)\n",
    "start = time.time()\n",
    "curr = model(tensor)\n",
    "end = time.time()\n",
    "end - start, curr.size()"
   ]
  },
  {
   "cell_type": "code",
   "execution_count": 8,
   "metadata": {},
   "outputs": [
    {
     "data": {
      "text/plain": [
       "(0.40796494483947754, torch.Size([128, 28, 256]))"
      ]
     },
     "execution_count": 8,
     "metadata": {},
     "output_type": "execute_result"
    }
   ],
   "source": [
    "model = DecoderBlock(dmodel=dmodel, dk=dk, dv=dv, dff=dff)\n",
    "model.to(device)\n",
    "start = time.time()\n",
    "curr = model(tensor, tensor)\n",
    "end = time.time()\n",
    "end - start, curr.size()"
   ]
  },
  {
   "cell_type": "code",
   "execution_count": 9,
   "metadata": {},
   "outputs": [
    {
     "data": {
      "text/plain": [
       "(1.230954885482788, torch.Size([128, 28, 256]))"
      ]
     },
     "execution_count": 9,
     "metadata": {},
     "output_type": "execute_result"
    }
   ],
   "source": [
    "model = Decoder(dmodel=dmodel, dk=dk, dv=dv, dff=dff)\n",
    "model.to(device)\n",
    "start = time.time()\n",
    "curr = model(tensor, tensor)\n",
    "end = time.time()\n",
    "end - start, curr.size()"
   ]
  },
  {
   "cell_type": "code",
   "execution_count": 10,
   "metadata": {},
   "outputs": [
    {
     "data": {
      "text/plain": [
       "(0.07277274131774902, torch.Size([128, 28, 256]))"
      ]
     },
     "execution_count": 10,
     "metadata": {},
     "output_type": "execute_result"
    }
   ],
   "source": [
    "model = PositionalEncoding(length, dmodel)\n",
    "model.to(device)\n",
    "start = time.time()\n",
    "curr = model(tensor)\n",
    "end = time.time()\n",
    "end - start, curr.size()"
   ]
  },
  {
   "cell_type": "markdown",
   "metadata": {},
   "source": [
    "## Word2Vec Matrix"
   ]
  },
  {
   "cell_type": "code",
   "execution_count": 11,
   "metadata": {},
   "outputs": [],
   "source": [
    "from gensim.models import Word2Vec\n",
    "from tqdm import tqdm_notebook"
   ]
  },
  {
   "cell_type": "code",
   "execution_count": 12,
   "metadata": {},
   "outputs": [
    {
     "name": "stderr",
     "output_type": "stream",
     "text": [
      "/usr/local/lib/python3.7/site-packages/ipykernel_launcher.py:6: TqdmDeprecationWarning: This function will be removed in tqdm==5.0.0\n",
      "Please use `tqdm.notebook.tqdm` instead of `tqdm.tqdm_notebook`\n",
      "  \n"
     ]
    },
    {
     "data": {
      "application/vnd.jupyter.widget-view+json": {
       "model_id": "deabaf6d10f64314820bed5a0a87394c",
       "version_major": 2,
       "version_minor": 0
      },
      "text/plain": [
       "0it [00:00, ?it/s]"
      ]
     },
     "metadata": {},
     "output_type": "display_data"
    },
    {
     "name": "stderr",
     "output_type": "stream",
     "text": [
      "/usr/local/lib/python3.7/site-packages/ipykernel_launcher.py:7: DeprecationWarning: Call to deprecated `__getitem__` (Method will be removed in 4.0.0, use self.wv.__getitem__() instead).\n",
      "  import sys\n"
     ]
    },
    {
     "data": {
      "text/plain": [
       "((26034, 256), 26034)"
      ]
     },
     "execution_count": 12,
     "metadata": {},
     "output_type": "execute_result"
    }
   ],
   "source": [
    "dmodel = 256\n",
    "model = Word2Vec.load(path + 'word2vec_en' + str(dmodel) + '.model')\n",
    "vocab_size = len(model.wv.vocab)\n",
    "weights_matrix_en = np.zeros((vocab_size, dmodel))\n",
    "en = {}\n",
    "for i, x in tqdm_notebook(enumerate(model.wv.vocab.keys())):\n",
    "    weights_matrix_en[i] = model[x]  \n",
    "    en[x] = i\n",
    "weights_matrix_en.shape, len(en)"
   ]
  },
  {
   "cell_type": "code",
   "execution_count": 13,
   "metadata": {},
   "outputs": [
    {
     "name": "stderr",
     "output_type": "stream",
     "text": [
      "/usr/local/lib/python3.7/site-packages/ipykernel_launcher.py:5: TqdmDeprecationWarning: This function will be removed in tqdm==5.0.0\n",
      "Please use `tqdm.notebook.tqdm` instead of `tqdm.tqdm_notebook`\n",
      "  \"\"\"\n"
     ]
    },
    {
     "data": {
      "application/vnd.jupyter.widget-view+json": {
       "model_id": "65567e27ec354e599d1699ba442fd3ee",
       "version_major": 2,
       "version_minor": 0
      },
      "text/plain": [
       "0it [00:00, ?it/s]"
      ]
     },
     "metadata": {},
     "output_type": "display_data"
    },
    {
     "name": "stderr",
     "output_type": "stream",
     "text": [
      "/usr/local/lib/python3.7/site-packages/ipykernel_launcher.py:6: DeprecationWarning: Call to deprecated `__getitem__` (Method will be removed in 4.0.0, use self.wv.__getitem__() instead).\n",
      "  \n"
     ]
    },
    {
     "data": {
      "text/plain": [
       "((31797, 256), 31797)"
      ]
     },
     "execution_count": 13,
     "metadata": {},
     "output_type": "execute_result"
    }
   ],
   "source": [
    "model = Word2Vec.load(path + 'word2vec_de' + str(dmodel) + '.model')\n",
    "vocab_size = len(model.wv.vocab)\n",
    "weights_matrix_de = np.zeros((vocab_size, dmodel))\n",
    "de = {}\n",
    "for i, x in tqdm_notebook(enumerate(model.wv.vocab.keys())):\n",
    "    weights_matrix_de[i] = model[x]   \n",
    "    de[x] = i\n",
    "weights_matrix_de.shape, len(de)"
   ]
  },
  {
   "cell_type": "markdown",
   "metadata": {},
   "source": [
    "## Model"
   ]
  },
  {
   "cell_type": "code",
   "execution_count": 14,
   "metadata": {},
   "outputs": [],
   "source": [
    "class Model(nn.Module):\n",
    "    def __init__(self, weights_matrix_en, weights_matrix_de, h=8, dmodel=512, dk=64, dv=64, dff=2048, pdropout=0.1):\n",
    "        super().__init__()\n",
    "        self.dmodel = dmodel\n",
    "        self.pdropout = pdropout\n",
    "        self.encoder = Encoder(h, dmodel, dk, dv, dff, pdropout)\n",
    "        self.decoder = Decoder(h, dmodel, dk, dv, dff, pdropout)\n",
    "        self.input_embedding = torch.tensor(weights_matrix_en, dtype=torch.float32, requires_grad=False).to(device)\n",
    "        self.output_embedding = torch.tensor(weights_matrix_de, dtype=torch.float32, requires_grad=False).to(device)\n",
    "    \n",
    "    def forward(self, inputs, outputs):\n",
    "        # input embedding\n",
    "        x_emb = torch.matmul(inputs, self.input_embedding) * np.sqrt(self.dmodel)\n",
    "        x_positionalenc = PositionalEncoding(x_emb.size()[1], self.dmodel)(x_emb) \n",
    "        x_dropout = nn.Dropout(p=self.pdropout)(x_positionalenc)\n",
    "        x_enc = self.encoder(x_dropout)\n",
    "        # output embedding\n",
    "        y_emb = torch.matmul(outputs, self.output_embedding) * np.sqrt(self.dmodel)\n",
    "        y_positionalenc = PositionalEncoding(outputs.size()[1], self.dmodel)(y_emb)\n",
    "        y_dropout = nn.Dropout(p=self.pdropout)(y_positionalenc)\n",
    "        dec = self.decoder(x_enc, y_dropout)\n",
    "        # linear \n",
    "        current = torch.matmul(dec, torch.transpose(self.output_embedding, 0, 1))\n",
    "        result = nn.LogSoftmax(dim=2)(current)\n",
    "        return result"
   ]
  },
  {
   "cell_type": "code",
   "execution_count": 15,
   "metadata": {},
   "outputs": [
    {
     "data": {
      "text/plain": [
       "(5.216485023498535, torch.Size([128, 28, 31797]))"
      ]
     },
     "execution_count": 15,
     "metadata": {},
     "output_type": "execute_result"
    }
   ],
   "source": [
    "tensor_x = torch.randn(batch_size, length, weights_matrix_en.shape[0]).to(device)\n",
    "tensor_y = torch.randn(batch_size, length, weights_matrix_de.shape[0]).to(device)\n",
    "model = Model(weights_matrix_en, weights_matrix_de, dmodel=dmodel, dk=dk, dv=dv, dff=dff)\n",
    "model.to(device)\n",
    "start = time.time()\n",
    "curr = model(tensor_x, tensor_y)\n",
    "end = time.time()\n",
    "end - start, curr.size()"
   ]
  },
  {
   "cell_type": "code",
   "execution_count": 16,
   "metadata": {},
   "outputs": [
    {
     "name": "stdout",
     "output_type": "stream",
     "text": [
      "Total Trainable Params: 5521920\n",
      "Total Trainable Params: 2366208\n",
      "Total Trainable Params: 3155712\n"
     ]
    },
    {
     "data": {
      "text/plain": [
       "(5.52192, 2.366208, 3.155712, 1.0)"
      ]
     },
     "execution_count": 16,
     "metadata": {},
     "output_type": "execute_result"
    }
   ],
   "source": [
    "from prettytable import PrettyTable\n",
    "\n",
    "def count_parameters(model, print_table=True):\n",
    "    table = PrettyTable([\"Modules\", \"Parameters\"])\n",
    "    total_params = 0\n",
    "    for name, parameter in model.named_parameters():\n",
    "        if not parameter.requires_grad: continue\n",
    "        param = parameter.numel()\n",
    "        table.add_row([name, param])\n",
    "        total_params+=param\n",
    "    if print_table:\n",
    "        print(table)\n",
    "    print(f\"Total Trainable Params: {total_params}\")\n",
    "    return total_params\n",
    "       \n",
    "res = count_parameters(model, print_table=False)\n",
    "res_enc = count_parameters(Encoder(dmodel=dmodel, dk=dk, dv=dv, dff=dff), print_table=False)\n",
    "res_dec = count_parameters(Decoder(dmodel=dmodel, dk=dk, dv=dv, dff=dff), print_table=False)\n",
    "res / 10**6, res_enc / 10**6, res_dec / 10**6, (res_enc + res_dec) / res"
   ]
  },
  {
   "cell_type": "markdown",
   "metadata": {},
   "source": [
    "## Training supports"
   ]
  },
  {
   "cell_type": "code",
   "execution_count": 17,
   "metadata": {},
   "outputs": [],
   "source": [
    "from training import to_one_hot, read_file, read_files, shuffle, get_batch"
   ]
  },
  {
   "cell_type": "code",
   "execution_count": 18,
   "metadata": {},
   "outputs": [
    {
     "data": {
      "text/plain": [
       "((2, 2, 26034), (2, 2), (2, 2), array([[   4.,  902.],\n",
       "        [1167., 1652.]]), array([[1., 1.],\n",
       "        [1., 1.]]), array([[1., 1.],\n",
       "        [1., 1.]]))"
      ]
     },
     "execution_count": 18,
     "metadata": {},
     "output_type": "execute_result"
    }
   ],
   "source": [
    "batch = [['the', 'result'], ['future', 'efforts']]\n",
    "batch, batch_idx, mask_mod = to_one_hot(batch, np.ones((2, 2)), en)\n",
    "batch.shape, batch_idx.shape, mask_mod.shape, batch_idx, mask_mod, batch.sum(-1)"
   ]
  },
  {
   "cell_type": "code",
   "execution_count": 19,
   "metadata": {},
   "outputs": [
    {
     "name": "stderr",
     "output_type": "stream",
     "text": [
      "/Users/mak/experiments-21/training.py:43: VisibleDeprecationWarning: Creating an ndarray from ragged nested sequences (which is a list-or-tuple of lists-or-tuples-or ndarrays with different lengths or shapes) is deprecated. If you meant to do this, you must specify 'dtype=object' when creating the ndarray\n",
      "  sent = np.array(sent)\n"
     ]
    },
    {
     "data": {
      "text/plain": [
       "(40031, 40031, 40031, 40031)"
      ]
     },
     "execution_count": 19,
     "metadata": {},
     "output_type": "execute_result"
    }
   ],
   "source": [
    "en_sent, de_sent, en_lens, de_lens = read_files(path + 'valid_prep.en', path + 'valid_prep.de')\n",
    "len(en_sent), len(de_sent), len(en_lens), len(de_lens)"
   ]
  },
  {
   "cell_type": "code",
   "execution_count": 20,
   "metadata": {},
   "outputs": [
    {
     "data": {
      "text/plain": [
       "(['<start>', 'i', 'would', 'see', 'it', 'differently', '<end>'],\n",
       " ['<start>', 'ich', 'sehe', 'das', 'anders', '<end>'])"
      ]
     },
     "execution_count": 20,
     "metadata": {},
     "output_type": "execute_result"
    }
   ],
   "source": [
    "idx = 10**4+1\n",
    "en_sent[idx], de_sent[idx]"
   ]
  },
  {
   "cell_type": "code",
   "execution_count": 21,
   "metadata": {},
   "outputs": [],
   "source": [
    "en_sent_reordered, de_sent_reordered, en_lens_reordered, de_lens_reordered = shuffle(en_sent, de_sent, en_lens, de_lens)"
   ]
  },
  {
   "cell_type": "code",
   "execution_count": 22,
   "metadata": {},
   "outputs": [
    {
     "data": {
      "text/plain": [
       "(['<start>', 'i', 'would', 'see', 'it', 'differently', '<end>'],\n",
       " ['<start>', 'ich', 'sehe', 'das', 'anders', '<end>'])"
      ]
     },
     "execution_count": 22,
     "metadata": {},
     "output_type": "execute_result"
    }
   ],
   "source": [
    "en_sent[idx], de_sent[idx]"
   ]
  },
  {
   "cell_type": "code",
   "execution_count": 23,
   "metadata": {
    "scrolled": true
   },
   "outputs": [
    {
     "data": {
      "text/plain": [
       "(['<start>',\n",
       "  'was',\n",
       "  'a',\n",
       "  '15th',\n",
       "  'century',\n",
       "  'painter',\n",
       "  'and',\n",
       "  'one',\n",
       "  'of',\n",
       "  'the',\n",
       "  'first',\n",
       "  'to',\n",
       "  'popul@@',\n",
       "  'ari@@',\n",
       "  'ze',\n",
       "  'oil',\n",
       "  'paint',\n",
       "  '<end>'],\n",
       " ['<start>',\n",
       "  'um',\n",
       "  '13@@',\n",
       "  '90',\n",
       "  '14@@',\n",
       "  '41',\n",
       "  'er',\n",
       "  'wurde',\n",
       "  'am',\n",
       "  '9.',\n",
       "  'juli',\n",
       "  'in',\n",
       "  'brü@@',\n",
       "  'gge',\n",
       "  'be@@',\n",
       "  'graben',\n",
       "  '<end>'])"
      ]
     },
     "execution_count": 23,
     "metadata": {},
     "output_type": "execute_result"
    }
   ],
   "source": [
    "en_sent_reordered[idx], de_sent_reordered[idx]"
   ]
  },
  {
   "cell_type": "code",
   "execution_count": 24,
   "metadata": {
    "scrolled": true
   },
   "outputs": [
    {
     "data": {
      "text/plain": [
       "([['<start>',\n",
       "   'instead',\n",
       "   'they',\n",
       "   'returned',\n",
       "   'home',\n",
       "   '<end>',\n",
       "   '<end>',\n",
       "   '<end>',\n",
       "   '<end>'],\n",
       "  ['<start>', 'this', 'will', 'be', 'decided', 'by', 'olaf', '<end>', '<end>'],\n",
       "  ['<start>',\n",
       "   'i',\n",
       "   'do',\n",
       "   'not',\n",
       "   'understand',\n",
       "   'the',\n",
       "   'problem',\n",
       "   '<end>',\n",
       "   '<end>'],\n",
       "  ['<start>', 'for', 'that', 'we', 'need', 'a', 'strategy', '<end>', '<end>'],\n",
       "  ['<start>',\n",
       "   'madam',\n",
       "   'president',\n",
       "   'on',\n",
       "   'a',\n",
       "   'point',\n",
       "   'of',\n",
       "   'order',\n",
       "   '<end>']],\n",
       " array([[1., 1., 1., 1., 1., 1., 0., 0., 0.],\n",
       "        [1., 1., 1., 1., 1., 1., 1., 1., 0.],\n",
       "        [1., 1., 1., 1., 1., 1., 1., 1., 0.],\n",
       "        [1., 1., 1., 1., 1., 1., 1., 1., 0.],\n",
       "        [1., 1., 1., 1., 1., 1., 1., 1., 1.]]))"
      ]
     },
     "execution_count": 24,
     "metadata": {},
     "output_type": "execute_result"
    }
   ],
   "source": [
    "idx = 500\n",
    "get_batch(en_sent_reordered[idx:idx+5], en_lens_reordered[idx:idx+5])"
   ]
  },
  {
   "cell_type": "code",
   "execution_count": 25,
   "metadata": {
    "scrolled": true
   },
   "outputs": [
    {
     "data": {
      "text/plain": [
       "([['<start>',\n",
       "   'stattdessen',\n",
       "   'sind',\n",
       "   'sie',\n",
       "   'nach',\n",
       "   'hause',\n",
       "   'zurück@@',\n",
       "   'gekehrt',\n",
       "   '<end>'],\n",
       "  ['<start>',\n",
       "   'das',\n",
       "   'wird',\n",
       "   'von',\n",
       "   'olaf',\n",
       "   'entschieden',\n",
       "   '<end>',\n",
       "   '<end>',\n",
       "   '<end>'],\n",
       "  ['<start>',\n",
       "   'ich',\n",
       "   'verstehe',\n",
       "   'das',\n",
       "   'problem',\n",
       "   'nicht',\n",
       "   '<end>',\n",
       "   '<end>',\n",
       "   '<end>'],\n",
       "  ['<start>',\n",
       "   'dafür',\n",
       "   'brauchen',\n",
       "   'wir',\n",
       "   'eine',\n",
       "   'strategie',\n",
       "   '<end>',\n",
       "   '<end>',\n",
       "   '<end>'],\n",
       "  ['<start>',\n",
       "   'frau',\n",
       "   'präsidentin',\n",
       "   'zur',\n",
       "   'geschäftsordnung',\n",
       "   '<end>',\n",
       "   '<end>',\n",
       "   '<end>',\n",
       "   '<end>']],\n",
       " array([[1., 1., 1., 1., 1., 1., 1., 1., 1.],\n",
       "        [1., 1., 1., 1., 1., 1., 1., 0., 0.],\n",
       "        [1., 1., 1., 1., 1., 1., 1., 0., 0.],\n",
       "        [1., 1., 1., 1., 1., 1., 1., 0., 0.],\n",
       "        [1., 1., 1., 1., 1., 1., 0., 0., 0.]]))"
      ]
     },
     "execution_count": 25,
     "metadata": {},
     "output_type": "execute_result"
    }
   ],
   "source": [
    "idx = 500\n",
    "get_batch(de_sent_reordered[idx:idx+5], de_lens_reordered[idx:idx+5])"
   ]
  },
  {
   "cell_type": "markdown",
   "metadata": {},
   "source": [
    "## Training"
   ]
  },
  {
   "cell_type": "code",
   "execution_count": 26,
   "metadata": {},
   "outputs": [
    {
     "data": {
      "image/png": "[encoded data removed]",
      "text/plain": [
       "<Figure size 864x504 with 1 Axes>"
      ]
     },
     "metadata": {
      "needs_background": "light"
     },
     "output_type": "display_data"
    }
   ],
   "source": [
    "dmodel, warmupsteps = 256, 4000\n",
    "lambda1 = lambda epoch: 1./np.sqrt(dmodel) * min(1./np.sqrt(epoch+1), (epoch+1) / warmupsteps / np.sqrt(warmupsteps))\n",
    "grid = np.arange(warmupsteps*4)\n",
    "values = list(map(lambda1, grid))\n",
    "\n",
    "plt.figure(figsize=(12, 7))\n",
    "plt.plot(grid, values)\n",
    "plt.grid()\n",
    "plt.show()"
   ]
  },
  {
   "cell_type": "code",
   "execution_count": 27,
   "metadata": {},
   "outputs": [
    {
     "data": {
      "text/plain": [
       "(31796.0, 31797, 12566)"
      ]
     },
     "execution_count": 27,
     "metadata": {},
     "output_type": "execute_result"
    }
   ],
   "source": [
    "def get_vocab_mask(lang):\n",
    "    vocab_mask = np.ones(len(lang))\n",
    "    vocab_mask[lang['<unk>']] = 0\n",
    "    return vocab_mask\n",
    "\n",
    "def get_unk_idx(lang):\n",
    "    return lang['<unk>']\n",
    "\n",
    "vocab_mask = get_vocab_mask(de)\n",
    "unk_idx = get_unk_idx(de)\n",
    "vocab_mask.sum(), len(vocab_mask), unk_idx"
   ]
  },
  {
   "cell_type": "code",
   "execution_count": 28,
   "metadata": {},
   "outputs": [],
   "source": [
    "from training import separate_dataset"
   ]
  },
  {
   "cell_type": "code",
   "execution_count": 29,
   "metadata": {},
   "outputs": [
    {
     "name": "stdout",
     "output_type": "stream",
     "text": [
      "mkdir: valid_prep: File exists\n",
      "Loading dataset ...\n",
      "Dataset loaded.\n",
      "Shuffling dataset ...\n",
      "Dataset shuffled.\n",
      "Shuffling batches ...\n",
      "Batches shuffled.\n",
      "Writing separated dataset ...\n"
     ]
    },
    {
     "data": {
      "application/vnd.jupyter.widget-view+json": {
       "model_id": "4a3bea633b91476bb0fdf3ba5f7755e6",
       "version_major": 2,
       "version_minor": 0
      },
      "text/plain": [
       "  0%|          | 0/312 [00:00<?, ?it/s]"
      ]
     },
     "metadata": {},
     "output_type": "display_data"
    },
    {
     "name": "stdout",
     "output_type": "stream",
     "text": [
      "Separated dataset was written.\n"
     ]
    }
   ],
   "source": [
    "batch_size = 128\n",
    "\n",
    "subpath = 'valid_prep'\n",
    "folder = path + subpath\n",
    "!mkdir $folder\n",
    "separate_dataset(path, subpath, batch_size, 100)"
   ]
  },
  {
   "cell_type": "code",
   "execution_count": null,
   "metadata": {},
   "outputs": [
    {
     "name": "stdout",
     "output_type": "stream",
     "text": [
      "mkdir: train_prep: File exists\n",
      "Loading dataset ...\n",
      "Dataset loaded.\n",
      "Shuffling dataset ...\n",
      "Dataset shuffled.\n",
      "Shuffling batches ...\n",
      "Batches shuffled.\n",
      "Writing separated dataset ...\n"
     ]
    },
    {
     "data": {
      "application/vnd.jupyter.widget-view+json": {
       "model_id": "4735c71fc942408d9b2a2905d8d47ed8",
       "version_major": 2,
       "version_minor": 0
      },
      "text/plain": [
       "  0%|          | 0/30926 [00:00<?, ?it/s]"
      ]
     },
     "metadata": {},
     "output_type": "display_data"
    }
   ],
   "source": [
    "subpath = 'train_prep'\n",
    "folder = path + subpath\n",
    "!mkdir $folder\n",
    "separate_dataset(path, subpath, batch_size, 600)"
   ]
  },
  {
   "cell_type": "code",
   "execution_count": 29,
   "metadata": {},
   "outputs": [
    {
     "name": "stdout",
     "output_type": "stream",
     "text": [
      "Step: 0/20, train loss: 8032.6537, accuracy: 0.0007, time: 110.3375\n",
      "Step: 1/20, train loss: 8119.0836, accuracy: 0.0009, time: 162.1054\n",
      "Step: 2/20, train loss: 8116.6122, accuracy: 0.0009, time: 199.6824\n",
      "Step: 3/20, train loss: 8087.8142, accuracy: 0.0008, time: 210.8425\n",
      "Step: 4/20, train loss: 8118.8332, accuracy: 0.0009, time: 166.4528\n"
     ]
    },
    {
     "ename": "KeyboardInterrupt",
     "evalue": "",
     "output_type": "error",
     "traceback": [
      "\u001b[0;31m---------------------------------------------------------------------------\u001b[0m",
      "\u001b[0;31mKeyboardInterrupt\u001b[0m                         Traceback (most recent call last)",
      "\u001b[0;32m<ipython-input-29-08417554d8a2>\u001b[0m in \u001b[0;36m<module>\u001b[0;34m\u001b[0m\n\u001b[1;32m     35\u001b[0m \u001b[0;34m\u001b[0m\u001b[0m\n\u001b[1;32m     36\u001b[0m     \u001b[0moptimizer\u001b[0m\u001b[0;34m.\u001b[0m\u001b[0mzero_grad\u001b[0m\u001b[0;34m(\u001b[0m\u001b[0;34m)\u001b[0m\u001b[0;34m\u001b[0m\u001b[0;34m\u001b[0m\u001b[0m\n\u001b[0;32m---> 37\u001b[0;31m     \u001b[0moutputs\u001b[0m \u001b[0;34m=\u001b[0m \u001b[0mmodel\u001b[0m\u001b[0;34m(\u001b[0m\u001b[0mbatch_en\u001b[0m\u001b[0;34m,\u001b[0m \u001b[0mbatch_de\u001b[0m\u001b[0;34m[\u001b[0m\u001b[0;34m:\u001b[0m\u001b[0;34m,\u001b[0m \u001b[0;34m:\u001b[0m\u001b[0;34m-\u001b[0m\u001b[0;36m1\u001b[0m\u001b[0;34m,\u001b[0m \u001b[0;34m:\u001b[0m\u001b[0;34m]\u001b[0m\u001b[0;34m)\u001b[0m\u001b[0;34m\u001b[0m\u001b[0;34m\u001b[0m\u001b[0m\n\u001b[0m\u001b[1;32m     38\u001b[0m \u001b[0;34m\u001b[0m\u001b[0m\n\u001b[1;32m     39\u001b[0m     \u001b[0;31m# outputs.shape = (batch_size, length, vocab_size)\u001b[0m\u001b[0;34m\u001b[0m\u001b[0;34m\u001b[0m\u001b[0;34m\u001b[0m\u001b[0m\n",
      "\u001b[0;32m/usr/local/lib/python3.7/site-packages/torch/nn/modules/module.py\u001b[0m in \u001b[0;36m__call__\u001b[0;34m(self, *input, **kwargs)\u001b[0m\n\u001b[1;32m    487\u001b[0m             \u001b[0mresult\u001b[0m \u001b[0;34m=\u001b[0m \u001b[0mself\u001b[0m\u001b[0;34m.\u001b[0m\u001b[0m_slow_forward\u001b[0m\u001b[0;34m(\u001b[0m\u001b[0;34m*\u001b[0m\u001b[0minput\u001b[0m\u001b[0;34m,\u001b[0m \u001b[0;34m**\u001b[0m\u001b[0mkwargs\u001b[0m\u001b[0;34m)\u001b[0m\u001b[0;34m\u001b[0m\u001b[0;34m\u001b[0m\u001b[0m\n\u001b[1;32m    488\u001b[0m         \u001b[0;32melse\u001b[0m\u001b[0;34m:\u001b[0m\u001b[0;34m\u001b[0m\u001b[0;34m\u001b[0m\u001b[0m\n\u001b[0;32m--> 489\u001b[0;31m             \u001b[0mresult\u001b[0m \u001b[0;34m=\u001b[0m \u001b[0mself\u001b[0m\u001b[0;34m.\u001b[0m\u001b[0mforward\u001b[0m\u001b[0;34m(\u001b[0m\u001b[0;34m*\u001b[0m\u001b[0minput\u001b[0m\u001b[0;34m,\u001b[0m \u001b[0;34m**\u001b[0m\u001b[0mkwargs\u001b[0m\u001b[0;34m)\u001b[0m\u001b[0;34m\u001b[0m\u001b[0;34m\u001b[0m\u001b[0m\n\u001b[0m\u001b[1;32m    490\u001b[0m         \u001b[0;32mfor\u001b[0m \u001b[0mhook\u001b[0m \u001b[0;32min\u001b[0m \u001b[0mself\u001b[0m\u001b[0;34m.\u001b[0m\u001b[0m_forward_hooks\u001b[0m\u001b[0;34m.\u001b[0m\u001b[0mvalues\u001b[0m\u001b[0;34m(\u001b[0m\u001b[0;34m)\u001b[0m\u001b[0;34m:\u001b[0m\u001b[0;34m\u001b[0m\u001b[0;34m\u001b[0m\u001b[0m\n\u001b[1;32m    491\u001b[0m             \u001b[0mhook_result\u001b[0m \u001b[0;34m=\u001b[0m \u001b[0mhook\u001b[0m\u001b[0;34m(\u001b[0m\u001b[0mself\u001b[0m\u001b[0;34m,\u001b[0m \u001b[0minput\u001b[0m\u001b[0;34m,\u001b[0m \u001b[0mresult\u001b[0m\u001b[0;34m)\u001b[0m\u001b[0;34m\u001b[0m\u001b[0;34m\u001b[0m\u001b[0m\n",
      "\u001b[0;32m<ipython-input-14-d3d38a1840e4>\u001b[0m in \u001b[0;36mforward\u001b[0;34m(self, inputs, outputs)\u001b[0m\n\u001b[1;32m     21\u001b[0m         \u001b[0mdec\u001b[0m \u001b[0;34m=\u001b[0m \u001b[0mself\u001b[0m\u001b[0;34m.\u001b[0m\u001b[0mdecoder\u001b[0m\u001b[0;34m(\u001b[0m\u001b[0mx_enc\u001b[0m\u001b[0;34m,\u001b[0m \u001b[0my_dropout\u001b[0m\u001b[0;34m)\u001b[0m\u001b[0;34m\u001b[0m\u001b[0;34m\u001b[0m\u001b[0m\n\u001b[1;32m     22\u001b[0m         \u001b[0;31m# linear\u001b[0m\u001b[0;34m\u001b[0m\u001b[0;34m\u001b[0m\u001b[0;34m\u001b[0m\u001b[0m\n\u001b[0;32m---> 23\u001b[0;31m         \u001b[0mcurrent\u001b[0m \u001b[0;34m=\u001b[0m \u001b[0mtorch\u001b[0m\u001b[0;34m.\u001b[0m\u001b[0mmatmul\u001b[0m\u001b[0;34m(\u001b[0m\u001b[0mdec\u001b[0m\u001b[0;34m,\u001b[0m \u001b[0mtorch\u001b[0m\u001b[0;34m.\u001b[0m\u001b[0mtranspose\u001b[0m\u001b[0;34m(\u001b[0m\u001b[0mself\u001b[0m\u001b[0;34m.\u001b[0m\u001b[0moutput_embedding\u001b[0m\u001b[0;34m,\u001b[0m \u001b[0;36m0\u001b[0m\u001b[0;34m,\u001b[0m \u001b[0;36m1\u001b[0m\u001b[0;34m)\u001b[0m\u001b[0;34m)\u001b[0m\u001b[0;34m\u001b[0m\u001b[0;34m\u001b[0m\u001b[0m\n\u001b[0m\u001b[1;32m     24\u001b[0m         \u001b[0mresult\u001b[0m \u001b[0;34m=\u001b[0m \u001b[0mnn\u001b[0m\u001b[0;34m.\u001b[0m\u001b[0mLogSoftmax\u001b[0m\u001b[0;34m(\u001b[0m\u001b[0mdim\u001b[0m\u001b[0;34m=\u001b[0m\u001b[0;36m2\u001b[0m\u001b[0;34m)\u001b[0m\u001b[0;34m(\u001b[0m\u001b[0mcurrent\u001b[0m\u001b[0;34m)\u001b[0m\u001b[0;34m\u001b[0m\u001b[0;34m\u001b[0m\u001b[0m\n\u001b[1;32m     25\u001b[0m         \u001b[0;32mreturn\u001b[0m \u001b[0mresult\u001b[0m\u001b[0;34m\u001b[0m\u001b[0;34m\u001b[0m\u001b[0m\n",
      "\u001b[0;31mKeyboardInterrupt\u001b[0m: "
     ]
    }
   ],
   "source": [
    "batch_size = 128\n",
    "global_epoches = 20\n",
    "inner_epoches = 8\n",
    "epsls = 0.1\n",
    "vocab_size = weights_matrix_de.shape[0]\n",
    "\n",
    "model = Model(weights_matrix_en, weights_matrix_de, dmodel=dmodel, dk=dk, dv=dv, dff=dff)\n",
    "model.to(device)\n",
    "optimizer = torch.optim.Adam(model.parameters(), lr=lambda1(0.), betas=(0.9, 0.98), eps=1e-9)\n",
    "scheduler = LambdaLR(optimizer, lr_lambda=[lambda1])\n",
    "\n",
    "running_loss = 0.0\n",
    "running_accr = 0.0\n",
    "losses, accrs, tms = [], [], []\n",
    "start_time = time.time()\n",
    "ix, load_file, curr_file, total_files = 0, True, 0, 52\n",
    "subpath = path + 'train_prep/'\n",
    "\n",
    "for step in range(global_epoches * inner_epoches):\n",
    "    if load_file:\n",
    "        f_en, f_de = subpath + str(curr_file) + '.en', subpath + str(curr_file) + '.de'\n",
    "        en_sent, en_lens = read_file(f_en)\n",
    "        de_sent, de_lens = read_file(f_de)\n",
    "        curr_file = (curr_file+1) % total_files\n",
    "        ix, load_file = 0, False\n",
    "        \n",
    "    batch_en, mask_en = get_batch(en_sent[ix:ix+batch_size], en_lens[ix:ix+batch_size])\n",
    "    batch_de, mask_de = get_batch(de_sent[ix:ix+batch_size], de_lens[ix:ix+batch_size])\n",
    "    \n",
    "    batch_en, _, _ = to_one_hot(batch_en, mask_en, en)\n",
    "    batch_de, batch_idx_de, mask_de = to_one_hot(batch_de, mask_de, de)\n",
    "    batch_en = torch.tensor(batch_en, dtype=torch.float32).to(device)\n",
    "    batch_de = torch.tensor(batch_de, dtype=torch.float32).to(device)\n",
    "    mask_de = torch.tensor(mask_de[:, 1:], dtype=torch.float32).to(device)\n",
    "    \n",
    "    optimizer.zero_grad()\n",
    "    outputs = model(batch_en, batch_de[:, :-1, :])\n",
    "    \n",
    "    # outputs.shape = (batch_size, length, vocab_size)\n",
    "    smoothed_de = (1 - epsls) * batch_de[:, 1:, :] + epsls / vocab_size\n",
    "    current = -outputs * smoothed_de\n",
    "    # current.shape = (batch_size, length, vocab_size)\n",
    "    current = torch.sum(current, 2)\n",
    "    # mask_de.shape = (batch_size, length)\n",
    "    # for not include loss for <unk> tokens and added in get_batch <end> tokens:\n",
    "    current = current * mask_de\n",
    "    loss = torch.sum(current) / torch.sum(mask_de)\n",
    "          \n",
    "    pred_values = torch.argmax(outputs, 2) #.shape = (batch_size, length)\n",
    "    batch_idx_de = torch.tensor(batch_idx_de[:, 1:], dtype=torch.int64).to(model)\n",
    "    curr = (pred_values == batch_idx_de) \n",
    "    # curr.shape - (batch_size, length)\n",
    "    accr = torch.sum(curr.float() * mask_de) / torch.sum(mask_de)\n",
    "        \n",
    "    loss.backward()\n",
    "    optimizer.step()\n",
    "        \n",
    "    running_loss += loss.item()\n",
    "    running_accr += accr.item()\n",
    "    \n",
    "    ix += batch_size\n",
    "    if (ix >= len(en_sent)):\n",
    "        load_file = True\n",
    "    \n",
    "    if (step+1) % inner_epoches == 0: \n",
    "        end_time = time.time()\n",
    "        running_loss /= inner_epoches\n",
    "        running_accr /= inner_epoches\n",
    "        losses.append(running_loss)\n",
    "        accrs.append(running_accr)\n",
    "        tm = end_time - start_time\n",
    "        tms.append(tm)\n",
    "        print('Step: %d/%d, train loss: %.4f, accuracy: %.4f, time: %.4f' % (step//inner_epoches, global_epoches, running_loss, running_accr, tm)) \n",
    "        running_loss, running_acr = 0., 0.\n",
    "        scheduler.step()\n",
    "        start_time = time.time()"
   ]
  },
  {
   "cell_type": "code",
   "execution_count": null,
   "metadata": {},
   "outputs": [],
   "source": []
  }
 ],
 "metadata": {
  "kernelspec": {
   "display_name": "Python 3",
   "language": "python",
   "name": "python3"
  },
  "language_info": {
   "codemirror_mode": {
    "name": "ipython",
    "version": 3
   },
   "file_extension": ".py",
   "mimetype": "text/x-python",
   "name": "python",
   "nbconvert_exporter": "python",
   "pygments_lexer": "ipython3",
   "version": "3.7.1"
  }
 },
 "nbformat": 4,
 "nbformat_minor": 2
}
