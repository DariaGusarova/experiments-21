{
 "cells": [
  {
   "cell_type": "code",
   "execution_count": 1,
   "metadata": {
    "id": "bb1iF91yAx1z"
   },
   "outputs": [],
   "source": [
    "import numpy as np\n",
    "import pandas as pd\n",
    "import torch\n",
    "import torch.nn as nn\n",
    "from copy import deepcopy\n",
    "from transformer import MultiHeadAttention, FeedForward, EncoderBlock, Encoder, DecoderBlock, Decoder, PositionalEncoding\n",
    "import time \n",
    "import matplotlib.pyplot as plt\n",
    "\n",
    "%matplotlib inline"
   ]
  },
  {
   "cell_type": "code",
   "execution_count": 2,
   "metadata": {
    "colab": {
     "base_uri": "https://localhost:8080/"
    },
    "id": "zaDIBwWgAx13",
    "outputId": "130fa1b7-9ab1-4a7e-91a0-7d9f944ebf69"
   },
   "outputs": [
    {
     "name": "stdout",
     "output_type": "stream",
     "text": [
      "Using device: cuda\n"
     ]
    }
   ],
   "source": [
    "device = torch.device('cuda' if torch.cuda.is_available() else 'cpu')\n",
    "print('Using device:', device)"
   ]
  },
  {
   "cell_type": "code",
   "execution_count": 3,
   "metadata": {
    "colab": {
     "base_uri": "https://localhost:8080/"
    },
    "id": "_yYRzikoBAS3",
    "outputId": "3ec9c663-feba-436d-d24a-d476f0a55c8a"
   },
   "outputs": [
    {
     "name": "stdout",
     "output_type": "stream",
     "text": [
      "Drive already mounted at /content/drive; to attempt to forcibly remount, call drive.mount(\"/content/drive\", force_remount=True).\n"
     ]
    }
   ],
   "source": [
    "from google.colab import drive\n",
    "drive.mount('/content/drive')"
   ]
  },
  {
   "cell_type": "code",
   "execution_count": 5,
   "metadata": {
    "id": "Zh6-6IRHAx14"
   },
   "outputs": [],
   "source": [
    "path = \"drive/MyDrive/WMT14/English-German/\""
   ]
  },
  {
   "cell_type": "markdown",
   "metadata": {
    "id": "8Ta_CkiHAx15"
   },
   "source": [
    "## Blocks check"
   ]
  },
  {
   "cell_type": "code",
   "execution_count": 6,
   "metadata": {
    "colab": {
     "base_uri": "https://localhost:8080/"
    },
    "id": "R5HpL6Y9Bnyd",
    "outputId": "09cdfaec-40eb-4891-ccc8-698ed94884c8"
   },
   "outputs": [
    {
     "data": {
      "text/plain": [
       "device(type='cuda')"
      ]
     },
     "execution_count": 6,
     "metadata": {
      "tags": []
     },
     "output_type": "execute_result"
    }
   ],
   "source": [
    "device"
   ]
  },
  {
   "cell_type": "code",
   "execution_count": 8,
   "metadata": {
    "colab": {
     "base_uri": "https://localhost:8080/"
    },
    "id": "ozHkb3fAAx15",
    "outputId": "f74a912b-77d7-44b6-d853-0c8998b99c2a"
   },
   "outputs": [
    {
     "data": {
      "text/plain": [
       "(0.006531953811645508, torch.Size([128, 28, 256]))"
      ]
     },
     "execution_count": 8,
     "metadata": {
      "tags": []
     },
     "output_type": "execute_result"
    }
   ],
   "source": [
    "batch_size, length, dmodel, dk, dv, dff = 128, 28, 256, 32, 32, 1024\n",
    "tensor = torch.randn(batch_size, length, dmodel).to(device)\n",
    "\n",
    "model = MultiHeadAttention(dmodel=dmodel, dk=dk, dv=dv)\n",
    "model.to(device)\n",
    "start = time.time()\n",
    "curr = model(tensor, tensor, tensor, has_mask=True)\n",
    "end = time.time()\n",
    "end - start, curr.size()"
   ]
  },
  {
   "cell_type": "code",
   "execution_count": 9,
   "metadata": {
    "colab": {
     "base_uri": "https://localhost:8080/"
    },
    "id": "rSzo2E-9Ax16",
    "outputId": "e37db064-093b-403c-8184-2d413168f9a6"
   },
   "outputs": [
    {
     "data": {
      "text/plain": [
       "(0.010219335556030273, torch.Size([128, 28, 256]))"
      ]
     },
     "execution_count": 9,
     "metadata": {
      "tags": []
     },
     "output_type": "execute_result"
    }
   ],
   "source": [
    "model = FeedForward(dmodel=dmodel, dff=dff)\n",
    "model.to(device)\n",
    "start = time.time()\n",
    "curr = model(tensor)\n",
    "end = time.time()\n",
    "end - start, curr.size()"
   ]
  },
  {
   "cell_type": "code",
   "execution_count": 10,
   "metadata": {
    "colab": {
     "base_uri": "https://localhost:8080/"
    },
    "id": "aHyv7JoyAx17",
    "outputId": "c3d721fc-9b27-4ad8-9852-5066c56a48d1"
   },
   "outputs": [
    {
     "data": {
      "text/plain": [
       "(0.022914648056030273, torch.Size([128, 28, 256]))"
      ]
     },
     "execution_count": 10,
     "metadata": {
      "tags": []
     },
     "output_type": "execute_result"
    }
   ],
   "source": [
    "model = EncoderBlock(dmodel=dmodel, dk=dk, dv=dv, dff=dff)\n",
    "model.to(device)\n",
    "start = time.time()\n",
    "curr = model(tensor)\n",
    "end = time.time()\n",
    "end - start, curr.size()"
   ]
  },
  {
   "cell_type": "code",
   "execution_count": 11,
   "metadata": {
    "colab": {
     "base_uri": "https://localhost:8080/"
    },
    "id": "VlkPCLg6Ax19",
    "outputId": "49f8da9f-d73a-46de-c88d-b9caa620c65f"
   },
   "outputs": [
    {
     "data": {
      "text/plain": [
       "(0.020232677459716797, torch.Size([128, 28, 256]))"
      ]
     },
     "execution_count": 11,
     "metadata": {
      "tags": []
     },
     "output_type": "execute_result"
    }
   ],
   "source": [
    "model = Encoder(dmodel=dmodel, dk=dk, dv=dv, dff=dff)\n",
    "model.to(device)\n",
    "start = time.time()\n",
    "curr = model(tensor)\n",
    "end = time.time()\n",
    "end - start, curr.size()"
   ]
  },
  {
   "cell_type": "code",
   "execution_count": 12,
   "metadata": {
    "colab": {
     "base_uri": "https://localhost:8080/"
    },
    "id": "OXhUN4PtAx1-",
    "outputId": "d5371501-dff7-43cc-eefa-fe07a1788bf6"
   },
   "outputs": [
    {
     "data": {
      "text/plain": [
       "(0.012762784957885742, torch.Size([128, 28, 256]))"
      ]
     },
     "execution_count": 12,
     "metadata": {
      "tags": []
     },
     "output_type": "execute_result"
    }
   ],
   "source": [
    "model = DecoderBlock(dmodel=dmodel, dk=dk, dv=dv, dff=dff)\n",
    "model.to(device)\n",
    "start = time.time()\n",
    "curr = model(tensor, tensor)\n",
    "end = time.time()\n",
    "end - start, curr.size()"
   ]
  },
  {
   "cell_type": "code",
   "execution_count": 13,
   "metadata": {
    "colab": {
     "base_uri": "https://localhost:8080/"
    },
    "id": "biFG8fmhAx1_",
    "outputId": "7a3ae03e-d6a4-4876-d880-2140e5e8cf74"
   },
   "outputs": [
    {
     "data": {
      "text/plain": [
       "(0.045264244079589844, torch.Size([128, 28, 256]))"
      ]
     },
     "execution_count": 13,
     "metadata": {
      "tags": []
     },
     "output_type": "execute_result"
    }
   ],
   "source": [
    "model = Decoder(dmodel=dmodel, dk=dk, dv=dv, dff=dff)\n",
    "model.to(device)\n",
    "start = time.time()\n",
    "curr = model(tensor, tensor)\n",
    "end = time.time()\n",
    "end - start, curr.size()"
   ]
  },
  {
   "cell_type": "code",
   "execution_count": 14,
   "metadata": {
    "colab": {
     "base_uri": "https://localhost:8080/"
    },
    "id": "_KpJDla1Ax2A",
    "outputId": "bcd90479-2e8c-4036-fd2b-1267dfc6eb04"
   },
   "outputs": [
    {
     "data": {
      "text/plain": [
       "(0.0014405250549316406, torch.Size([128, 28, 256]))"
      ]
     },
     "execution_count": 14,
     "metadata": {
      "tags": []
     },
     "output_type": "execute_result"
    }
   ],
   "source": [
    "model = PositionalEncoding(length, dmodel)\n",
    "model.to(device)\n",
    "start = time.time()\n",
    "curr = model(tensor)\n",
    "end = time.time()\n",
    "end - start, curr.size()"
   ]
  },
  {
   "cell_type": "markdown",
   "metadata": {
    "id": "KX80hlGOAx2C"
   },
   "source": [
    "## Word2Vec Matrix"
   ]
  },
  {
   "cell_type": "code",
   "execution_count": 15,
   "metadata": {
    "id": "v6DxhXTHAx2C"
   },
   "outputs": [],
   "source": [
    "from gensim.models import Word2Vec\n",
    "from tqdm import tqdm_notebook"
   ]
  },
  {
   "cell_type": "code",
   "execution_count": 16,
   "metadata": {
    "colab": {
     "base_uri": "https://localhost:8080/",
     "height": 313,
     "referenced_widgets": [
      "e8c2d01cc6dc4b8796c0650328cd4a76",
      "d4fdde1ffafc43e5938d3fff434a5f0a",
      "6821175296dd4aaa8f92f288411e773e",
      "1fad6d4ba70e4ff8b544914d4eddb24a",
      "3567d0aac95e41fba07d6f3fbe5ca415",
      "763ff26ccf6a42cfbdba517a45098b43",
      "407ca7b5f3854e429c3c8847f035e0e8",
      "c7738f2e53da468bb9eb70b321e91bb9"
     ]
    },
    "id": "eHBfrEoZAx2D",
    "outputId": "aecfa2a7-0e9e-4b75-b12e-8cd93f4f8ad3"
   },
   "outputs": [
    {
     "name": "stderr",
     "output_type": "stream",
     "text": [
      "/usr/local/lib/python3.7/dist-packages/ipykernel_launcher.py:6: TqdmDeprecationWarning: This function will be removed in tqdm==5.0.0\n",
      "Please use `tqdm.notebook.tqdm` instead of `tqdm.tqdm_notebook`\n",
      "  \n"
     ]
    },
    {
     "data": {
      "application/vnd.jupyter.widget-view+json": {
       "model_id": "e8c2d01cc6dc4b8796c0650328cd4a76",
       "version_major": 2,
       "version_minor": 0
      },
      "text/plain": [
       "HBox(children=(FloatProgress(value=1.0, bar_style='info', max=1.0), HTML(value='')))"
      ]
     },
     "metadata": {
      "tags": []
     },
     "output_type": "display_data"
    },
    {
     "name": "stderr",
     "output_type": "stream",
     "text": [
      "/usr/local/lib/python3.7/dist-packages/ipykernel_launcher.py:7: DeprecationWarning: Call to deprecated `__getitem__` (Method will be removed in 4.0.0, use self.wv.__getitem__() instead).\n",
      "  import sys\n"
     ]
    },
    {
     "name": "stdout",
     "output_type": "stream",
     "text": [
      "\n"
     ]
    },
    {
     "data": {
      "text/plain": [
       "((26034, 256), 26034)"
      ]
     },
     "execution_count": 16,
     "metadata": {
      "tags": []
     },
     "output_type": "execute_result"
    }
   ],
   "source": [
    "dmodel = 256\n",
    "model = Word2Vec.load(path + 'word2vec_en' + str(dmodel) + '.model')\n",
    "vocab_size = len(model.wv.vocab)\n",
    "weights_matrix_en = np.zeros((vocab_size, dmodel))\n",
    "en = {}\n",
    "for i, x in tqdm_notebook(enumerate(model.wv.vocab.keys())):\n",
    "    weights_matrix_en[i] = model[x]  \n",
    "    en[x] = i\n",
    "weights_matrix_en.shape, len(en)"
   ]
  },
  {
   "cell_type": "code",
   "execution_count": 17,
   "metadata": {
    "colab": {
     "base_uri": "https://localhost:8080/",
     "height": 328,
     "referenced_widgets": [
      "6f846eff96084ee88f6d52e0feec63be",
      "5338b943110547c0b4637232972ed16b",
      "9919bb0bd63c4bd3bc19c309df45be35",
      "0db9844d5e8b426ba702e5f0fc5c3bfa",
      "8f1eb6f4be874882bc9c39ace752fe41",
      "9d23f2ff3bbc43238c6ac6fecb6cb7d2",
      "b7df28eade664f1681258c64be8a2ab0",
      "4fb9d88e8255497eb53c4e7defd62f25"
     ]
    },
    "id": "0CNvTCuoAx2E",
    "outputId": "d7f6a600-7b10-479d-ce6c-436fe5f298bb"
   },
   "outputs": [
    {
     "name": "stderr",
     "output_type": "stream",
     "text": [
      "/usr/local/lib/python3.7/dist-packages/ipykernel_launcher.py:5: TqdmDeprecationWarning: This function will be removed in tqdm==5.0.0\n",
      "Please use `tqdm.notebook.tqdm` instead of `tqdm.tqdm_notebook`\n",
      "  \"\"\"\n"
     ]
    },
    {
     "data": {
      "application/vnd.jupyter.widget-view+json": {
       "model_id": "6f846eff96084ee88f6d52e0feec63be",
       "version_major": 2,
       "version_minor": 0
      },
      "text/plain": [
       "HBox(children=(FloatProgress(value=1.0, bar_style='info', max=1.0), HTML(value='')))"
      ]
     },
     "metadata": {
      "tags": []
     },
     "output_type": "display_data"
    },
    {
     "name": "stderr",
     "output_type": "stream",
     "text": [
      "/usr/local/lib/python3.7/dist-packages/ipykernel_launcher.py:6: DeprecationWarning: Call to deprecated `__getitem__` (Method will be removed in 4.0.0, use self.wv.__getitem__() instead).\n",
      "  \n"
     ]
    },
    {
     "name": "stdout",
     "output_type": "stream",
     "text": [
      "\n"
     ]
    },
    {
     "data": {
      "text/plain": [
       "((31797, 256), 31797)"
      ]
     },
     "execution_count": 17,
     "metadata": {
      "tags": []
     },
     "output_type": "execute_result"
    }
   ],
   "source": [
    "model = Word2Vec.load(path + 'word2vec_de' + str(dmodel) + '.model')\n",
    "vocab_size = len(model.wv.vocab)\n",
    "weights_matrix_de = np.zeros((vocab_size, dmodel))\n",
    "de = {}\n",
    "for i, x in tqdm_notebook(enumerate(model.wv.vocab.keys())):\n",
    "    weights_matrix_de[i] = model[x]   \n",
    "    de[x] = i\n",
    "weights_matrix_de.shape, len(de)"
   ]
  },
  {
   "cell_type": "code",
   "execution_count": 36,
   "metadata": {
    "colab": {
     "base_uri": "https://localhost:8080/",
     "height": 432
    },
    "id": "40Ma8xsoyDim",
    "outputId": "a76a9162-5b4d-4888-cbf0-564d3329dc22"
   },
   "outputs": [
    {
     "data": {
      "image/png": "[encoded data removed]",
      "text/plain": [
       "<Figure size 1440x504 with 4 Axes>"
      ]
     },
     "metadata": {
      "needs_background": "light",
      "tags": []
     },
     "output_type": "display_data"
    }
   ],
   "source": [
    "cnt = 10000\n",
    "mms = []\n",
    "for matrix in [weights_matrix_de, weights_matrix_en]:\n",
    "    inds = np.random.choice(matrix.shape[0], size=cnt, replace=False)\n",
    "    mm = np.dot(matrix[inds, :], matrix[inds, :].T)\n",
    "    coef = np.diagonal(mm)\n",
    "    mm /= np.max(coef)\n",
    "    mms.append(mm)\n",
    "\n",
    "plt.figure(figsize=(20, 7))\n",
    "for i in range(2):\n",
    "    plt.subplot(1, 2, 1+i)\n",
    "    hm = plt.imshow(mms[i], cmap='Greys', interpolation='nearest')\n",
    "    plt.colorbar(hm)\n",
    "plt.show()"
   ]
  },
  {
   "cell_type": "markdown",
   "metadata": {
    "id": "uhgJfLPXAx2F"
   },
   "source": [
    "## Model"
   ]
  },
  {
   "cell_type": "code",
   "execution_count": 37,
   "metadata": {
    "colab": {
     "base_uri": "https://localhost:8080/"
    },
    "id": "pwRHR55D3ZZ2",
    "outputId": "5860e863-4b57-4900-8625-883466bd4351"
   },
   "outputs": [
    {
     "data": {
      "text/plain": [
       "(256, 32, 32, 1024)"
      ]
     },
     "execution_count": 37,
     "metadata": {
      "tags": []
     },
     "output_type": "execute_result"
    }
   ],
   "source": [
    "dmodel, dk, dv, dff"
   ]
  },
  {
   "cell_type": "code",
   "execution_count": 38,
   "metadata": {
    "id": "Q3rRJvKtAx2G"
   },
   "outputs": [],
   "source": [
    "class Model(nn.Module):\n",
    "    def __init__(self, weights_matrix_en, weights_matrix_de, h=8, dmodel=512, dk=64, dv=64, dff=2048, pdropout=0.1):\n",
    "        super().__init__()\n",
    "        self.dmodel = dmodel\n",
    "        self.pdropout = pdropout\n",
    "        self.encoder = Encoder(h, dmodel, dk, dv, dff, pdropout)\n",
    "        self.decoder = Decoder(h, dmodel, dk, dv, dff, pdropout)\n",
    "        self.input_embedding = torch.tensor(weights_matrix_en, dtype=torch.float32, requires_grad=False).to(device)\n",
    "        self.output_embedding = torch.tensor(weights_matrix_de, dtype=torch.float32, requires_grad=False).to(device)\n",
    "    \n",
    "    def forward(self, inputs, outputs):\n",
    "        # input embedding\n",
    "        x_emb = torch.matmul(inputs, self.input_embedding) * np.sqrt(self.dmodel)\n",
    "        x_positionalenc = PositionalEncoding(x_emb.size()[1], self.dmodel)(x_emb) \n",
    "        x_dropout = nn.Dropout(p=self.pdropout)(x_positionalenc)\n",
    "        x_enc = self.encoder(x_dropout)\n",
    "        # output embedding\n",
    "        y_emb = torch.matmul(outputs, self.output_embedding) * np.sqrt(self.dmodel)\n",
    "        y_positionalenc = PositionalEncoding(outputs.size()[1], self.dmodel)(y_emb)\n",
    "        y_dropout = nn.Dropout(p=self.pdropout)(y_positionalenc)\n",
    "        dec = self.decoder(x_enc, y_dropout)\n",
    "        # linear \n",
    "        current = torch.matmul(dec, torch.transpose(self.output_embedding, 0, 1))\n",
    "        result = nn.LogSoftmax(dim=2)(current)\n",
    "        return result"
   ]
  },
  {
   "cell_type": "code",
   "execution_count": 39,
   "metadata": {
    "colab": {
     "base_uri": "https://localhost:8080/"
    },
    "id": "v75IzcmWAx2G",
    "outputId": "b71cd06d-ad42-4e2d-92e3-be78ebccc717"
   },
   "outputs": [
    {
     "data": {
      "text/plain": [
       "(0.1530015468597412, torch.Size([128, 28, 31797]))"
      ]
     },
     "execution_count": 39,
     "metadata": {
      "tags": []
     },
     "output_type": "execute_result"
    }
   ],
   "source": [
    "tensor_x = torch.randn(batch_size, length, weights_matrix_en.shape[0]).to(device)\n",
    "tensor_y = torch.randn(batch_size, length, weights_matrix_de.shape[0]).to(device)\n",
    "model = Model(weights_matrix_en, weights_matrix_de, dmodel=dmodel, dk=dk, dv=dv, dff=dff)\n",
    "model.to(device)\n",
    "start = time.time()\n",
    "curr = model(tensor_x, tensor_y)\n",
    "end = time.time()\n",
    "end - start, curr.size()"
   ]
  },
  {
   "cell_type": "code",
   "execution_count": 40,
   "metadata": {
    "colab": {
     "base_uri": "https://localhost:8080/"
    },
    "id": "6ZcWsnfcAx2H",
    "outputId": "c5520998-0aa7-4dc4-ddcb-5a197181a592"
   },
   "outputs": [
    {
     "name": "stdout",
     "output_type": "stream",
     "text": [
      "Total Trainable Params: 5512704\n",
      "Total Trainable Params: 2363136\n",
      "Total Trainable Params: 3149568\n"
     ]
    },
    {
     "data": {
      "text/plain": [
       "(5.512704, 2.363136, 3.149568, 1.0)"
      ]
     },
     "execution_count": 40,
     "metadata": {
      "tags": []
     },
     "output_type": "execute_result"
    }
   ],
   "source": [
    "from prettytable import PrettyTable\n",
    "\n",
    "def count_parameters(model, print_table=True):\n",
    "    table = PrettyTable([\"Modules\", \"Parameters\"])\n",
    "    total_params = 0\n",
    "    for name, parameter in model.named_parameters():\n",
    "        if not parameter.requires_grad: continue\n",
    "        param = parameter.numel()\n",
    "        table.add_row([name, param])\n",
    "        total_params+=param\n",
    "    if print_table:\n",
    "        print(table)\n",
    "    print(f\"Total Trainable Params: {total_params}\")\n",
    "    return total_params\n",
    "       \n",
    "res = count_parameters(model, print_table=False)\n",
    "res_enc = count_parameters(Encoder(dmodel=dmodel, dk=dk, dv=dv, dff=dff), print_table=False)\n",
    "res_dec = count_parameters(Decoder(dmodel=dmodel, dk=dk, dv=dv, dff=dff), print_table=False)\n",
    "res / 10**6, res_enc / 10**6, res_dec / 10**6, (res_enc + res_dec) / res"
   ]
  },
  {
   "cell_type": "code",
   "execution_count": 42,
   "metadata": {
    "colab": {
     "base_uri": "https://localhost:8080/"
    },
    "id": "rjiq2HZCgMQ5",
    "outputId": "97d068dc-9da3-471f-ee35-3d4638125293"
   },
   "outputs": [
    {
     "name": "stdout",
     "output_type": "stream",
     "text": [
      "+------------------+--------------------------+------------+-------+---------+---------+\n",
      "|      Module      |          Block           | Parameters | Times |  Total  | Percent |\n",
      "+------------------+--------------------------+------------+-------+---------+---------+\n",
      "| Input Embedding  |                          |  6664704   |   1   | 6664704 |  23.42  |\n",
      "|                  |                          |            |       |         |         |\n",
      "| Output Embedding |                          |  8140032   |   1   | 8140032 |   28.6  |\n",
      "|                  |                          |            |       |         |         |\n",
      "|  Encoder Block   |    multiheadattention    |   262144   |   3   | 2363136 |   8.3   |\n",
      "|                  |       feedforward        |   525568   |       |         |         |\n",
      "|                  |                          |            |       |         |         |\n",
      "|  Decoder Block   | maskedmultiheadattention |   262144   |   3   | 3149568 |  11.07  |\n",
      "|                  |    multiheadattention    |   262144   |       |         |         |\n",
      "|                  |       feedforward        |   525568   |       |         |         |\n",
      "|                  |                          |            |       |         |         |\n",
      "|      Linear      |                          |  8140032   |   1   | 8140032 |   28.6  |\n",
      "+------------------+--------------------------+------------+-------+---------+---------+\n"
     ]
    }
   ],
   "source": [
    "table = PrettyTable([\"Module\", \"Block\", \"Parameters\", \"Times\", \"Total\"])\n",
    "\n",
    "enc_block = EncoderBlock(dmodel=dmodel, dk=dk, dv=dv, dff=dff)\n",
    "dec_block = DecoderBlock(dmodel=dmodel, dk=dk, dv=dv, dff=dff)\n",
    "\n",
    "names = ['Input Embedding', 'Output Embedding', 'Encoder Block', 'Decoder Block', 'Linear']\n",
    "percent = []\n",
    "for i, matrix in enumerate([weights_matrix_en, weights_matrix_de]):\n",
    "    params = matrix.shape[0] * matrix.shape[1]\n",
    "    table.add_row([names[i], \"\", params, 1, params])\n",
    "    percent.append(params)\n",
    "    table.add_row([\"\", \"\", \"\", \"\", \"\"])\n",
    "    percent.append(0)\n",
    "\n",
    "for i, block in enumerate([enc_block, dec_block]):\n",
    "    params = {}\n",
    "    for name, parameter in block.named_parameters():\n",
    "        inner_name = name.split('.')[0]\n",
    "        num_params = parameter.numel()\n",
    "        if inner_name not in params.keys():\n",
    "            params[inner_name] = 0\n",
    "        params[inner_name] += num_params\n",
    "    for j, key in enumerate(list(params.keys())):\n",
    "        if j == 0:\n",
    "            table.add_row([names[2+i], key, params[key], 3, 3 * np.sum(list(params.values()))])\n",
    "            percent.append(3 * np.sum(list(params.values())))\n",
    "        else:\n",
    "            table.add_row([\"\", key, params[key], \"\", \"\"]) \n",
    "            percent.append(0)\n",
    "    table.add_row([\"\", \"\", \"\", \"\", \"\"]) \n",
    "    percent.append(0)\n",
    "              \n",
    "\n",
    "matrix = weights_matrix_de\n",
    "params = matrix.shape[0] * matrix.shape[1]\n",
    "table.add_row([names[-1], \"\", params, 1, params]) \n",
    "percent.append(params)\n",
    "percent = percent / np.sum(percent)\n",
    "percent_str = []\n",
    "for x in percent:\n",
    "    if x == 0.:\n",
    "        percent_str.append(\"\")\n",
    "    else:\n",
    "        percent_str.append(str(round(x * 100, 2))) \n",
    "\n",
    "table.add_column('Percent', percent_str)\n",
    "print(table)    "
   ]
  },
  {
   "cell_type": "markdown",
   "metadata": {
    "id": "NE0-9FFJAx2I"
   },
   "source": [
    "## Training supports"
   ]
  },
  {
   "cell_type": "code",
   "execution_count": 43,
   "metadata": {
    "id": "Snr4jzs4CMeB"
   },
   "outputs": [],
   "source": [
    "from training import to_one_hot, read_file, read_files, shuffle, get_batch"
   ]
  },
  {
   "cell_type": "code",
   "execution_count": 44,
   "metadata": {
    "colab": {
     "base_uri": "https://localhost:8080/"
    },
    "id": "uABKS-k2Ax2J",
    "outputId": "e5f5f5fd-8536-4ef7-f4c4-60a732f09be0"
   },
   "outputs": [
    {
     "data": {
      "text/plain": [
       "((2, 2, 26034), (2, 2), (2, 2), array([[   4.,  902.],\n",
       "        [1167., 1652.]]), array([[1., 1.],\n",
       "        [1., 1.]]), array([[1., 1.],\n",
       "        [1., 1.]]))"
      ]
     },
     "execution_count": 44,
     "metadata": {
      "tags": []
     },
     "output_type": "execute_result"
    }
   ],
   "source": [
    "batch = [['the', 'result'], ['future', 'efforts']]\n",
    "batch, batch_idx, mask_mod = to_one_hot(batch, np.ones((2, 2)), en)\n",
    "batch.shape, batch_idx.shape, mask_mod.shape, batch_idx, mask_mod, batch.sum(-1)"
   ]
  },
  {
   "cell_type": "code",
   "execution_count": 45,
   "metadata": {
    "colab": {
     "base_uri": "https://localhost:8080/"
    },
    "id": "cUZGmrITAx2J",
    "outputId": "265bb3c5-4c40-4900-f839-3aeec9515d5c"
   },
   "outputs": [
    {
     "name": "stderr",
     "output_type": "stream",
     "text": [
      "/usr/local/lib/python3.7/dist-packages/ipykernel_launcher.py:43: VisibleDeprecationWarning: Creating an ndarray from ragged nested sequences (which is a list-or-tuple of lists-or-tuples-or ndarrays with different lengths or shapes) is deprecated. If you meant to do this, you must specify 'dtype=object' when creating the ndarray\n"
     ]
    },
    {
     "data": {
      "text/plain": [
       "(40031, 40031, 40031, 40031)"
      ]
     },
     "execution_count": 45,
     "metadata": {
      "tags": []
     },
     "output_type": "execute_result"
    }
   ],
   "source": [
    "en_sent, de_sent, en_lens, de_lens = read_files(path + 'valid_prep.en', path + 'valid_prep.de')\n",
    "len(en_sent), len(de_sent), len(en_lens), len(de_lens)"
   ]
  },
  {
   "cell_type": "code",
   "execution_count": 46,
   "metadata": {
    "colab": {
     "base_uri": "https://localhost:8080/"
    },
    "id": "ThLsgEmk3xSp",
    "outputId": "117ca5dc-9edc-4e38-a9f0-21daab758ccc"
   },
   "outputs": [
    {
     "data": {
      "text/plain": [
       "(27.839449426694312, 28.229197372036673)"
      ]
     },
     "execution_count": 46,
     "metadata": {
      "tags": []
     },
     "output_type": "execute_result"
    }
   ],
   "source": [
    "en_lens.mean(), de_lens.mean()"
   ]
  },
  {
   "cell_type": "code",
   "execution_count": 47,
   "metadata": {
    "colab": {
     "base_uri": "https://localhost:8080/"
    },
    "id": "v20fVpxDAx2K",
    "outputId": "be243f88-14ce-49db-ce7d-c3b05f19b9bb"
   },
   "outputs": [
    {
     "data": {
      "text/plain": [
       "(['<start>', 'i', 'would', 'see', 'it', 'differently', '<end>'],\n",
       " ['<start>', 'ich', 'sehe', 'das', 'anders', '<end>'])"
      ]
     },
     "execution_count": 47,
     "metadata": {
      "tags": []
     },
     "output_type": "execute_result"
    }
   ],
   "source": [
    "idx = 10**4+1\n",
    "en_sent[idx], de_sent[idx]"
   ]
  },
  {
   "cell_type": "code",
   "execution_count": 48,
   "metadata": {
    "id": "zBaRwOxQAx2L"
   },
   "outputs": [],
   "source": [
    "en_sent_reordered, de_sent_reordered, en_lens_reordered, de_lens_reordered = shuffle(en_sent, de_sent, en_lens, de_lens)"
   ]
  },
  {
   "cell_type": "code",
   "execution_count": 49,
   "metadata": {
    "colab": {
     "base_uri": "https://localhost:8080/"
    },
    "id": "lN9P0Q40Ax2M",
    "outputId": "3443e0a7-2fc0-4ea6-9a93-d258c9c4df4d"
   },
   "outputs": [
    {
     "data": {
      "text/plain": [
       "(['<start>', 'i', 'would', 'see', 'it', 'differently', '<end>'],\n",
       " ['<start>', 'ich', 'sehe', 'das', 'anders', '<end>'])"
      ]
     },
     "execution_count": 49,
     "metadata": {
      "tags": []
     },
     "output_type": "execute_result"
    }
   ],
   "source": [
    "en_sent[idx], de_sent[idx]"
   ]
  },
  {
   "cell_type": "code",
   "execution_count": 50,
   "metadata": {
    "colab": {
     "base_uri": "https://localhost:8080/"
    },
    "id": "J26AnWA0Ax2M",
    "outputId": "bb3e63ff-c800-4cca-ddb4-e26472a4367b",
    "scrolled": true
   },
   "outputs": [
    {
     "data": {
      "text/plain": [
       "(['<start>',\n",
       "  'looking',\n",
       "  'at',\n",
       "  'the',\n",
       "  'instances',\n",
       "  'individually',\n",
       "  'we',\n",
       "  'wonder',\n",
       "  'why',\n",
       "  'they',\n",
       "  'are',\n",
       "  'not',\n",
       "  'given',\n",
       "  'the',\n",
       "  'highest',\n",
       "  'priority',\n",
       "  '<end>'],\n",
       " ['<start>',\n",
       "  'bei',\n",
       "  'betrachtung',\n",
       "  'der',\n",
       "  'einzelnen',\n",
       "  'fälle',\n",
       "  'fragt',\n",
       "  'man',\n",
       "  'sich',\n",
       "  'weshalb',\n",
       "  'ihnen',\n",
       "  'nicht',\n",
       "  'höchste',\n",
       "  'priorität',\n",
       "  'zu@@',\n",
       "  'erkannt',\n",
       "  'wird',\n",
       "  '<end>'])"
      ]
     },
     "execution_count": 50,
     "metadata": {
      "tags": []
     },
     "output_type": "execute_result"
    }
   ],
   "source": [
    "en_sent_reordered[idx], de_sent_reordered[idx]"
   ]
  },
  {
   "cell_type": "code",
   "execution_count": 51,
   "metadata": {
    "colab": {
     "base_uri": "https://localhost:8080/"
    },
    "id": "9YM3MvWfAx2N",
    "outputId": "12fb75c2-cfc8-4910-f0cc-b6bfa7bed9d9",
    "scrolled": true
   },
   "outputs": [
    {
     "data": {
      "text/plain": [
       "([['<start>', 'i', 'am', 'most', 'grateful', 'for', 'that', '<end>'],\n",
       "  ['<start>', 'i', 'have', 'always', 'made', 'that', 'point', '<end>'],\n",
       "  ['<start>', 'are', 'both', 'sides', 'equally', 'to', 'blame', '<end>'],\n",
       "  ['<start>',\n",
       "   'the',\n",
       "   'restrictions',\n",
       "   'are',\n",
       "   'very',\n",
       "   'strict',\n",
       "   '<end>',\n",
       "   '<end>'],\n",
       "  ['<start>',\n",
       "   'this',\n",
       "   'is',\n",
       "   'international',\n",
       "   'maritime',\n",
       "   'law',\n",
       "   '<end>',\n",
       "   '<end>']],\n",
       " array([[1., 1., 1., 1., 1., 1., 1., 1.],\n",
       "        [1., 1., 1., 1., 1., 1., 1., 1.],\n",
       "        [1., 1., 1., 1., 1., 1., 1., 1.],\n",
       "        [1., 1., 1., 1., 1., 1., 1., 0.],\n",
       "        [1., 1., 1., 1., 1., 1., 1., 0.]]))"
      ]
     },
     "execution_count": 51,
     "metadata": {
      "tags": []
     },
     "output_type": "execute_result"
    }
   ],
   "source": [
    "idx = 500\n",
    "get_batch(en_sent_reordered[idx:idx+5], en_lens_reordered[idx:idx+5])"
   ]
  },
  {
   "cell_type": "code",
   "execution_count": 52,
   "metadata": {
    "colab": {
     "base_uri": "https://localhost:8080/"
    },
    "id": "r64ckcZqAx2O",
    "outputId": "7a38f74c-8289-4c23-af50-50aabeae1060",
    "scrolled": true
   },
   "outputs": [
    {
     "data": {
      "text/plain": [
       "([['<start>', 'ich', 'bin', 'sehr', 'dankbar', 'dafür', '<end>', '<end>'],\n",
       "  ['<start>',\n",
       "   'ich',\n",
       "   'habe',\n",
       "   'darauf',\n",
       "   'immer',\n",
       "   'hingewiesen',\n",
       "   '<end>',\n",
       "   '<end>'],\n",
       "  ['<start>',\n",
       "   'tragen',\n",
       "   'beide',\n",
       "   'seiten',\n",
       "   'gleichermaßen',\n",
       "   'schuld',\n",
       "   '<end>',\n",
       "   '<end>'],\n",
       "  ['<start>',\n",
       "   'die',\n",
       "   'beschränkungen',\n",
       "   'sind',\n",
       "   'sehr',\n",
       "   'streng',\n",
       "   'geregelt',\n",
       "   '<end>'],\n",
       "  ['<start>',\n",
       "   'das',\n",
       "   'ist',\n",
       "   'internationales',\n",
       "   'se@@',\n",
       "   'ere@@',\n",
       "   'cht',\n",
       "   '<end>']],\n",
       " array([[1., 1., 1., 1., 1., 1., 1., 0.],\n",
       "        [1., 1., 1., 1., 1., 1., 1., 0.],\n",
       "        [1., 1., 1., 1., 1., 1., 1., 0.],\n",
       "        [1., 1., 1., 1., 1., 1., 1., 1.],\n",
       "        [1., 1., 1., 1., 1., 1., 1., 1.]]))"
      ]
     },
     "execution_count": 52,
     "metadata": {
      "tags": []
     },
     "output_type": "execute_result"
    }
   ],
   "source": [
    "idx = 500\n",
    "get_batch(de_sent_reordered[idx:idx+5], de_lens_reordered[idx:idx+5])"
   ]
  },
  {
   "cell_type": "markdown",
   "metadata": {
    "id": "zS8kmgQ4Ax2P"
   },
   "source": [
    "## Training"
   ]
  },
  {
   "cell_type": "code",
   "execution_count": 54,
   "metadata": {
    "colab": {
     "base_uri": "https://localhost:8080/"
    },
    "id": "h5nTT8aUAx2Q",
    "outputId": "74b3ed4e-452a-4dc0-bd07-391aa161a965"
   },
   "outputs": [
    {
     "data": {
      "text/plain": [
       "12566"
      ]
     },
     "execution_count": 54,
     "metadata": {
      "tags": []
     },
     "output_type": "execute_result"
    }
   ],
   "source": [
    "def get_unk_idx(lang):\n",
    "    return lang['<unk>']\n",
    "\n",
    "unk_idx = get_unk_idx(de)\n",
    "unk_idx"
   ]
  },
  {
   "cell_type": "code",
   "execution_count": null,
   "metadata": {
    "id": "0bMczKI3syqq"
   },
   "outputs": [],
   "source": [
    "batch_size = 32\n",
    "global_steps = 3000\n",
    "accumulation_steps = 32\n",
    "epsls = 0.1\n",
    "vocab_size = weights_matrix_de.shape[0]\n",
    "\n",
    "checkpoint = torch.load('checkpoint3.t7')\n",
    "\n",
    "model = Model(weights_matrix_en, weights_matrix_de, dmodel=dmodel, dk=dk, dv=dv, dff=dff)\n",
    "model.to(device)\n",
    "model.load_state_dict(checkpoint['state_dict'])\n",
    "\n",
    "optimizer = torch.optim.Adam(model.parameters(), lr=1e-4)\n",
    "optimizer.load_state_dict(checkpoint['optimizer'])\n",
    "\n",
    "running_loss = checkpoint['running_loss']\n",
    "running_cleared_loss = checkpoint['running_cleared_loss']\n",
    "running_accr = checkpoint['running_accr']\n",
    "losses, cleared_losses, accrs, tms = [], [], [], []\n",
    "f_st = open('stats4.txt', 'w')\n",
    "subpath = path + 'train_prep/'\n",
    "init_step = checkpoint['epoch']\n",
    "ix, load_file, curr_file, total_files = checkpoint['ix'], checkpoint['load_file'], checkpoint['curr_file'], 52"
   ]
  },
  {
   "cell_type": "code",
   "execution_count": null,
   "metadata": {
    "colab": {
     "base_uri": "https://localhost:8080/"
    },
    "id": "CVohRT3dgvkT",
    "outputId": "0848c1a0-300a-4fa4-b95c-b5319c24c453"
   },
   "outputs": [
    {
     "name": "stderr",
     "output_type": "stream",
     "text": [
      "/usr/local/lib/python3.7/dist-packages/ipykernel_launcher.py:43: VisibleDeprecationWarning: Creating an ndarray from ragged nested sequences (which is a list-or-tuple of lists-or-tuples-or ndarrays with different lengths or shapes) is deprecated. If you meant to do this, you must specify 'dtype=object' when creating the ndarray\n"
     ]
    }
   ],
   "source": [
    "f_en, f_de = subpath + str(curr_file) + '.en', subpath + str(curr_file) + '.de'\n",
    "en_sent, en_lens = read_file(f_en)\n",
    "de_sent, de_lens = read_file(f_de)"
   ]
  },
  {
   "cell_type": "code",
   "execution_count": null,
   "metadata": {
    "id": "N1jUIi-bPmFV"
   },
   "outputs": [],
   "source": [
    "start_time = time.time()\n",
    "for step in range(init_step, global_steps * accumulation_steps):\n",
    "    if load_file:\n",
    "        f_en, f_de = subpath + str(curr_file) + '.en', subpath + str(curr_file) + '.de'\n",
    "        en_sent, en_lens = read_file(f_en)\n",
    "        de_sent, de_lens = read_file(f_de)\n",
    "        curr_file = (curr_file+1) % total_files\n",
    "        ix, load_file = 0, False\n",
    "\n",
    "    batch_en, mask_en = get_batch(en_sent[ix:ix+batch_size], en_lens[ix:ix+batch_size])\n",
    "    batch_de, mask_de = get_batch(de_sent[ix:ix+batch_size], de_lens[ix:ix+batch_size])\n",
    "    \n",
    "    batch_one_hot_en, _, _ = to_one_hot(batch_en, mask_en, en)\n",
    "    batch_one_hot_de, batch_idx_de, mask_mod_de = to_one_hot(batch_de, mask_de, de)\n",
    "    batch_one_hot_en_dv = torch.tensor(batch_one_hot_en, dtype=torch.float32).to(device)\n",
    "    batch_one_hot_de_dv = torch.tensor(batch_one_hot_de, dtype=torch.float32).to(device)\n",
    "    mask_mod_de_dv = torch.tensor(mask_mod_de[:, 1:], dtype=torch.float32).to(device)\n",
    "    \n",
    "    optimizer.zero_grad()\n",
    "    outputs = model(batch_one_hot_en_dv, batch_one_hot_de_dv[:, :-1, :])\n",
    "    \n",
    "    # outputs.shape = (batch_size, length, vocab_size)\n",
    "    smoothed_de = (1 - epsls) * batch_one_hot_de_dv[:, 1:, :] + epsls / vocab_size\n",
    "    cross_entropy_vals = -outputs * smoothed_de\n",
    "    cleared_cross_entropy_vals = -outputs * batch_one_hot_de_dv[:, 1:, :]\n",
    "    # cross_entropy_vals.shape = (batch_size, length, vocab_size)\n",
    "    cross_entropy = torch.sum(cross_entropy_vals, 2)\n",
    "    cleared_cross_entropy = torch.sum(cleared_cross_entropy_vals, 2)\n",
    "    # mask_de.shape = (batch_size, length)\n",
    "    # for not include loss for <unk> tokens and added in get_batch <end> tokens:\n",
    "    cross_entropy_filtered = cross_entropy * mask_mod_de_dv\n",
    "    cleared_cross_entropy_filtered = cleared_cross_entropy * mask_mod_de_dv\n",
    "    loss = torch.sum(cross_entropy_filtered) / torch.sum(mask_mod_de_dv)\n",
    "    cleared_loss = torch.sum(cleared_cross_entropy_filtered) / torch.sum(mask_mod_de_dv)\n",
    "          \n",
    "    pred_values = torch.argmax(outputs, 2) #.shape = (batch_size, length)\n",
    "    batch_idx_de_dv = torch.tensor(batch_idx_de[:, 1:], dtype=torch.int64).to(device)\n",
    "    accuracy_vals = (pred_values == batch_idx_de_dv) \n",
    "    # accuracy_vals.shape - (batch_size, length)\n",
    "    accr = torch.sum(accuracy_vals.float() * mask_mod_de_dv) / torch.sum(mask_mod_de_dv) \n",
    "        \n",
    "    loss.backward()\n",
    "    optimizer.step()\n",
    "        \n",
    "    running_loss += loss.item()\n",
    "    running_cleared_loss += cleared_loss.item()\n",
    "    running_accr += accr.item()\n",
    "    \n",
    "    ix += batch_size\n",
    "    if (ix >= len(en_sent)):\n",
    "        load_file = True\n",
    "\n",
    "    if (step+1) % accumulation_steps == 0:\n",
    "        end_time = time.time()\n",
    "        tm = end_time - start_time\n",
    "        running_loss = running_loss / accumulation_steps\n",
    "        running_cleared_loss = running_cleared_loss / accumulation_steps\n",
    "        running_accr = running_accr / accumulation_steps\n",
    "        losses.append(running_loss)\n",
    "        cleared_losses.append(running_cleared_loss)\n",
    "        accrs.append(running_accr)\n",
    "        tms.append(tm)\n",
    "        #print('Step: %d/%d, train loss: %.4f - %.4f, accuracy: %.4f, time: %.4f' % (step//accumulation_steps, global_steps, running_loss, running_cleared_loss, running_accr, tm)) \n",
    "        print('Step: %d/%d, train loss: %.4f - %.4f, accuracy: %.4f, time: %.4f' % (step//accumulation_steps, global_steps, running_loss, running_cleared_loss, running_accr, tm), file=f_st) \n",
    "        running_loss, running_cleared_loss, running_accr = 0., 0., 0.\n",
    "        start_time = time.time()       "
   ]
  },
  {
   "cell_type": "code",
   "execution_count": null,
   "metadata": {
    "id": "JRzSAWEX40_z"
   },
   "outputs": [],
   "source": [
    "f_st.close() "
   ]
  },
  {
   "cell_type": "code",
   "execution_count": null,
   "metadata": {
    "id": "rcnPCOJH43k1"
   },
   "outputs": [],
   "source": [
    "state = {\n",
    "        'epoch': step,\n",
    "        'running_loss': running_loss,\n",
    "        'running_cleared_loss': running_cleared_loss,\n",
    "        'running_accr': running_accr,\n",
    "        'ix': ix,\n",
    "        'load_file': load_file, \n",
    "        'curr_file': curr_file, \n",
    "        'state_dict': model.state_dict(),\n",
    "        'optimizer': optimizer.state_dict(),\n",
    "}\n",
    "savepath='checkpoint3.t7'\n",
    "torch.save(state,savepath)"
   ]
  },
  {
   "cell_type": "markdown",
   "metadata": {},
   "source": [
    "## Draw graphics"
   ]
  },
  {
   "cell_type": "code",
   "execution_count": 2,
   "metadata": {},
   "outputs": [],
   "source": [
    "from training import extract_stats"
   ]
  },
  {
   "cell_type": "code",
   "execution_count": 5,
   "metadata": {},
   "outputs": [
    {
     "data": {
      "text/plain": [
       "dict_keys(['sm_entropy', 'entropy', 'accuracy', 'time'])"
      ]
     },
     "execution_count": 5,
     "metadata": {},
     "output_type": "execute_result"
    }
   ],
   "source": [
    "stats = extract_stats('Adam(nobias_in_multihead).txt')\n",
    "stats.keys()"
   ]
  },
  {
   "cell_type": "code",
   "execution_count": 32,
   "metadata": {},
   "outputs": [
    {
     "data": {
      "image/png": "[encoded data removed]",
      "text/plain": [
       "<Figure size 1080x360 with 2 Axes>"
      ]
     },
     "metadata": {
      "needs_background": "light"
     },
     "output_type": "display_data"
    }
   ],
   "source": [
    "fg = plt.figure(figsize=(15, 5))\n",
    "steps = np.arange(len(stats['sm_entropy']))\n",
    "times = np.cumsum(stats['time']) / 60.\n",
    "xlabels = ['Iterations', 'Time (in minutes)']\n",
    "for i, x in enumerate([steps, times]):\n",
    "    plt.subplot(1, 2, 1+i)\n",
    "    plt.plot(x, stats['entropy'], label='entropy')\n",
    "    plt.plot(x, stats['sm_entropy'], label='entropy + label smooting')\n",
    "    plt.xlabel(xlabels[i], fontsize=15)\n",
    "    plt.ylabel('Loss function', fontsize=15)\n",
    "    plt.grid()\n",
    "    plt.legend(fontsize='large')\n",
    "plt.show()"
   ]
  },
  {
   "cell_type": "code",
   "execution_count": null,
   "metadata": {},
   "outputs": [],
   "source": []
  }
 ],
 "metadata": {
  "accelerator": "GPU",
  "colab": {
   "collapsed_sections": [],
   "name": "baseline.ipynb",
   "provenance": []
  },
  "kernelspec": {
   "display_name": "Python 3",
   "language": "python",
   "name": "python3"
  },
  "language_info": {
   "codemirror_mode": {
    "name": "ipython",
    "version": 3
   },
   "file_extension": ".py",
   "mimetype": "text/x-python",
   "name": "python",
   "nbconvert_exporter": "python",
   "pygments_lexer": "ipython3",
   "version": "3.7.1"
  },
  "widgets": {
   "application/vnd.jupyter.widget-state+json": {
    "0db9844d5e8b426ba702e5f0fc5c3bfa": {
     "model_module": "@jupyter-widgets/controls",
     "model_name": "HTMLModel",
     "state": {
      "_dom_classes": [],
      "_model_module": "@jupyter-widgets/controls",
      "_model_module_version": "1.5.0",
      "_model_name": "HTMLModel",
      "_view_count": null,
      "_view_module": "@jupyter-widgets/controls",
      "_view_module_version": "1.5.0",
      "_view_name": "HTMLView",
      "description": "",
      "description_tooltip": null,
      "layout": "IPY_MODEL_4fb9d88e8255497eb53c4e7defd62f25",
      "placeholder": "​",
      "style": "IPY_MODEL_b7df28eade664f1681258c64be8a2ab0",
      "value": " 31797/? [00:39&lt;00:00, 814.65it/s]"
     }
    },
    "1fad6d4ba70e4ff8b544914d4eddb24a": {
     "model_module": "@jupyter-widgets/controls",
     "model_name": "HTMLModel",
     "state": {
      "_dom_classes": [],
      "_model_module": "@jupyter-widgets/controls",
      "_model_module_version": "1.5.0",
      "_model_name": "HTMLModel",
      "_view_count": null,
      "_view_module": "@jupyter-widgets/controls",
      "_view_module_version": "1.5.0",
      "_view_name": "HTMLView",
      "description": "",
      "description_tooltip": null,
      "layout": "IPY_MODEL_c7738f2e53da468bb9eb70b321e91bb9",
      "placeholder": "​",
      "style": "IPY_MODEL_407ca7b5f3854e429c3c8847f035e0e8",
      "value": " 26034/? [00:04&lt;00:00, 5383.75it/s]"
     }
    },
    "3567d0aac95e41fba07d6f3fbe5ca415": {
     "model_module": "@jupyter-widgets/controls",
     "model_name": "ProgressStyleModel",
     "state": {
      "_model_module": "@jupyter-widgets/controls",
      "_model_module_version": "1.5.0",
      "_model_name": "ProgressStyleModel",
      "_view_count": null,
      "_view_module": "@jupyter-widgets/base",
      "_view_module_version": "1.2.0",
      "_view_name": "StyleView",
      "bar_color": null,
      "description_width": "initial"
     }
    },
    "407ca7b5f3854e429c3c8847f035e0e8": {
     "model_module": "@jupyter-widgets/controls",
     "model_name": "DescriptionStyleModel",
     "state": {
      "_model_module": "@jupyter-widgets/controls",
      "_model_module_version": "1.5.0",
      "_model_name": "DescriptionStyleModel",
      "_view_count": null,
      "_view_module": "@jupyter-widgets/base",
      "_view_module_version": "1.2.0",
      "_view_name": "StyleView",
      "description_width": ""
     }
    },
    "4fb9d88e8255497eb53c4e7defd62f25": {
     "model_module": "@jupyter-widgets/base",
     "model_name": "LayoutModel",
     "state": {
      "_model_module": "@jupyter-widgets/base",
      "_model_module_version": "1.2.0",
      "_model_name": "LayoutModel",
      "_view_count": null,
      "_view_module": "@jupyter-widgets/base",
      "_view_module_version": "1.2.0",
      "_view_name": "LayoutView",
      "align_content": null,
      "align_items": null,
      "align_self": null,
      "border": null,
      "bottom": null,
      "display": null,
      "flex": null,
      "flex_flow": null,
      "grid_area": null,
      "grid_auto_columns": null,
      "grid_auto_flow": null,
      "grid_auto_rows": null,
      "grid_column": null,
      "grid_gap": null,
      "grid_row": null,
      "grid_template_areas": null,
      "grid_template_columns": null,
      "grid_template_rows": null,
      "height": null,
      "justify_content": null,
      "justify_items": null,
      "left": null,
      "margin": null,
      "max_height": null,
      "max_width": null,
      "min_height": null,
      "min_width": null,
      "object_fit": null,
      "object_position": null,
      "order": null,
      "overflow": null,
      "overflow_x": null,
      "overflow_y": null,
      "padding": null,
      "right": null,
      "top": null,
      "visibility": null,
      "width": null
     }
    },
    "5338b943110547c0b4637232972ed16b": {
     "model_module": "@jupyter-widgets/base",
     "model_name": "LayoutModel",
     "state": {
      "_model_module": "@jupyter-widgets/base",
      "_model_module_version": "1.2.0",
      "_model_name": "LayoutModel",
      "_view_count": null,
      "_view_module": "@jupyter-widgets/base",
      "_view_module_version": "1.2.0",
      "_view_name": "LayoutView",
      "align_content": null,
      "align_items": null,
      "align_self": null,
      "border": null,
      "bottom": null,
      "display": null,
      "flex": null,
      "flex_flow": null,
      "grid_area": null,
      "grid_auto_columns": null,
      "grid_auto_flow": null,
      "grid_auto_rows": null,
      "grid_column": null,
      "grid_gap": null,
      "grid_row": null,
      "grid_template_areas": null,
      "grid_template_columns": null,
      "grid_template_rows": null,
      "height": null,
      "justify_content": null,
      "justify_items": null,
      "left": null,
      "margin": null,
      "max_height": null,
      "max_width": null,
      "min_height": null,
      "min_width": null,
      "object_fit": null,
      "object_position": null,
      "order": null,
      "overflow": null,
      "overflow_x": null,
      "overflow_y": null,
      "padding": null,
      "right": null,
      "top": null,
      "visibility": null,
      "width": null
     }
    },
    "6821175296dd4aaa8f92f288411e773e": {
     "model_module": "@jupyter-widgets/controls",
     "model_name": "FloatProgressModel",
     "state": {
      "_dom_classes": [],
      "_model_module": "@jupyter-widgets/controls",
      "_model_module_version": "1.5.0",
      "_model_name": "FloatProgressModel",
      "_view_count": null,
      "_view_module": "@jupyter-widgets/controls",
      "_view_module_version": "1.5.0",
      "_view_name": "ProgressView",
      "bar_style": "success",
      "description": "",
      "description_tooltip": null,
      "layout": "IPY_MODEL_763ff26ccf6a42cfbdba517a45098b43",
      "max": 1,
      "min": 0,
      "orientation": "horizontal",
      "style": "IPY_MODEL_3567d0aac95e41fba07d6f3fbe5ca415",
      "value": 1
     }
    },
    "6f846eff96084ee88f6d52e0feec63be": {
     "model_module": "@jupyter-widgets/controls",
     "model_name": "HBoxModel",
     "state": {
      "_dom_classes": [],
      "_model_module": "@jupyter-widgets/controls",
      "_model_module_version": "1.5.0",
      "_model_name": "HBoxModel",
      "_view_count": null,
      "_view_module": "@jupyter-widgets/controls",
      "_view_module_version": "1.5.0",
      "_view_name": "HBoxView",
      "box_style": "",
      "children": [
       "IPY_MODEL_9919bb0bd63c4bd3bc19c309df45be35",
       "IPY_MODEL_0db9844d5e8b426ba702e5f0fc5c3bfa"
      ],
      "layout": "IPY_MODEL_5338b943110547c0b4637232972ed16b"
     }
    },
    "763ff26ccf6a42cfbdba517a45098b43": {
     "model_module": "@jupyter-widgets/base",
     "model_name": "LayoutModel",
     "state": {
      "_model_module": "@jupyter-widgets/base",
      "_model_module_version": "1.2.0",
      "_model_name": "LayoutModel",
      "_view_count": null,
      "_view_module": "@jupyter-widgets/base",
      "_view_module_version": "1.2.0",
      "_view_name": "LayoutView",
      "align_content": null,
      "align_items": null,
      "align_self": null,
      "border": null,
      "bottom": null,
      "display": null,
      "flex": null,
      "flex_flow": null,
      "grid_area": null,
      "grid_auto_columns": null,
      "grid_auto_flow": null,
      "grid_auto_rows": null,
      "grid_column": null,
      "grid_gap": null,
      "grid_row": null,
      "grid_template_areas": null,
      "grid_template_columns": null,
      "grid_template_rows": null,
      "height": null,
      "justify_content": null,
      "justify_items": null,
      "left": null,
      "margin": null,
      "max_height": null,
      "max_width": null,
      "min_height": null,
      "min_width": null,
      "object_fit": null,
      "object_position": null,
      "order": null,
      "overflow": null,
      "overflow_x": null,
      "overflow_y": null,
      "padding": null,
      "right": null,
      "top": null,
      "visibility": null,
      "width": null
     }
    },
    "8f1eb6f4be874882bc9c39ace752fe41": {
     "model_module": "@jupyter-widgets/controls",
     "model_name": "ProgressStyleModel",
     "state": {
      "_model_module": "@jupyter-widgets/controls",
      "_model_module_version": "1.5.0",
      "_model_name": "ProgressStyleModel",
      "_view_count": null,
      "_view_module": "@jupyter-widgets/base",
      "_view_module_version": "1.2.0",
      "_view_name": "StyleView",
      "bar_color": null,
      "description_width": "initial"
     }
    },
    "9919bb0bd63c4bd3bc19c309df45be35": {
     "model_module": "@jupyter-widgets/controls",
     "model_name": "FloatProgressModel",
     "state": {
      "_dom_classes": [],
      "_model_module": "@jupyter-widgets/controls",
      "_model_module_version": "1.5.0",
      "_model_name": "FloatProgressModel",
      "_view_count": null,
      "_view_module": "@jupyter-widgets/controls",
      "_view_module_version": "1.5.0",
      "_view_name": "ProgressView",
      "bar_style": "success",
      "description": "",
      "description_tooltip": null,
      "layout": "IPY_MODEL_9d23f2ff3bbc43238c6ac6fecb6cb7d2",
      "max": 1,
      "min": 0,
      "orientation": "horizontal",
      "style": "IPY_MODEL_8f1eb6f4be874882bc9c39ace752fe41",
      "value": 1
     }
    },
    "9d23f2ff3bbc43238c6ac6fecb6cb7d2": {
     "model_module": "@jupyter-widgets/base",
     "model_name": "LayoutModel",
     "state": {
      "_model_module": "@jupyter-widgets/base",
      "_model_module_version": "1.2.0",
      "_model_name": "LayoutModel",
      "_view_count": null,
      "_view_module": "@jupyter-widgets/base",
      "_view_module_version": "1.2.0",
      "_view_name": "LayoutView",
      "align_content": null,
      "align_items": null,
      "align_self": null,
      "border": null,
      "bottom": null,
      "display": null,
      "flex": null,
      "flex_flow": null,
      "grid_area": null,
      "grid_auto_columns": null,
      "grid_auto_flow": null,
      "grid_auto_rows": null,
      "grid_column": null,
      "grid_gap": null,
      "grid_row": null,
      "grid_template_areas": null,
      "grid_template_columns": null,
      "grid_template_rows": null,
      "height": null,
      "justify_content": null,
      "justify_items": null,
      "left": null,
      "margin": null,
      "max_height": null,
      "max_width": null,
      "min_height": null,
      "min_width": null,
      "object_fit": null,
      "object_position": null,
      "order": null,
      "overflow": null,
      "overflow_x": null,
      "overflow_y": null,
      "padding": null,
      "right": null,
      "top": null,
      "visibility": null,
      "width": null
     }
    },
    "b7df28eade664f1681258c64be8a2ab0": {
     "model_module": "@jupyter-widgets/controls",
     "model_name": "DescriptionStyleModel",
     "state": {
      "_model_module": "@jupyter-widgets/controls",
      "_model_module_version": "1.5.0",
      "_model_name": "DescriptionStyleModel",
      "_view_count": null,
      "_view_module": "@jupyter-widgets/base",
      "_view_module_version": "1.2.0",
      "_view_name": "StyleView",
      "description_width": ""
     }
    },
    "c7738f2e53da468bb9eb70b321e91bb9": {
     "model_module": "@jupyter-widgets/base",
     "model_name": "LayoutModel",
     "state": {
      "_model_module": "@jupyter-widgets/base",
      "_model_module_version": "1.2.0",
      "_model_name": "LayoutModel",
      "_view_count": null,
      "_view_module": "@jupyter-widgets/base",
      "_view_module_version": "1.2.0",
      "_view_name": "LayoutView",
      "align_content": null,
      "align_items": null,
      "align_self": null,
      "border": null,
      "bottom": null,
      "display": null,
      "flex": null,
      "flex_flow": null,
      "grid_area": null,
      "grid_auto_columns": null,
      "grid_auto_flow": null,
      "grid_auto_rows": null,
      "grid_column": null,
      "grid_gap": null,
      "grid_row": null,
      "grid_template_areas": null,
      "grid_template_columns": null,
      "grid_template_rows": null,
      "height": null,
      "justify_content": null,
      "justify_items": null,
      "left": null,
      "margin": null,
      "max_height": null,
      "max_width": null,
      "min_height": null,
      "min_width": null,
      "object_fit": null,
      "object_position": null,
      "order": null,
      "overflow": null,
      "overflow_x": null,
      "overflow_y": null,
      "padding": null,
      "right": null,
      "top": null,
      "visibility": null,
      "width": null
     }
    },
    "d4fdde1ffafc43e5938d3fff434a5f0a": {
     "model_module": "@jupyter-widgets/base",
     "model_name": "LayoutModel",
     "state": {
      "_model_module": "@jupyter-widgets/base",
      "_model_module_version": "1.2.0",
      "_model_name": "LayoutModel",
      "_view_count": null,
      "_view_module": "@jupyter-widgets/base",
      "_view_module_version": "1.2.0",
      "_view_name": "LayoutView",
      "align_content": null,
      "align_items": null,
      "align_self": null,
      "border": null,
      "bottom": null,
      "display": null,
      "flex": null,
      "flex_flow": null,
      "grid_area": null,
      "grid_auto_columns": null,
      "grid_auto_flow": null,
      "grid_auto_rows": null,
      "grid_column": null,
      "grid_gap": null,
      "grid_row": null,
      "grid_template_areas": null,
      "grid_template_columns": null,
      "grid_template_rows": null,
      "height": null,
      "justify_content": null,
      "justify_items": null,
      "left": null,
      "margin": null,
      "max_height": null,
      "max_width": null,
      "min_height": null,
      "min_width": null,
      "object_fit": null,
      "object_position": null,
      "order": null,
      "overflow": null,
      "overflow_x": null,
      "overflow_y": null,
      "padding": null,
      "right": null,
      "top": null,
      "visibility": null,
      "width": null
     }
    },
    "e8c2d01cc6dc4b8796c0650328cd4a76": {
     "model_module": "@jupyter-widgets/controls",
     "model_name": "HBoxModel",
     "state": {
      "_dom_classes": [],
      "_model_module": "@jupyter-widgets/controls",
      "_model_module_version": "1.5.0",
      "_model_name": "HBoxModel",
      "_view_count": null,
      "_view_module": "@jupyter-widgets/controls",
      "_view_module_version": "1.5.0",
      "_view_name": "HBoxView",
      "box_style": "",
      "children": [
       "IPY_MODEL_6821175296dd4aaa8f92f288411e773e",
       "IPY_MODEL_1fad6d4ba70e4ff8b544914d4eddb24a"
      ],
      "layout": "IPY_MODEL_d4fdde1ffafc43e5938d3fff434a5f0a"
     }
    }
   }
  }
 },
 "nbformat": 4,
 "nbformat_minor": 1
}
