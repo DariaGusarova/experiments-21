{
 "cells": [
  {
   "cell_type": "code",
   "execution_count": 1,
   "metadata": {},
   "outputs": [],
   "source": [
    "import numpy as np\n",
    "import pandas as pd\n",
    "import torch\n",
    "import torch.nn as nn\n",
    "from torch.optim.lr_scheduler import LambdaLR\n",
    "from copy import deepcopy\n",
    "import time \n",
    "from transformer import MultiHeadAttention, FeedForward, EncoderBlock, Encoder, DecoderBlock, Decoder, PositionalEncoding\n",
    "import matplotlib.pyplot as plt\n",
    "\n",
    "%matplotlib inline"
   ]
  },
  {
   "cell_type": "code",
   "execution_count": 2,
   "metadata": {},
   "outputs": [
    {
     "name": "stdout",
     "output_type": "stream",
     "text": [
      "Using device: cpu\n"
     ]
    }
   ],
   "source": [
    "device = torch.device('cuda' if torch.cuda.is_available() else 'cpu')\n",
    "print('Using device:', device)"
   ]
  },
  {
   "cell_type": "code",
   "execution_count": 3,
   "metadata": {},
   "outputs": [],
   "source": [
    "path = \"\""
   ]
  },
  {
   "cell_type": "markdown",
   "metadata": {},
   "source": [
    "## Blocks check"
   ]
  },
  {
   "cell_type": "code",
   "execution_count": 4,
   "metadata": {},
   "outputs": [
    {
     "data": {
      "text/plain": [
       "(0.11661911010742188, torch.Size([128, 28, 256]))"
      ]
     },
     "execution_count": 4,
     "metadata": {},
     "output_type": "execute_result"
    }
   ],
   "source": [
    "batch_size, length, dmodel, dk, dv, dff = 128, 28, 256, 32, 32, 1024\n",
    "tensor = torch.randn(batch_size, length, dmodel).to(device)\n",
    "\n",
    "model = MultiHeadAttention(dmodel=dmodel, dk=dk, dv=dv)\n",
    "model.to(device)\n",
    "start = time.time()\n",
    "curr = model(tensor, tensor, tensor, has_mask=True)\n",
    "end = time.time()\n",
    "end - start, curr.size()"
   ]
  },
  {
   "cell_type": "code",
   "execution_count": 5,
   "metadata": {},
   "outputs": [
    {
     "data": {
      "text/plain": [
       "(0.10667610168457031, torch.Size([128, 28, 256]))"
      ]
     },
     "execution_count": 5,
     "metadata": {},
     "output_type": "execute_result"
    }
   ],
   "source": [
    "model = FeedForward(dmodel=dmodel, dff=dff)\n",
    "model.to(device)\n",
    "start = time.time()\n",
    "curr = model(tensor)\n",
    "end = time.time()\n",
    "end - start, curr.size()"
   ]
  },
  {
   "cell_type": "code",
   "execution_count": 6,
   "metadata": {},
   "outputs": [
    {
     "data": {
      "text/plain": [
       "(0.23467421531677246, torch.Size([128, 28, 256]))"
      ]
     },
     "execution_count": 6,
     "metadata": {},
     "output_type": "execute_result"
    }
   ],
   "source": [
    "model = EncoderBlock(dmodel=dmodel, dk=dk, dv=dv, dff=dff)\n",
    "model.to(device)\n",
    "start = time.time()\n",
    "curr = model(tensor)\n",
    "end = time.time()\n",
    "end - start, curr.size()"
   ]
  },
  {
   "cell_type": "code",
   "execution_count": 7,
   "metadata": {},
   "outputs": [
    {
     "data": {
      "text/plain": [
       "(0.673590898513794, torch.Size([128, 28, 256]))"
      ]
     },
     "execution_count": 7,
     "metadata": {},
     "output_type": "execute_result"
    }
   ],
   "source": [
    "model = Encoder(dmodel=dmodel, dk=dk, dv=dv, dff=dff)\n",
    "model.to(device)\n",
    "start = time.time()\n",
    "curr = model(tensor)\n",
    "end = time.time()\n",
    "end - start, curr.size()"
   ]
  },
  {
   "cell_type": "code",
   "execution_count": 8,
   "metadata": {},
   "outputs": [
    {
     "data": {
      "text/plain": [
       "(0.3878788948059082, torch.Size([128, 28, 256]))"
      ]
     },
     "execution_count": 8,
     "metadata": {},
     "output_type": "execute_result"
    }
   ],
   "source": [
    "model = DecoderBlock(dmodel=dmodel, dk=dk, dv=dv, dff=dff)\n",
    "model.to(device)\n",
    "start = time.time()\n",
    "curr = model(tensor, tensor)\n",
    "end = time.time()\n",
    "end - start, curr.size()"
   ]
  },
  {
   "cell_type": "code",
   "execution_count": 9,
   "metadata": {},
   "outputs": [
    {
     "data": {
      "text/plain": [
       "(1.084536075592041, torch.Size([128, 28, 256]))"
      ]
     },
     "execution_count": 9,
     "metadata": {},
     "output_type": "execute_result"
    }
   ],
   "source": [
    "model = Decoder(dmodel=dmodel, dk=dk, dv=dv, dff=dff)\n",
    "model.to(device)\n",
    "start = time.time()\n",
    "curr = model(tensor, tensor)\n",
    "end = time.time()\n",
    "end - start, curr.size()"
   ]
  },
  {
   "cell_type": "code",
   "execution_count": 10,
   "metadata": {},
   "outputs": [
    {
     "data": {
      "text/plain": [
       "(0.04693913459777832, torch.Size([128, 28, 256]))"
      ]
     },
     "execution_count": 10,
     "metadata": {},
     "output_type": "execute_result"
    }
   ],
   "source": [
    "model = PositionalEncoding(length, dmodel)\n",
    "model.to(device)\n",
    "start = time.time()\n",
    "curr = model(tensor)\n",
    "end = time.time()\n",
    "end - start, curr.size()"
   ]
  },
  {
   "cell_type": "markdown",
   "metadata": {},
   "source": [
    "## Word2Vec Matrix"
   ]
  },
  {
   "cell_type": "code",
   "execution_count": 11,
   "metadata": {},
   "outputs": [],
   "source": [
    "from gensim.models import Word2Vec\n",
    "from tqdm import tqdm_notebook"
   ]
  },
  {
   "cell_type": "code",
   "execution_count": 12,
   "metadata": {},
   "outputs": [
    {
     "name": "stderr",
     "output_type": "stream",
     "text": [
      "/usr/local/lib/python3.7/site-packages/ipykernel_launcher.py:6: TqdmDeprecationWarning: This function will be removed in tqdm==5.0.0\n",
      "Please use `tqdm.notebook.tqdm` instead of `tqdm.tqdm_notebook`\n",
      "  \n"
     ]
    },
    {
     "data": {
      "application/vnd.jupyter.widget-view+json": {
       "model_id": "e2d1f8f332794e89b6cdd7816f217314",
       "version_major": 2,
       "version_minor": 0
      },
      "text/plain": [
       "0it [00:00, ?it/s]"
      ]
     },
     "metadata": {},
     "output_type": "display_data"
    },
    {
     "name": "stderr",
     "output_type": "stream",
     "text": [
      "/usr/local/lib/python3.7/site-packages/ipykernel_launcher.py:7: DeprecationWarning: Call to deprecated `__getitem__` (Method will be removed in 4.0.0, use self.wv.__getitem__() instead).\n",
      "  import sys\n"
     ]
    },
    {
     "data": {
      "text/plain": [
       "((26034, 256), 26034)"
      ]
     },
     "execution_count": 12,
     "metadata": {},
     "output_type": "execute_result"
    }
   ],
   "source": [
    "dmodel = 256\n",
    "model = Word2Vec.load(path + 'word2vec_en' + str(dmodel) + '.model')\n",
    "vocab_size = len(model.wv.vocab)\n",
    "weights_matrix_en = np.zeros((vocab_size, dmodel))\n",
    "en = {}\n",
    "for i, x in tqdm_notebook(enumerate(model.wv.vocab.keys())):\n",
    "    weights_matrix_en[i] = model[x]  \n",
    "    en[x] = i\n",
    "weights_matrix_en.shape, len(en)"
   ]
  },
  {
   "cell_type": "code",
   "execution_count": 13,
   "metadata": {},
   "outputs": [
    {
     "name": "stderr",
     "output_type": "stream",
     "text": [
      "/usr/local/lib/python3.7/site-packages/ipykernel_launcher.py:5: TqdmDeprecationWarning: This function will be removed in tqdm==5.0.0\n",
      "Please use `tqdm.notebook.tqdm` instead of `tqdm.tqdm_notebook`\n",
      "  \"\"\"\n"
     ]
    },
    {
     "data": {
      "application/vnd.jupyter.widget-view+json": {
       "model_id": "6b2e2e22cb8d4a088c7e7bfa361f073a",
       "version_major": 2,
       "version_minor": 0
      },
      "text/plain": [
       "0it [00:00, ?it/s]"
      ]
     },
     "metadata": {},
     "output_type": "display_data"
    },
    {
     "name": "stderr",
     "output_type": "stream",
     "text": [
      "/usr/local/lib/python3.7/site-packages/ipykernel_launcher.py:6: DeprecationWarning: Call to deprecated `__getitem__` (Method will be removed in 4.0.0, use self.wv.__getitem__() instead).\n",
      "  \n"
     ]
    },
    {
     "data": {
      "text/plain": [
       "((31797, 256), 31797)"
      ]
     },
     "execution_count": 13,
     "metadata": {},
     "output_type": "execute_result"
    }
   ],
   "source": [
    "model = Word2Vec.load(path + 'word2vec_de' + str(dmodel) + '.model')\n",
    "vocab_size = len(model.wv.vocab)\n",
    "weights_matrix_de = np.zeros((vocab_size, dmodel))\n",
    "de = {}\n",
    "for i, x in tqdm_notebook(enumerate(model.wv.vocab.keys())):\n",
    "    weights_matrix_de[i] = model[x]   \n",
    "    de[x] = i\n",
    "weights_matrix_de.shape, len(de)"
   ]
  },
  {
   "cell_type": "markdown",
   "metadata": {},
   "source": [
    "## Model"
   ]
  },
  {
   "cell_type": "code",
   "execution_count": 14,
   "metadata": {},
   "outputs": [],
   "source": [
    "class Model(nn.Module):\n",
    "    def __init__(self, weights_matrix_en, weights_matrix_de, h=8, dmodel=512, dk=64, dv=64, dff=2048, pdropout=0.1):\n",
    "        super().__init__()\n",
    "        self.dmodel = dmodel\n",
    "        self.pdropout = pdropout\n",
    "        self.encoder = Encoder(h, dmodel, dk, dv, dff, pdropout)\n",
    "        self.decoder = Decoder(h, dmodel, dk, dv, dff, pdropout)\n",
    "        self.input_embedding = torch.tensor(weights_matrix_en, dtype=torch.float32, requires_grad=False).to(device)\n",
    "        self.output_embedding = torch.tensor(weights_matrix_de, dtype=torch.float32, requires_grad=False).to(device)\n",
    "    \n",
    "    def forward(self, inputs, outputs):\n",
    "        # input embedding\n",
    "        x_emb = torch.matmul(inputs, self.input_embedding) * np.sqrt(self.dmodel)\n",
    "        x_positionalenc = PositionalEncoding(x_emb.size()[1], self.dmodel)(x_emb) \n",
    "        x_dropout = nn.Dropout(p=self.pdropout)(x_positionalenc)\n",
    "        x_enc = self.encoder(x_dropout)\n",
    "        # output embedding\n",
    "        y_emb = torch.matmul(outputs, self.output_embedding) * np.sqrt(self.dmodel)\n",
    "        y_positionalenc = PositionalEncoding(outputs.size()[1], self.dmodel)(y_emb)\n",
    "        y_dropout = nn.Dropout(p=self.pdropout)(y_positionalenc)\n",
    "        dec = self.decoder(x_enc, y_dropout)\n",
    "        # linear \n",
    "        current = torch.matmul(dec, torch.transpose(self.output_embedding, 0, 1))\n",
    "        result = nn.LogSoftmax(dim=2)(current)\n",
    "        return result"
   ]
  },
  {
   "cell_type": "code",
   "execution_count": 15,
   "metadata": {},
   "outputs": [
    {
     "data": {
      "text/plain": [
       "(5.294080972671509, torch.Size([128, 28, 31797]))"
      ]
     },
     "execution_count": 15,
     "metadata": {},
     "output_type": "execute_result"
    }
   ],
   "source": [
    "tensor_x = torch.randn(batch_size, length, weights_matrix_en.shape[0]).to(device)\n",
    "tensor_y = torch.randn(batch_size, length, weights_matrix_de.shape[0]).to(device)\n",
    "model = Model(weights_matrix_en, weights_matrix_de, dmodel=dmodel, dk=dk, dv=dv, dff=dff)\n",
    "model.to(device)\n",
    "start = time.time()\n",
    "curr = model(tensor_x, tensor_y)\n",
    "end = time.time()\n",
    "end - start, curr.size()"
   ]
  },
  {
   "cell_type": "code",
   "execution_count": 16,
   "metadata": {},
   "outputs": [
    {
     "name": "stdout",
     "output_type": "stream",
     "text": [
      "Total Trainable Params: 5521920\n",
      "Total Trainable Params: 2366208\n",
      "Total Trainable Params: 3155712\n"
     ]
    },
    {
     "data": {
      "text/plain": [
       "(5.52192, 2.366208, 3.155712, 1.0)"
      ]
     },
     "execution_count": 16,
     "metadata": {},
     "output_type": "execute_result"
    }
   ],
   "source": [
    "from prettytable import PrettyTable\n",
    "\n",
    "def count_parameters(model, print_table=True):\n",
    "    table = PrettyTable([\"Modules\", \"Parameters\"])\n",
    "    total_params = 0\n",
    "    for name, parameter in model.named_parameters():\n",
    "        if not parameter.requires_grad: continue\n",
    "        param = parameter.numel()\n",
    "        table.add_row([name, param])\n",
    "        total_params+=param\n",
    "    if print_table:\n",
    "        print(table)\n",
    "    print(f\"Total Trainable Params: {total_params}\")\n",
    "    return total_params\n",
    "       \n",
    "res = count_parameters(model, print_table=False)\n",
    "res_enc = count_parameters(Encoder(dmodel=dmodel, dk=dk, dv=dv, dff=dff), print_table=False)\n",
    "res_dec = count_parameters(Decoder(dmodel=dmodel, dk=dk, dv=dv, dff=dff), print_table=False)\n",
    "res / 10**6, res_enc / 10**6, res_dec / 10**6, (res_enc + res_dec) / res"
   ]
  },
  {
   "cell_type": "markdown",
   "metadata": {},
   "source": [
    "## Training supports"
   ]
  },
  {
   "cell_type": "code",
   "execution_count": 17,
   "metadata": {},
   "outputs": [],
   "source": [
    "from training import to_one_hot, read_file, read_files, shuffle, get_batch"
   ]
  },
  {
   "cell_type": "code",
   "execution_count": 18,
   "metadata": {},
   "outputs": [
    {
     "data": {
      "text/plain": [
       "((2, 2, 26034), (2, 2), (2, 2), array([[   4.,  902.],\n",
       "        [1167., 1652.]]), array([[1., 1.],\n",
       "        [1., 1.]]), array([[1., 1.],\n",
       "        [1., 1.]]))"
      ]
     },
     "execution_count": 18,
     "metadata": {},
     "output_type": "execute_result"
    }
   ],
   "source": [
    "batch = [['the', 'result'], ['future', 'efforts']]\n",
    "batch, batch_idx, mask_mod = to_one_hot(batch, np.ones((2, 2)), en)\n",
    "batch.shape, batch_idx.shape, mask_mod.shape, batch_idx, mask_mod, batch.sum(-1)"
   ]
  },
  {
   "cell_type": "code",
   "execution_count": 19,
   "metadata": {},
   "outputs": [
    {
     "name": "stderr",
     "output_type": "stream",
     "text": [
      "/Users/mak/experiments-21/training.py:43: VisibleDeprecationWarning: Creating an ndarray from ragged nested sequences (which is a list-or-tuple of lists-or-tuples-or ndarrays with different lengths or shapes) is deprecated. If you meant to do this, you must specify 'dtype=object' when creating the ndarray\n",
      "  sent = np.array(sent)\n"
     ]
    },
    {
     "data": {
      "text/plain": [
       "(40031, 40031, 40031, 40031)"
      ]
     },
     "execution_count": 19,
     "metadata": {},
     "output_type": "execute_result"
    }
   ],
   "source": [
    "en_sent, de_sent, en_lens, de_lens = read_files(path + 'valid_prep.en', path + 'valid_prep.de')\n",
    "len(en_sent), len(de_sent), len(en_lens), len(de_lens)"
   ]
  },
  {
   "cell_type": "code",
   "execution_count": 20,
   "metadata": {},
   "outputs": [
    {
     "data": {
      "text/plain": [
       "(['<start>', 'i', 'would', 'see', 'it', 'differently', '<end>'],\n",
       " ['<start>', 'ich', 'sehe', 'das', 'anders', '<end>'])"
      ]
     },
     "execution_count": 20,
     "metadata": {},
     "output_type": "execute_result"
    }
   ],
   "source": [
    "idx = 10**4+1\n",
    "en_sent[idx], de_sent[idx]"
   ]
  },
  {
   "cell_type": "code",
   "execution_count": 21,
   "metadata": {},
   "outputs": [],
   "source": [
    "en_sent_reordered, de_sent_reordered, en_lens_reordered, de_lens_reordered = shuffle(en_sent, de_sent, en_lens, de_lens)"
   ]
  },
  {
   "cell_type": "code",
   "execution_count": 22,
   "metadata": {},
   "outputs": [
    {
     "data": {
      "text/plain": [
       "(['<start>', 'i', 'would', 'see', 'it', 'differently', '<end>'],\n",
       " ['<start>', 'ich', 'sehe', 'das', 'anders', '<end>'])"
      ]
     },
     "execution_count": 22,
     "metadata": {},
     "output_type": "execute_result"
    }
   ],
   "source": [
    "en_sent[idx], de_sent[idx]"
   ]
  },
  {
   "cell_type": "code",
   "execution_count": 23,
   "metadata": {
    "scrolled": true
   },
   "outputs": [
    {
     "data": {
      "text/plain": [
       "(['<start>',\n",
       "  'we',\n",
       "  'like',\n",
       "  'or',\n",
       "  'dis@@',\n",
       "  'like',\n",
       "  'the',\n",
       "  'characters',\n",
       "  'some',\n",
       "  'faces',\n",
       "  'appeal',\n",
       "  'to',\n",
       "  'us',\n",
       "  'others',\n",
       "  'less',\n",
       "  'so',\n",
       "  '<end>'],\n",
       " ['<start>',\n",
       "  'wir',\n",
       "  'verteilen',\n",
       "  'sympath@@',\n",
       "  'ien',\n",
       "  'und',\n",
       "  'anti@@',\n",
       "  'path@@',\n",
       "  'ien',\n",
       "  'einzelne',\n",
       "  'gesich@@',\n",
       "  'ter',\n",
       "  'sprechen',\n",
       "  'uns',\n",
       "  'an',\n",
       "  'andere',\n",
       "  'weniger',\n",
       "  '<end>'])"
      ]
     },
     "execution_count": 23,
     "metadata": {},
     "output_type": "execute_result"
    }
   ],
   "source": [
    "en_sent_reordered[idx], de_sent_reordered[idx]"
   ]
  },
  {
   "cell_type": "code",
   "execution_count": 24,
   "metadata": {
    "scrolled": true
   },
   "outputs": [
    {
     "data": {
      "text/plain": [
       "([['<start>', 'long', 'live', 'the', 'iraqi', 'nation', '<end>', '<end>'],\n",
       "  ['<start>', 'what', 'will', 'this', 'expert', 'report', 'find', '<end>'],\n",
       "  ['<start>', 'that', 'would', 'also', 'raise', 'problems', '<end>', '<end>'],\n",
       "  ['<start>', 'the', 'presidents', 'signed', 'the', 'legal', 'acts', '<end>'],\n",
       "  ['<start>', 'login', 'here', 'or', 'register', 'your', 'details', '<end>']],\n",
       " array([[1., 1., 1., 1., 1., 1., 1., 0.],\n",
       "        [1., 1., 1., 1., 1., 1., 1., 1.],\n",
       "        [1., 1., 1., 1., 1., 1., 1., 0.],\n",
       "        [1., 1., 1., 1., 1., 1., 1., 1.],\n",
       "        [1., 1., 1., 1., 1., 1., 1., 1.]]))"
      ]
     },
     "execution_count": 24,
     "metadata": {},
     "output_type": "execute_result"
    }
   ],
   "source": [
    "idx = 500\n",
    "get_batch(en_sent_reordered[idx:idx+5], en_lens_reordered[idx:idx+5])"
   ]
  },
  {
   "cell_type": "code",
   "execution_count": 25,
   "metadata": {
    "scrolled": true
   },
   "outputs": [
    {
     "data": {
      "text/plain": [
       "([['<start>', 'es', 'le@@', 'be', 'die', 'irakische', 'nation', '<end>'],\n",
       "  ['<start>',\n",
       "   'was',\n",
       "   'bringt',\n",
       "   'dieser',\n",
       "   'experten@@',\n",
       "   'bericht',\n",
       "   '<end>',\n",
       "   '<end>'],\n",
       "  ['<start>', 'aber', 'auch', 'das', 'würde', 'probleme', 'schaffen', '<end>'],\n",
       "  ['<start>',\n",
       "   'die',\n",
       "   'präsidenten',\n",
       "   'unterzeichnen',\n",
       "   'die',\n",
       "   'rechtsakte',\n",
       "   '<end>',\n",
       "   '<end>'],\n",
       "  ['<start>',\n",
       "   'hier',\n",
       "   'anmelden',\n",
       "   'oder',\n",
       "   'hier',\n",
       "   'registrieren',\n",
       "   '<end>',\n",
       "   '<end>']],\n",
       " array([[1., 1., 1., 1., 1., 1., 1., 1.],\n",
       "        [1., 1., 1., 1., 1., 1., 1., 0.],\n",
       "        [1., 1., 1., 1., 1., 1., 1., 1.],\n",
       "        [1., 1., 1., 1., 1., 1., 1., 0.],\n",
       "        [1., 1., 1., 1., 1., 1., 1., 0.]]))"
      ]
     },
     "execution_count": 25,
     "metadata": {},
     "output_type": "execute_result"
    }
   ],
   "source": [
    "idx = 500\n",
    "get_batch(de_sent_reordered[idx:idx+5], de_lens_reordered[idx:idx+5])"
   ]
  },
  {
   "cell_type": "markdown",
   "metadata": {},
   "source": [
    "## Training"
   ]
  },
  {
   "cell_type": "code",
   "execution_count": 26,
   "metadata": {},
   "outputs": [
    {
     "data": {
      "image/png": "[encoded data removed]",
      "text/plain": [
       "<Figure size 864x504 with 1 Axes>"
      ]
     },
     "metadata": {
      "needs_background": "light"
     },
     "output_type": "display_data"
    }
   ],
   "source": [
    "dmodel, warmupsteps = 256, 2000\n",
    "lambda1 = lambda epoch: 1./np.sqrt(dmodel) * min(1./np.sqrt(epoch+1), (epoch+1) / warmupsteps / np.sqrt(warmupsteps))\n",
    "grid = np.arange(warmupsteps*4)\n",
    "values = list(map(lambda1, grid))\n",
    "\n",
    "plt.figure(figsize=(12, 7))\n",
    "plt.plot(grid, values)\n",
    "plt.grid()\n",
    "plt.show()"
   ]
  },
  {
   "cell_type": "code",
   "execution_count": 27,
   "metadata": {},
   "outputs": [
    {
     "data": {
      "text/plain": [
       "12566"
      ]
     },
     "execution_count": 27,
     "metadata": {},
     "output_type": "execute_result"
    }
   ],
   "source": [
    "def get_unk_idx(lang):\n",
    "    return lang['<unk>']\n",
    "\n",
    "unk_idx = get_unk_idx(de)\n",
    "unk_idx"
   ]
  },
  {
   "cell_type": "code",
   "execution_count": 28,
   "metadata": {},
   "outputs": [],
   "source": [
    "from training import separate_dataset"
   ]
  },
  {
   "cell_type": "code",
   "execution_count": 29,
   "metadata": {},
   "outputs": [
    {
     "name": "stdout",
     "output_type": "stream",
     "text": [
      "mkdir: valid_prep: File exists\n",
      "Loading dataset ...\n",
      "Dataset loaded.\n",
      "Shuffling dataset ...\n",
      "Dataset shuffled.\n",
      "Shuffling batches ...\n",
      "Batches shuffled.\n",
      "Writing separated dataset ...\n"
     ]
    },
    {
     "data": {
      "application/vnd.jupyter.widget-view+json": {
       "model_id": "4a3bea633b91476bb0fdf3ba5f7755e6",
       "version_major": 2,
       "version_minor": 0
      },
      "text/plain": [
       "  0%|          | 0/312 [00:00<?, ?it/s]"
      ]
     },
     "metadata": {},
     "output_type": "display_data"
    },
    {
     "name": "stdout",
     "output_type": "stream",
     "text": [
      "Separated dataset was written.\n"
     ]
    }
   ],
   "source": [
    "batch_size = 128\n",
    "\n",
    "subpath = 'valid_prep'\n",
    "folder = path + subpath\n",
    "!mkdir $folder\n",
    "separate_dataset(path, subpath, batch_size, 100)"
   ]
  },
  {
   "cell_type": "code",
   "execution_count": null,
   "metadata": {},
   "outputs": [
    {
     "name": "stdout",
     "output_type": "stream",
     "text": [
      "mkdir: train_prep: File exists\n",
      "Loading dataset ...\n",
      "Dataset loaded.\n",
      "Shuffling dataset ...\n",
      "Dataset shuffled.\n",
      "Shuffling batches ...\n",
      "Batches shuffled.\n",
      "Writing separated dataset ...\n"
     ]
    },
    {
     "data": {
      "application/vnd.jupyter.widget-view+json": {
       "model_id": "4735c71fc942408d9b2a2905d8d47ed8",
       "version_major": 2,
       "version_minor": 0
      },
      "text/plain": [
       "  0%|          | 0/30926 [00:00<?, ?it/s]"
      ]
     },
     "metadata": {},
     "output_type": "display_data"
    }
   ],
   "source": [
    "subpath = 'train_prep'\n",
    "folder = path + subpath\n",
    "!mkdir $folder\n",
    "separate_dataset(path, subpath, batch_size, 600)"
   ]
  },
  {
   "cell_type": "code",
   "execution_count": 29,
   "metadata": {},
   "outputs": [],
   "source": [
    "batch_size = 32\n",
    "global_steps = 500\n",
    "accumulation_steps = 32\n",
    "epsls = 0.1\n",
    "vocab_size = weights_matrix_de.shape[0]\n",
    "\n",
    "model = Model(weights_matrix_en, weights_matrix_de, dmodel=dmodel, dk=dk, dv=dv, dff=dff)\n",
    "model.to(device)\n",
    "optimizer = torch.optim.Adam(model.parameters(), lr=lambda1(0.), betas=(0.9, 0.98), eps=1e-9)\n",
    "scheduler = LambdaLR(optimizer, lr_lambda=[lambda1])\n",
    "\n",
    "running_loss = 0.0\n",
    "running_accr = 0.0\n",
    "losses, accrs, tms = [], [], []\n",
    "subpath = path + 'train_prep/'\n",
    "ix, load_file, curr_file, total_files = 0, True, 0, 52"
   ]
  },
  {
   "cell_type": "code",
   "execution_count": 30,
   "metadata": {},
   "outputs": [
    {
     "name": "stdout",
     "output_type": "stream",
     "text": [
      "Step: 0/500, train loss: 8031.5110, accuracy: 0.0007, time: 87.5028\n",
      "Step: 1/500, train loss: 8127.3919, accuracy: 0.0014, time: 118.5843\n"
     ]
    },
    {
     "ename": "KeyboardInterrupt",
     "evalue": "",
     "output_type": "error",
     "traceback": [
      "\u001b[0;31m---------------------------------------------------------------------------\u001b[0m",
      "\u001b[0;31mKeyboardInterrupt\u001b[0m                         Traceback (most recent call last)",
      "\u001b[0;32m<ipython-input-30-58ef2506d777>\u001b[0m in \u001b[0;36m<module>\u001b[0;34m\u001b[0m\n\u001b[1;32m     14\u001b[0m     \u001b[0mbatch_one_hot_de\u001b[0m\u001b[0;34m,\u001b[0m \u001b[0mbatch_idx_de\u001b[0m\u001b[0;34m,\u001b[0m \u001b[0mmask_mod_de\u001b[0m \u001b[0;34m=\u001b[0m \u001b[0mto_one_hot\u001b[0m\u001b[0;34m(\u001b[0m\u001b[0mbatch_de\u001b[0m\u001b[0;34m,\u001b[0m \u001b[0mmask_de\u001b[0m\u001b[0;34m,\u001b[0m \u001b[0mde\u001b[0m\u001b[0;34m)\u001b[0m\u001b[0;34m\u001b[0m\u001b[0;34m\u001b[0m\u001b[0m\n\u001b[1;32m     15\u001b[0m     \u001b[0mbatch_one_hot_en_dv\u001b[0m \u001b[0;34m=\u001b[0m \u001b[0mtorch\u001b[0m\u001b[0;34m.\u001b[0m\u001b[0mtensor\u001b[0m\u001b[0;34m(\u001b[0m\u001b[0mbatch_one_hot_en\u001b[0m\u001b[0;34m,\u001b[0m \u001b[0mdtype\u001b[0m\u001b[0;34m=\u001b[0m\u001b[0mtorch\u001b[0m\u001b[0;34m.\u001b[0m\u001b[0mfloat32\u001b[0m\u001b[0;34m)\u001b[0m\u001b[0;34m.\u001b[0m\u001b[0mto\u001b[0m\u001b[0;34m(\u001b[0m\u001b[0mdevice\u001b[0m\u001b[0;34m)\u001b[0m\u001b[0;34m\u001b[0m\u001b[0;34m\u001b[0m\u001b[0m\n\u001b[0;32m---> 16\u001b[0;31m     \u001b[0mbatch_one_hot_de_dv\u001b[0m \u001b[0;34m=\u001b[0m \u001b[0mtorch\u001b[0m\u001b[0;34m.\u001b[0m\u001b[0mtensor\u001b[0m\u001b[0;34m(\u001b[0m\u001b[0mbatch_one_hot_de\u001b[0m\u001b[0;34m,\u001b[0m \u001b[0mdtype\u001b[0m\u001b[0;34m=\u001b[0m\u001b[0mtorch\u001b[0m\u001b[0;34m.\u001b[0m\u001b[0mfloat32\u001b[0m\u001b[0;34m)\u001b[0m\u001b[0;34m.\u001b[0m\u001b[0mto\u001b[0m\u001b[0;34m(\u001b[0m\u001b[0mdevice\u001b[0m\u001b[0;34m)\u001b[0m\u001b[0;34m\u001b[0m\u001b[0;34m\u001b[0m\u001b[0m\n\u001b[0m\u001b[1;32m     17\u001b[0m     \u001b[0mmask_mod_de_dv\u001b[0m \u001b[0;34m=\u001b[0m \u001b[0mtorch\u001b[0m\u001b[0;34m.\u001b[0m\u001b[0mtensor\u001b[0m\u001b[0;34m(\u001b[0m\u001b[0mmask_mod_de\u001b[0m\u001b[0;34m[\u001b[0m\u001b[0;34m:\u001b[0m\u001b[0;34m,\u001b[0m \u001b[0;36m1\u001b[0m\u001b[0;34m:\u001b[0m\u001b[0;34m]\u001b[0m\u001b[0;34m,\u001b[0m \u001b[0mdtype\u001b[0m\u001b[0;34m=\u001b[0m\u001b[0mtorch\u001b[0m\u001b[0;34m.\u001b[0m\u001b[0mfloat32\u001b[0m\u001b[0;34m)\u001b[0m\u001b[0;34m.\u001b[0m\u001b[0mto\u001b[0m\u001b[0;34m(\u001b[0m\u001b[0mdevice\u001b[0m\u001b[0;34m)\u001b[0m\u001b[0;34m\u001b[0m\u001b[0;34m\u001b[0m\u001b[0m\n\u001b[1;32m     18\u001b[0m \u001b[0;34m\u001b[0m\u001b[0m\n",
      "\u001b[0;31mKeyboardInterrupt\u001b[0m: "
     ]
    }
   ],
   "source": [
    "start_time = time.time()\n",
    "for step in range(global_steps * accumulation_steps):\n",
    "    if load_file:\n",
    "        f_en, f_de = subpath + str(curr_file) + '.en', subpath + str(curr_file) + '.de'\n",
    "        en_sent, en_lens = read_file(f_en)\n",
    "        de_sent, de_lens = read_file(f_de)\n",
    "        curr_file = (curr_file+1) % total_files\n",
    "        ix, load_file = 0, False\n",
    "\n",
    "    batch_en, mask_en = get_batch(en_sent[ix:ix+batch_size], en_lens[ix:ix+batch_size])\n",
    "    batch_de, mask_de = get_batch(de_sent[ix:ix+batch_size], de_lens[ix:ix+batch_size])\n",
    "    \n",
    "    batch_one_hot_en, _, _ = to_one_hot(batch_en, mask_en, en)\n",
    "    batch_one_hot_de, batch_idx_de, mask_mod_de = to_one_hot(batch_de, mask_de, de)\n",
    "    batch_one_hot_en_dv = torch.tensor(batch_one_hot_en, dtype=torch.float32).to(device)\n",
    "    batch_one_hot_de_dv = torch.tensor(batch_one_hot_de, dtype=torch.float32).to(device)\n",
    "    mask_mod_de_dv = torch.tensor(mask_mod_de[:, 1:], dtype=torch.float32).to(device)\n",
    "    \n",
    "    outputs = model(batch_one_hot_en_dv, batch_one_hot_de_dv[:, :-1, :])\n",
    "    \n",
    "    # outputs.shape = (batch_size, length, vocab_size)\n",
    "    smoothed_de = (1 - epsls) * batch_one_hot_de_dv[:, 1:, :] + epsls / vocab_size\n",
    "    cross_entropy_vals = -outputs * smoothed_de\n",
    "    # cross_entropy_vals.shape = (batch_size, length, vocab_size)\n",
    "    cross_entropy = torch.sum(cross_entropy_vals, 2)\n",
    "    # mask_de.shape = (batch_size, length)\n",
    "    # for not include loss for <unk> tokens and added in get_batch <end> tokens:\n",
    "    cross_entropy_filtered = cross_entropy * mask_mod_de_dv\n",
    "    loss = torch.sum(cross_entropy_filtered) / torch.sum(mask_mod_de_dv) / accumulation_steps\n",
    "          \n",
    "    pred_values = torch.argmax(outputs, 2) #.shape = (batch_size, length)\n",
    "    batch_idx_de_dv = torch.tensor(batch_idx_de[:, 1:], dtype=torch.int64).to(device)\n",
    "    accuracy_vals = (pred_values == batch_idx_de_dv) \n",
    "    # accuracy_vals.shape - (batch_size, length)\n",
    "    accr = torch.sum(accuracy_vals.float() * mask_mod_de_dv) / torch.sum(mask_mod_de_dv) / accumulation_steps\n",
    "        \n",
    "    loss.backward()\n",
    "        \n",
    "    running_loss += loss.item()\n",
    "    running_accr += accr.item()\n",
    "    \n",
    "    ix += batch_size\n",
    "    if (ix >= len(en_sent)):\n",
    "        load_file = True\n",
    "\n",
    "    if (step+1) % accumulation_steps == 0:\n",
    "        optimizer.step()\n",
    "        scheduler.step()\n",
    "        optimizer.zero_grad()\n",
    "        end_time = time.time()\n",
    "        tm = end_time - start_time\n",
    "        losses.append(running_loss)\n",
    "        accrs.append(running_accr)\n",
    "        tms.append(tm)\n",
    "        print('Step: %d/%d, train loss: %.4f, accuracy: %.4f, time: %.4f' % (step//accumulation_steps, global_steps, running_loss, running_accr, tm)) \n",
    "        running_loss, running_acr = 0., 0.\n",
    "        start_time = time.time()"
   ]
  },
  {
   "cell_type": "code",
   "execution_count": null,
   "metadata": {},
   "outputs": [],
   "source": []
  }
 ],
 "metadata": {
  "kernelspec": {
   "display_name": "Python 3",
   "language": "python",
   "name": "python3"
  },
  "language_info": {
   "codemirror_mode": {
    "name": "ipython",
    "version": 3
   },
   "file_extension": ".py",
   "mimetype": "text/x-python",
   "name": "python",
   "nbconvert_exporter": "python",
   "pygments_lexer": "ipython3",
   "version": "3.7.1"
  }
 },
 "nbformat": 4,
 "nbformat_minor": 2
}
